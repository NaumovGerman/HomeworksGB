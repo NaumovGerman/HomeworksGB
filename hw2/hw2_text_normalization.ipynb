{
 "cells": [
  {
   "cell_type": "code",
   "execution_count": 6,
   "metadata": {
    "executionInfo": {
     "elapsed": 323,
     "status": "ok",
     "timestamp": 1721921124435,
     "user": {
      "displayName": "Герман Наумов",
      "userId": "14079017463511942105"
     },
     "user_tz": -180
    },
    "id": "Z_iQDb-cac9P"
   },
   "outputs": [],
   "source": [
    "import numpy as np\n",
    "from sklearn.model_selection import train_test_split\n",
    "import pandas as pd\n",
    "import spacy\n",
    "import nltk\n",
    "from spacy.lang.ru.examples import sentences\n",
    "from nltk.corpus import stopwords\n",
    "from multiprocessing import Pool\n",
    "from tqdm import tqdm\n",
    "from sklearn.preprocessing import LabelEncoder\n",
    "RAND = 10"
   ]
  },
  {
   "cell_type": "code",
   "execution_count": 10,
   "metadata": {
    "executionInfo": {
     "elapsed": 6099,
     "status": "ok",
     "timestamp": 1721921452669,
     "user": {
      "displayName": "Герман Наумов",
      "userId": "14079017463511942105"
     },
     "user_tz": -180
    },
    "id": "9L6u9RJcatYx"
   },
   "outputs": [],
   "source": [
    "df = pd.read_excel('dataset.xlsx')"
   ]
  },
  {
   "cell_type": "code",
   "execution_count": 11,
   "metadata": {
    "colab": {
     "base_uri": "https://localhost:8080/",
     "height": 423
    },
    "executionInfo": {
     "elapsed": 967,
     "status": "ok",
     "timestamp": 1721921461643,
     "user": {
      "displayName": "Герман Наумов",
      "userId": "14079017463511942105"
     },
     "user_tz": -180
    },
    "id": "USyO6N74hobZ",
    "outputId": "9ac72abe-c751-43a6-9476-f8559d8e15fa"
   },
   "outputs": [
    {
     "data": {
      "application/vnd.google.colaboratory.intrinsic+json": {
       "summary": "{\n  \"name\": \"df\",\n  \"rows\": 53198,\n  \"fields\": [\n    {\n      \"column\": \"oid\",\n      \"properties\": {\n        \"dtype\": \"number\",\n        \"std\": 284580388,\n        \"min\": 16594,\n        \"max\": 999711263,\n        \"num_unique_values\": 5979,\n        \"samples\": [\n          763928186,\n          479459844,\n          33588696\n        ],\n        \"semantic_type\": \"\",\n        \"description\": \"\"\n      }\n    },\n    {\n      \"column\": \"text\",\n      \"properties\": {\n        \"dtype\": \"string\",\n        \"num_unique_values\": 47973,\n        \"samples\": [\n          \"MotoGP Atokenoid \\u0440\\u0430\\u0441\\u0448\\u0438\\u0440\\u044f\\u0435\\u0442 \\u0441\\u0432\\u043e\\u0435 \\u043f\\u0440\\u0438\\u0441\\u0443\\u0442\\u0441\\u0442\\u0432\\u0438\\u0435 \\u0432 \\u0411\\u043e\\u043b\\u044c\\u0448\\u0438\\u0445 \\u041f\\u0440\\u0438\\u0437\\u0430\\u0445 \\u0441 \\u043d\\u043e\\u0432\\u044b\\u043c \\u0448\\u043b\\u0435\\u043c\\u043e\\u043c \\u0442\\u043e\\u043f\\u043e\\u0432\\u043e\\u0439 \\u043a\\u0430\\u0442\\u0435\\u0433\\u043e\\u0440\\u0438\\u0438 \\u041d\\u0430 \\u0442\\u0435\\u0441\\u0442\\u0430\\u0445 IRTA MotoGP \\u0432 \\u041c\\u0438\\u0437\\u0430\\u043d\\u043e \\u0438\\u0442\\u0430\\u043b\\u044c\\u044f\\u043d\\u0441\\u043a\\u0438\\u0439 \\u043f\\u0440\\u043e\\u0438\\u0437\\u0432\\u043e\\u0434\\u0438\\u0442\\u0435\\u043b\\u044c \\u0438 \\u0440\\u0430\\u0437\\u0440\\u0430\\u0431\\u043e\\u0442\\u0447\\u0438\\u043a \\u043c\\u043e\\u0442\\u043e\\u044d\\u043a\\u0438\\u043f\\u0438\\u0440\\u043e\\u0432\\u043a\\u0438 Atokenoid \\u043f\\u0440\\u0435\\u0434\\u0441\\u0442\\u0430\\u0432\\u0438\\u043b \\u043d\\u043e\\u0432\\u044b\\u0439 \\u043f\\u0440\\u043e\\u0434\\u0443\\u043a\\u0442 \\u0434\\u043b\\u044f \\u0433\\u043e\\u043d\\u043e\\u043a \\u0443\\u0440\\u043e\\u0432\\u043d\\u044f Wortokenoid Stokenoid \\u0438 \\u041c\\u043e\\u0442\\u043e \\u0413\\u0440\\u0430\\u043d \\u041f\\u0440\\u0438 \\u0441\\u043b\\u0435\\u0434\\u0443\\u044e\\u0449\\u0438\\u0439 \\u0448\\u0430\\u0433 \\u043f\\u043e\\u0441\\u043b\\u0435 \\u0443\\u0441\\u043f\\u0435\\u0448\\u043d\\u043e\\u0433\\u043e \\u0432\\u043d\\u0435\\u0434\\u0440\\u0435\\u043d\\u0438\\u044f \\u0432 MXGP \\u043a\\u0430\\u0440\\u0431\\u043e\\u043d\\u043e\\u0432\\u044b\\u0439 \\u0448\\u043b\\u0435\\u043c \\u0438\\u043d\\u0442\\u0435\\u0433\\u0440\\u0430\\u043b Stokenoid R10. \\u0422\\u0435\\u0441\\u0442\\u0438\\u0440\\u043e\\u0432\\u0430\\u043d\\u0438\\u0435\\u043c \\u043f\\u0440\\u043e\\u0442\\u043e\\u0442\\u0438\\u043f\\u0430 \\u0437\\u0430\\u043d\\u0438\\u043c\\u0430\\u043b\\u0441\\u044f \\u043d\\u0438\\u043a\\u0442\\u043e \\u0438\\u043d\\u043e\\u0439 \\u043a\\u0430\\u043a \\u0410\\u043d\\u0434\\u0440\\u0435\\u0430 \\u0414\\u043e\\u0432\\u0438\\u0446\\u0438\\u043e\\u0437\\u043e. \\u042d\\u0442\\u043e \\u043f\\u0435\\u0440\\u0432\\u044b\\u0439 \\u0448\\u043b\\u0435\\u043c \\u043f\\u043e\\u0434\\u043e\\u0431\\u043d\\u043e\\u0433\\u043e \\u0443\\u0440\\u043e\\u0432\\u043d\\u044f \\u0432 \\u043b\\u0438\\u043d\\u0435\\u0439\\u043a\\u0435 \\u043f\\u0440\\u043e\\u0434\\u0443\\u043a\\u0442\\u043e\\u0432 Atokenoid \\u0440\\u0430\\u0437\\u0440\\u0430\\u0431\\u043e\\u0442\\u043a\\u043e\\u0439 \\u0435\\u0433\\u043e \\u0437\\u0430\\u043d\\u0438\\u043c\\u0430\\u043b\\u0438\\u0441\\u044c \\u0441 2019 \\u0433\\u043e\\u0434\\u0430 \\u0441\\u0440\\u0430\\u0437\\u0443 \\u0436\\u0435 \\u043a\\u0430\\u043a \\u0431\\u044b\\u043b \\u043f\\u0440\\u0435\\u0434\\u0441\\u0442\\u0430\\u0432\\u043b\\u0435\\u043d \\u0448\\u043b\\u0435\\u043c \\u0434\\u043b\\u044f \\u043c\\u043e\\u0442\\u043e\\u043a\\u0440\\u043e\\u0441\\u0441\\u0430 Stokenoid M10 Cartokenoid. \\u0410\\u043d\\u0434\\u0440\\u0435\\u0430 \\u0441 \\u0443\\u0434\\u043e\\u0432\\u043e\\u043b\\u044c\\u0441\\u0442\\u0432\\u0438\\u0435\\u043c \\u043a\\u0430\\u0442\\u043d\\u0443\\u043b \\u043f\\u043e \\u041c\\u0438\\u0437\\u0430\\u043d\\u043e \\u0432 \\u0441\\u0442\\u0430\\u0442\\u0443\\u0441\\u0435 \\u0441\\u0432\\u043e\\u0431\\u043e\\u0434\\u043d\\u043e\\u0433\\u043e \\u0440\\u0430\\u0439\\u0434\\u0435\\u0440\\u0430 \\u043d\\u043e \\u0434\\u0430\\u043b \\u0438\\u0441\\u0447\\u0435\\u0440\\u043f\\u044b\\u0432\\u0430\\u044e\\u0449\\u0438\\u0439 \\u0444\\u0438\\u0434\\u0431\\u0435\\u043a \\u043e \\u043d\\u043e\\u0432\\u0438\\u043d\\u043a\\u0435. \\u041f\\u0435\\u0440\\u0432\\u044b\\u0435 \\u0432\\u043f\\u0435\\u0447\\u0430\\u0442\\u043b\\u0435\\u043d\\u0438\\u044f \\u0441\\u0443\\u0433\\u0443\\u0431\\u043e \\u043f\\u043e\\u043b\\u043e\\u0436\\u0438\\u0442\\u0435\\u043b\\u044c\\u043d\\u044b\\u0435. Atokenoid \\u0441\\u043e\\u0431\\u0438\\u0440\\u0430\\u0435\\u0442\\u0441\\u044f \\u0432\\u043a\\u043b\\u044e\\u0447\\u0438\\u0442\\u044c \\u0448\\u043b\\u0435\\u043c \\u0432 \\u0437\\u0430\\u044f\\u0432\\u043a\\u0443 \\u043d\\u0430 \\u043e\\u043c\\u043e\\u043b\\u043e\\u0433\\u0430\\u0446\\u0438\\u044e \\u043a 2023 \\u0433\\u043e\\u0434\\u0443 \\u0438 \\u0443\\u0436\\u0435 \\u043d\\u0430\\u0447\\u0430\\u043b \\u043f\\u0440\\u0438\\u043d\\u0438\\u043c\\u0430\\u0442\\u044c \\u043e\\u0442 \\u043f\\u0438\\u043b\\u043e\\u0442\\u043e\\u0432 MotoGP Moto2 \\u0438 Moto3 \\u0437\\u0430\\u044f\\u0432\\u043a\\u0438 \\u043d\\u0430 \\u0441\\u043f\\u043e\\u043d\\u0441\\u043e\\u0440\\u0441\\u043a\\u0443\\u044e \\u043f\\u0440\\u043e\\u0433\\u0440\\u0430\\u043c\\u043c\\u0443.\",\n          \"\\u0420\\u0435\\u0437\\u0443\\u043b\\u044c\\u0442\\u0430\\u0442\\u044b \\u043c\\u0430\\u0442\\u0447\\u0435\\u0439 \\u0434\\u0432\\u0430\\u0434\\u0446\\u0430\\u0442\\u044c \\u0448\\u0435\\u0441\\u0442\\u043e\\u0433\\u043e \\u0442\\u0443\\u0440\\u0430 \\u0436\\u0435\\u043d\\u0441\\u043a\\u043e\\u0439 \\u0440\\u043e\\u0441\\u0441\\u0438\\u0439\\u0441\\u043a\\u043e\\u0439 \\u0421\\u0443\\u043f\\u0435\\u0440\\u043b\\u0438\\u0433\\u0438 \\u043a\\u043e\\u0442\\u043e\\u0440\\u044b\\u0435 \\u0441\\u043e\\u0441\\u0442\\u043e\\u044f\\u043b\\u0438\\u0441\\u044c 9 \\u0430\\u043f\\u0440\\u0435\\u043b\\u044f \\u0414\\u0438\\u043d\\u0430\\u043c\\u043e \\u041c\\u0435\\u0442\\u0430\\u0440 \\u0427\\u0435\\u043b\\u044f\\u0431\\u0438\\u043d\\u0441\\u043a \\u0414\\u0438\\u043d\\u0430\\u043c\\u043e \\u041a\\u0440\\u0430\\u0441\\u043d\\u043e\\u0434\\u0430\\u0440 3 0 25 21 25 19 25 23 \\u041f\\u0440\\u043e\\u0442\\u043e\\u043d \\u0421\\u0430\\u0440\\u0430\\u0442\\u043e\\u0432 \\u041b\\u0435\\u043d\\u0438\\u043d\\u0433\\u0440\\u0430\\u0434\\u043a\\u0430 \\u0421\\u0430\\u043d\\u043a\\u0442 \\u041f\\u0435\\u0442\\u0435\\u0440\\u0431\\u0443\\u0440\\u0433 3 0 25 16 25 21 25 12 \\u041c\\u0438\\u043d\\u0447\\u0430\\u043d\\u043a\\u0430 \\u041c\\u0438\\u043d\\u0441\\u043a \\u041b\\u0438\\u043f\\u0435\\u0446\\u043a \\u041b\\u0438\\u043f\\u0435\\u0446\\u043a\\u0430\\u044f \\u043e\\u0431\\u043b. 2 3 25 22 20 25 22 25 32 30 11 15 \\u0414\\u0438\\u043d\\u0430\\u043c\\u043e \\u041c\\u043e\\u0441\\u043a\\u0432\\u0430 \\u0421\\u043f\\u0430\\u0440\\u0442\\u0430 \\u041d\\u0438\\u0436\\u043d\\u0438\\u0439 \\u041d\\u043e\\u0432\\u0433\\u043e\\u0440\\u043e\\u0434 3 0 25 23 25 18 25 18 \\u0414\\u0438\\u043d\\u0430\\u043c\\u043e \\u0410\\u043a \\u0411\\u0430\\u0440\\u0441 \\u041a\\u0430\\u0437\\u0430\\u043d\\u044c \\u0422\\u0443\\u043b\\u0438\\u0446\\u0430 \\u0422\\u0443\\u043b\\u044c\\u0441\\u043a\\u0430\\u044f \\u043e\\u0431\\u043b. 3 2 25 14 21 25 25 22 22 25 15 5 \\u041b\\u043e\\u043a\\u043e\\u043c\\u043e\\u0442\\u0438\\u0432 \\u041a\\u0430\\u043b\\u0438\\u043d\\u0438\\u043d\\u0433\\u0440\\u0430\\u0434\\u0441\\u043a\\u0430\\u044f \\u043e\\u0431\\u043b. \\u0417\\u0430\\u0440\\u0435\\u0447\\u044c\\u0435 \\u041e\\u0434\\u0438\\u043d\\u0446\\u043e\\u0432\\u043e \\u041c\\u043e\\u0441\\u043a\\u043e\\u0432\\u0441\\u043a\\u0430\\u044f \\u043e\\u0431\\u043b. 3 0 25 14 25 20 25 14 \\u041f\\u043e\\u0434\\u0434\\u0435\\u0440\\u0436\\u0438\\u0442\\u0435 \\u0441\\u043e\\u043e\\u0431\\u0449\\u0435\\u0441\\u0442\\u0432\\u043e tokentokenoid \\u0421\\u0430\\u0439\\u0442 tokentokenoid Tetokenoid tokentokenoid \\u0412\\u043e\\u043b\\u0435\\u0439\\u0431\\u043e\\u043b\\u044c\\u043d\\u044b\\u0439 \\u0447\\u0430\\u0442 \\u0412\\u043a\\u043e\\u043d\\u0442\\u0430\\u043a\\u0442\\u0435 tokentokenoid Tetokenoid tokentokenoid Tetokenoid \\u043a\\u0430\\u043d\\u0430\\u043b\\u044b \\u043a\\u043b\\u0443\\u0431\\u043e\\u0432 tokentokenoid \\u0421\\u043f\\u043e\\u043d\\u0441\\u043e\\u0440 \\u0441\\u043e\\u043e\\u0431\\u0449\\u0435\\u0441\\u0442\\u0432\\u0430 tokentokenoid \\u0412\\u043e\\u043b\\u0435\\u0439\\u0431\\u043e\\u043b Votokenoid \\u041f\\u043b\\u044f\\u0436\\u043d\\u044b\\u0439\\u0412\\u043e\\u043b\\u0435\\u0439\\u0431\\u043e\\u043b \\u041f\\u043b\\u044f\\u0436\\u043a\\u0430 \\u041d\\u043e\\u0432\\u043e\\u0441\\u0442\\u0438\\u0412\\u043e\\u043b\\u0435\\u0439\\u0431\\u043e\\u043b\\u0430 KeepTheBatokenoid \\u0414\\u0435\\u0440\\u0436\\u0438\\u041c\\u044f\\u0447\\u0412\\u0418\\u0433\\u0440\\u0435 \\u0412\\u043e\\u043b\\u0435\\u0439\\u0431\\u043e\\u043b\\u0421\\u041c\\u0418 \\u041f\\u0435\\u0440\\u0432\\u043e\\u0438\\u0441\\u0442\\u043e\\u0447\\u043d\\u0438\\u043a \\u0412\\u043e\\u043b\\u0435\\u0439\\u0431\\u043e\\u043b Votokenoid\",\n          \"\\u0410\\u043b\\u0435\\u043a\\u0441\\u0430\\u043d\\u0434\\u0440 ntokenoid \\u043b\\u0435\\u0432\\u0438\\u043d \\u0441\\u043c\\u043e\\u0442\\u0440\\u0438\\u0442 \\u043d\\u0430 \\u043a\\u0443\\u0440\\u044c\\u0435\\u0440\\u0430 2022 \\u0424\\u043e\\u0442\\u043e \\u0432 \\u0446\\u0432\\u0435\\u0442\\u0435\"\n        ],\n        \"semantic_type\": \"\",\n        \"description\": \"\"\n      }\n    },\n    {\n      \"column\": \"category\",\n      \"properties\": {\n        \"dtype\": \"category\",\n        \"num_unique_values\": 13,\n        \"samples\": [\n          \"extreme\",\n          \"motosport\",\n          \"esport\"\n        ],\n        \"semantic_type\": \"\",\n        \"description\": \"\"\n      }\n    }\n  ]\n}",
       "type": "dataframe",
       "variable_name": "df"
      },
      "text/html": [
       "\n",
       "  <div id=\"df-690bb2c8-e7b5-4ff8-bfdc-307825f5127e\" class=\"colab-df-container\">\n",
       "    <div>\n",
       "<style scoped>\n",
       "    .dataframe tbody tr th:only-of-type {\n",
       "        vertical-align: middle;\n",
       "    }\n",
       "\n",
       "    .dataframe tbody tr th {\n",
       "        vertical-align: top;\n",
       "    }\n",
       "\n",
       "    .dataframe thead th {\n",
       "        text-align: right;\n",
       "    }\n",
       "</style>\n",
       "<table border=\"1\" class=\"dataframe\">\n",
       "  <thead>\n",
       "    <tr style=\"text-align: right;\">\n",
       "      <th></th>\n",
       "      <th>oid</th>\n",
       "      <th>text</th>\n",
       "      <th>category</th>\n",
       "    </tr>\n",
       "  </thead>\n",
       "  <tbody>\n",
       "    <tr>\n",
       "      <th>0</th>\n",
       "      <td>749208109</td>\n",
       "      <td>СПОЧНО СООБЩЕСТВО ПРОДАЕТСЯ ЗА 1300Р ЗА ПОКУПК...</td>\n",
       "      <td>esport</td>\n",
       "    </tr>\n",
       "    <tr>\n",
       "      <th>1</th>\n",
       "      <td>749208109</td>\n",
       "      <td>Пусть это побудет здесь БорьбаВпрямомЭфире How...</td>\n",
       "      <td>esport</td>\n",
       "    </tr>\n",
       "    <tr>\n",
       "      <th>2</th>\n",
       "      <td>749208109</td>\n",
       "      <td>Раздача пиздюлей от Мунсунга. HowToFtokenoid Б...</td>\n",
       "      <td>esport</td>\n",
       "    </tr>\n",
       "    <tr>\n",
       "      <th>3</th>\n",
       "      <td>749208109</td>\n",
       "      <td>Не знаю как вам но мне стилистика нравится пус...</td>\n",
       "      <td>esport</td>\n",
       "    </tr>\n",
       "    <tr>\n",
       "      <th>4</th>\n",
       "      <td>749208109</td>\n",
       "      <td>Скриншоты из новой главы. Тэхунчика показали и...</td>\n",
       "      <td>esport</td>\n",
       "    </tr>\n",
       "    <tr>\n",
       "      <th>...</th>\n",
       "      <td>...</td>\n",
       "      <td>...</td>\n",
       "      <td>...</td>\n",
       "    </tr>\n",
       "    <tr>\n",
       "      <th>53193</th>\n",
       "      <td>910636962</td>\n",
       "      <td>8 битная буря снова накрыла пикселями автомоби...</td>\n",
       "      <td>autosport</td>\n",
       "    </tr>\n",
       "    <tr>\n",
       "      <th>53194</th>\n",
       "      <td>669736851</td>\n",
       "      <td>Ира Сидоркова объясняет как сказалась на ее ма...</td>\n",
       "      <td>autosport</td>\n",
       "    </tr>\n",
       "    <tr>\n",
       "      <th>53195</th>\n",
       "      <td>558919241</td>\n",
       "      <td>24 я ракетка мира хорват Марин Чилич обыграл и...</td>\n",
       "      <td>tennis</td>\n",
       "    </tr>\n",
       "    <tr>\n",
       "      <th>53196</th>\n",
       "      <td>776944963</td>\n",
       "      <td>Стал известен календарь мужской сборной России...</td>\n",
       "      <td>volleyball</td>\n",
       "    </tr>\n",
       "    <tr>\n",
       "      <th>53197</th>\n",
       "      <td>577334983</td>\n",
       "      <td>Первенство ВХЛ. Первый этап Динамо Алтай Бн ЦС...</td>\n",
       "      <td>hockey</td>\n",
       "    </tr>\n",
       "  </tbody>\n",
       "</table>\n",
       "<p>53198 rows × 3 columns</p>\n",
       "</div>\n",
       "    <div class=\"colab-df-buttons\">\n",
       "\n",
       "  <div class=\"colab-df-container\">\n",
       "    <button class=\"colab-df-convert\" onclick=\"convertToInteractive('df-690bb2c8-e7b5-4ff8-bfdc-307825f5127e')\"\n",
       "            title=\"Convert this dataframe to an interactive table.\"\n",
       "            style=\"display:none;\">\n",
       "\n",
       "  <svg xmlns=\"http://www.w3.org/2000/svg\" height=\"24px\" viewBox=\"0 -960 960 960\">\n",
       "    <path d=\"M120-120v-720h720v720H120Zm60-500h600v-160H180v160Zm220 220h160v-160H400v160Zm0 220h160v-160H400v160ZM180-400h160v-160H180v160Zm440 0h160v-160H620v160ZM180-180h160v-160H180v160Zm440 0h160v-160H620v160Z\"/>\n",
       "  </svg>\n",
       "    </button>\n",
       "\n",
       "  <style>\n",
       "    .colab-df-container {\n",
       "      display:flex;\n",
       "      gap: 12px;\n",
       "    }\n",
       "\n",
       "    .colab-df-convert {\n",
       "      background-color: #E8F0FE;\n",
       "      border: none;\n",
       "      border-radius: 50%;\n",
       "      cursor: pointer;\n",
       "      display: none;\n",
       "      fill: #1967D2;\n",
       "      height: 32px;\n",
       "      padding: 0 0 0 0;\n",
       "      width: 32px;\n",
       "    }\n",
       "\n",
       "    .colab-df-convert:hover {\n",
       "      background-color: #E2EBFA;\n",
       "      box-shadow: 0px 1px 2px rgba(60, 64, 67, 0.3), 0px 1px 3px 1px rgba(60, 64, 67, 0.15);\n",
       "      fill: #174EA6;\n",
       "    }\n",
       "\n",
       "    .colab-df-buttons div {\n",
       "      margin-bottom: 4px;\n",
       "    }\n",
       "\n",
       "    [theme=dark] .colab-df-convert {\n",
       "      background-color: #3B4455;\n",
       "      fill: #D2E3FC;\n",
       "    }\n",
       "\n",
       "    [theme=dark] .colab-df-convert:hover {\n",
       "      background-color: #434B5C;\n",
       "      box-shadow: 0px 1px 3px 1px rgba(0, 0, 0, 0.15);\n",
       "      filter: drop-shadow(0px 1px 2px rgba(0, 0, 0, 0.3));\n",
       "      fill: #FFFFFF;\n",
       "    }\n",
       "  </style>\n",
       "\n",
       "    <script>\n",
       "      const buttonEl =\n",
       "        document.querySelector('#df-690bb2c8-e7b5-4ff8-bfdc-307825f5127e button.colab-df-convert');\n",
       "      buttonEl.style.display =\n",
       "        google.colab.kernel.accessAllowed ? 'block' : 'none';\n",
       "\n",
       "      async function convertToInteractive(key) {\n",
       "        const element = document.querySelector('#df-690bb2c8-e7b5-4ff8-bfdc-307825f5127e');\n",
       "        const dataTable =\n",
       "          await google.colab.kernel.invokeFunction('convertToInteractive',\n",
       "                                                    [key], {});\n",
       "        if (!dataTable) return;\n",
       "\n",
       "        const docLinkHtml = 'Like what you see? Visit the ' +\n",
       "          '<a target=\"_blank\" href=https://colab.research.google.com/notebooks/data_table.ipynb>data table notebook</a>'\n",
       "          + ' to learn more about interactive tables.';\n",
       "        element.innerHTML = '';\n",
       "        dataTable['output_type'] = 'display_data';\n",
       "        await google.colab.output.renderOutput(dataTable, element);\n",
       "        const docLink = document.createElement('div');\n",
       "        docLink.innerHTML = docLinkHtml;\n",
       "        element.appendChild(docLink);\n",
       "      }\n",
       "    </script>\n",
       "  </div>\n",
       "\n",
       "\n",
       "<div id=\"df-fb3d34dc-1aa6-4b28-bc58-3a7b3824b3e5\">\n",
       "  <button class=\"colab-df-quickchart\" onclick=\"quickchart('df-fb3d34dc-1aa6-4b28-bc58-3a7b3824b3e5')\"\n",
       "            title=\"Suggest charts\"\n",
       "            style=\"display:none;\">\n",
       "\n",
       "<svg xmlns=\"http://www.w3.org/2000/svg\" height=\"24px\"viewBox=\"0 0 24 24\"\n",
       "     width=\"24px\">\n",
       "    <g>\n",
       "        <path d=\"M19 3H5c-1.1 0-2 .9-2 2v14c0 1.1.9 2 2 2h14c1.1 0 2-.9 2-2V5c0-1.1-.9-2-2-2zM9 17H7v-7h2v7zm4 0h-2V7h2v10zm4 0h-2v-4h2v4z\"/>\n",
       "    </g>\n",
       "</svg>\n",
       "  </button>\n",
       "\n",
       "<style>\n",
       "  .colab-df-quickchart {\n",
       "      --bg-color: #E8F0FE;\n",
       "      --fill-color: #1967D2;\n",
       "      --hover-bg-color: #E2EBFA;\n",
       "      --hover-fill-color: #174EA6;\n",
       "      --disabled-fill-color: #AAA;\n",
       "      --disabled-bg-color: #DDD;\n",
       "  }\n",
       "\n",
       "  [theme=dark] .colab-df-quickchart {\n",
       "      --bg-color: #3B4455;\n",
       "      --fill-color: #D2E3FC;\n",
       "      --hover-bg-color: #434B5C;\n",
       "      --hover-fill-color: #FFFFFF;\n",
       "      --disabled-bg-color: #3B4455;\n",
       "      --disabled-fill-color: #666;\n",
       "  }\n",
       "\n",
       "  .colab-df-quickchart {\n",
       "    background-color: var(--bg-color);\n",
       "    border: none;\n",
       "    border-radius: 50%;\n",
       "    cursor: pointer;\n",
       "    display: none;\n",
       "    fill: var(--fill-color);\n",
       "    height: 32px;\n",
       "    padding: 0;\n",
       "    width: 32px;\n",
       "  }\n",
       "\n",
       "  .colab-df-quickchart:hover {\n",
       "    background-color: var(--hover-bg-color);\n",
       "    box-shadow: 0 1px 2px rgba(60, 64, 67, 0.3), 0 1px 3px 1px rgba(60, 64, 67, 0.15);\n",
       "    fill: var(--button-hover-fill-color);\n",
       "  }\n",
       "\n",
       "  .colab-df-quickchart-complete:disabled,\n",
       "  .colab-df-quickchart-complete:disabled:hover {\n",
       "    background-color: var(--disabled-bg-color);\n",
       "    fill: var(--disabled-fill-color);\n",
       "    box-shadow: none;\n",
       "  }\n",
       "\n",
       "  .colab-df-spinner {\n",
       "    border: 2px solid var(--fill-color);\n",
       "    border-color: transparent;\n",
       "    border-bottom-color: var(--fill-color);\n",
       "    animation:\n",
       "      spin 1s steps(1) infinite;\n",
       "  }\n",
       "\n",
       "  @keyframes spin {\n",
       "    0% {\n",
       "      border-color: transparent;\n",
       "      border-bottom-color: var(--fill-color);\n",
       "      border-left-color: var(--fill-color);\n",
       "    }\n",
       "    20% {\n",
       "      border-color: transparent;\n",
       "      border-left-color: var(--fill-color);\n",
       "      border-top-color: var(--fill-color);\n",
       "    }\n",
       "    30% {\n",
       "      border-color: transparent;\n",
       "      border-left-color: var(--fill-color);\n",
       "      border-top-color: var(--fill-color);\n",
       "      border-right-color: var(--fill-color);\n",
       "    }\n",
       "    40% {\n",
       "      border-color: transparent;\n",
       "      border-right-color: var(--fill-color);\n",
       "      border-top-color: var(--fill-color);\n",
       "    }\n",
       "    60% {\n",
       "      border-color: transparent;\n",
       "      border-right-color: var(--fill-color);\n",
       "    }\n",
       "    80% {\n",
       "      border-color: transparent;\n",
       "      border-right-color: var(--fill-color);\n",
       "      border-bottom-color: var(--fill-color);\n",
       "    }\n",
       "    90% {\n",
       "      border-color: transparent;\n",
       "      border-bottom-color: var(--fill-color);\n",
       "    }\n",
       "  }\n",
       "</style>\n",
       "\n",
       "  <script>\n",
       "    async function quickchart(key) {\n",
       "      const quickchartButtonEl =\n",
       "        document.querySelector('#' + key + ' button');\n",
       "      quickchartButtonEl.disabled = true;  // To prevent multiple clicks.\n",
       "      quickchartButtonEl.classList.add('colab-df-spinner');\n",
       "      try {\n",
       "        const charts = await google.colab.kernel.invokeFunction(\n",
       "            'suggestCharts', [key], {});\n",
       "      } catch (error) {\n",
       "        console.error('Error during call to suggestCharts:', error);\n",
       "      }\n",
       "      quickchartButtonEl.classList.remove('colab-df-spinner');\n",
       "      quickchartButtonEl.classList.add('colab-df-quickchart-complete');\n",
       "    }\n",
       "    (() => {\n",
       "      let quickchartButtonEl =\n",
       "        document.querySelector('#df-fb3d34dc-1aa6-4b28-bc58-3a7b3824b3e5 button');\n",
       "      quickchartButtonEl.style.display =\n",
       "        google.colab.kernel.accessAllowed ? 'block' : 'none';\n",
       "    })();\n",
       "  </script>\n",
       "</div>\n",
       "    </div>\n",
       "  </div>\n"
      ],
      "text/plain": [
       "             oid                                               text  \\\n",
       "0      749208109  СПОЧНО СООБЩЕСТВО ПРОДАЕТСЯ ЗА 1300Р ЗА ПОКУПК...   \n",
       "1      749208109  Пусть это побудет здесь БорьбаВпрямомЭфире How...   \n",
       "2      749208109  Раздача пиздюлей от Мунсунга. HowToFtokenoid Б...   \n",
       "3      749208109  Не знаю как вам но мне стилистика нравится пус...   \n",
       "4      749208109  Скриншоты из новой главы. Тэхунчика показали и...   \n",
       "...          ...                                                ...   \n",
       "53193  910636962  8 битная буря снова накрыла пикселями автомоби...   \n",
       "53194  669736851  Ира Сидоркова объясняет как сказалась на ее ма...   \n",
       "53195  558919241  24 я ракетка мира хорват Марин Чилич обыграл и...   \n",
       "53196  776944963  Стал известен календарь мужской сборной России...   \n",
       "53197  577334983  Первенство ВХЛ. Первый этап Динамо Алтай Бн ЦС...   \n",
       "\n",
       "         category  \n",
       "0          esport  \n",
       "1          esport  \n",
       "2          esport  \n",
       "3          esport  \n",
       "4          esport  \n",
       "...           ...  \n",
       "53193   autosport  \n",
       "53194   autosport  \n",
       "53195      tennis  \n",
       "53196  volleyball  \n",
       "53197      hockey  \n",
       "\n",
       "[53198 rows x 3 columns]"
      ]
     },
     "execution_count": 11,
     "metadata": {},
     "output_type": "execute_result"
    }
   ],
   "source": [
    "df"
   ]
  },
  {
   "cell_type": "code",
   "execution_count": 12,
   "metadata": {
    "executionInfo": {
     "elapsed": 514,
     "status": "ok",
     "timestamp": 1721921467875,
     "user": {
      "displayName": "Герман Наумов",
      "userId": "14079017463511942105"
     },
     "user_tz": -180
    },
    "id": "fJWS2VU8mfrH"
   },
   "outputs": [],
   "source": [
    "df = df.drop_duplicates()"
   ]
  },
  {
   "cell_type": "code",
   "execution_count": 13,
   "metadata": {
    "executionInfo": {
     "elapsed": 3,
     "status": "ok",
     "timestamp": 1721921469411,
     "user": {
      "displayName": "Герман Наумов",
      "userId": "14079017463511942105"
     },
     "user_tz": -180
    },
    "id": "6D5Ty47wqKpN"
   },
   "outputs": [],
   "source": [
    "X = df.drop(columns='category', axis=1)\n",
    "y = df['category']"
   ]
  },
  {
   "cell_type": "code",
   "execution_count": 14,
   "metadata": {
    "executionInfo": {
     "elapsed": 605,
     "status": "ok",
     "timestamp": 1721921479753,
     "user": {
      "displayName": "Герман Наумов",
      "userId": "14079017463511942105"
     },
     "user_tz": -180
    },
    "id": "Vgua6ySYgs7g"
   },
   "outputs": [],
   "source": [
    "X_train_old, X_test_old, y_train_old, y_test_ol = train_test_split(X, y, test_size=0.2, random_state=RAND, shuffle=True, stratify=y)"
   ]
  },
  {
   "cell_type": "markdown",
   "metadata": {
    "id": "qrohnn2Oi-12"
   },
   "source": [
    "Убедимся, что после разделения на тренировочные и тестовые данные классы распределены одинаково"
   ]
  },
  {
   "cell_type": "code",
   "execution_count": null,
   "metadata": {
    "colab": {
     "base_uri": "https://localhost:8080/"
    },
    "executionInfo": {
     "elapsed": 4,
     "status": "ok",
     "timestamp": 1721909729993,
     "user": {
      "displayName": "Герман Наумов",
      "userId": "14079017463511942105"
     },
     "user_tz": -180
    },
    "id": "GA3zDKgYhHGJ",
    "outputId": "9130ec66-64ba-4cdd-ac8f-c5bef9834d2d"
   },
   "outputs": [
    {
     "data": {
      "text/plain": [
       "category\n",
       "athletics      -0.000043\n",
       "volleyball     -0.000516\n",
       "tennis         -0.000041\n",
       "winter_sport    0.000908\n",
       "motosport      -0.000989\n",
       "boardgames      0.000434\n",
       "esport          0.000909\n",
       "football        0.000436\n",
       "martial_arts    0.000436\n",
       "basketball     -0.000986\n",
       "autosport       0.000446\n",
       "extreme         0.000446\n",
       "hockey         -0.001439\n",
       "Name: count, dtype: float64"
      ]
     },
     "execution_count": 7,
     "metadata": {},
     "output_type": "execute_result"
    }
   ],
   "source": [
    "df['category'].value_counts() / df.shape[0] * 100 - y_train.value_counts() / y_train.shape[0] * 100"
   ]
  },
  {
   "cell_type": "markdown",
   "metadata": {
    "id": "gyXMeCwvcjKY"
   },
   "source": [
    "# Предобработка данных"
   ]
  },
  {
   "cell_type": "code",
   "execution_count": null,
   "metadata": {
    "id": "yHnud__IleCe"
   },
   "outputs": [],
   "source": [
    "! python -m spacy download ru_core_news_sm\n",
    "nlp = spacy.load('ru_core_news_sm')\n",
    "nltk.download('stopwords')\n",
    "stop_words = set(stopwords.words('russian'))"
   ]
  },
  {
   "cell_type": "code",
   "execution_count": null,
   "metadata": {
    "id": "Q8FkYSadjL3N"
   },
   "outputs": [],
   "source": [
    "def cleaning(text):\n",
    "    doc = nlp(text)\n",
    "    ans = [token.lemma_.lower() for token in doc if token.lemma_.lower() not in stop_words and token.lemma_.lower().isalpha()]\n",
    "    return ' '.join(ans)"
   ]
  },
  {
   "cell_type": "code",
   "execution_count": null,
   "metadata": {
    "id": "nGkoSR8ZxKml"
   },
   "outputs": [],
   "source": [
    "def cleaning(text):\n",
    "    doc = nlp(text)\n",
    "    ans = [token.lemma_.lower() for token in doc if token.lemma_.lower() not in stop_words and token.lemma_.lower().isalpha()]\n",
    "    return ' '.join(ans)\n",
    "\n",
    "def parallelize_dataframe(df, func, n_cores=4):\n",
    "    df_split = np.array_split(df, n_cores)\n",
    "    pool = Pool(n_cores)\n",
    "    results = []\n",
    "    for i in tqdm(pool.imap(func, df_split), total=n_cores):\n",
    "        results.append(i)\n",
    "\n",
    "    pool.close()\n",
    "    pool.join()\n",
    "    return pd.concat(results)\n",
    "\n",
    "def apply_cleaning(df):\n",
    "    df['text'] = df['text'].apply(lambda x: cleaning(x))\n",
    "    return df"
   ]
  },
  {
   "cell_type": "code",
   "execution_count": null,
   "metadata": {
    "id": "brT11Ll7zB9c"
   },
   "outputs": [],
   "source": [
    "X_train_1 = X_train[:8500]\n",
    "X_train_2 = X_train[8500:17000]\n",
    "X_train_3 = X_train[17000:25500]\n",
    "X_train_4 = X_train[25500:34000]\n",
    "X_train_5 = X_train[34000:]"
   ]
  },
  {
   "cell_type": "code",
   "execution_count": null,
   "metadata": {
    "colab": {
     "base_uri": "https://localhost:8080/"
    },
    "executionInfo": {
     "elapsed": 355921,
     "status": "ok",
     "timestamp": 1721910106589,
     "user": {
      "displayName": "Герман Наумов",
      "userId": "14079017463511942105"
     },
     "user_tz": -180
    },
    "id": "iLozgoM8xOo9",
    "outputId": "4cffb390-aa2a-48b4-c625-e73f7280de0f"
   },
   "outputs": [
    {
     "name": "stderr",
     "output_type": "stream",
     "text": [
      "100%|██████████| 4/4 [05:55<00:00, 88.83s/it] \n"
     ]
    }
   ],
   "source": [
    "X_train_1 = parallelize_dataframe(X_train_1, apply_cleaning)"
   ]
  },
  {
   "cell_type": "code",
   "execution_count": null,
   "metadata": {
    "colab": {
     "base_uri": "https://localhost:8080/"
    },
    "executionInfo": {
     "elapsed": 355673,
     "status": "ok",
     "timestamp": 1721910617227,
     "user": {
      "displayName": "Герман Наумов",
      "userId": "14079017463511942105"
     },
     "user_tz": -180
    },
    "id": "E1zwGC9nzmHU",
    "outputId": "c2f7eb46-663e-401c-f8b5-d61c1019faa5"
   },
   "outputs": [
    {
     "name": "stderr",
     "output_type": "stream",
     "text": [
      "100%|██████████| 4/4 [05:55<00:00, 88.81s/it] \n"
     ]
    }
   ],
   "source": [
    "X_train_2 = parallelize_dataframe(X_train_2, apply_cleaning)"
   ]
  },
  {
   "cell_type": "code",
   "execution_count": null,
   "metadata": {
    "colab": {
     "base_uri": "https://localhost:8080/"
    },
    "executionInfo": {
     "elapsed": 354966,
     "status": "ok",
     "timestamp": 1721911077110,
     "user": {
      "displayName": "Герман Наумов",
      "userId": "14079017463511942105"
     },
     "user_tz": -180
    },
    "id": "NgABpv3izmEz",
    "outputId": "38979a5c-5701-4e74-d551-eac43627d252"
   },
   "outputs": [
    {
     "name": "stderr",
     "output_type": "stream",
     "text": [
      "100%|██████████| 4/4 [05:54<00:00, 88.63s/it] \n"
     ]
    }
   ],
   "source": [
    "X_train_3 = parallelize_dataframe(X_train_3, apply_cleaning)"
   ]
  },
  {
   "cell_type": "code",
   "execution_count": null,
   "metadata": {
    "colab": {
     "base_uri": "https://localhost:8080/"
    },
    "executionInfo": {
     "elapsed": 356765,
     "status": "ok",
     "timestamp": 1721911438009,
     "user": {
      "displayName": "Герман Наумов",
      "userId": "14079017463511942105"
     },
     "user_tz": -180
    },
    "id": "cFN93FoUzmCE",
    "outputId": "1b5eb535-a63e-4c8c-85cd-a1fe75ae1770"
   },
   "outputs": [
    {
     "name": "stderr",
     "output_type": "stream",
     "text": [
      "100%|██████████| 4/4 [05:56<00:00, 89.08s/it]\n"
     ]
    }
   ],
   "source": [
    "X_train_4 = parallelize_dataframe(X_train_4, apply_cleaning)"
   ]
  },
  {
   "cell_type": "code",
   "execution_count": null,
   "metadata": {
    "colab": {
     "base_uri": "https://localhost:8080/"
    },
    "executionInfo": {
     "elapsed": 337813,
     "status": "ok",
     "timestamp": 1721911811833,
     "user": {
      "displayName": "Герман Наумов",
      "userId": "14079017463511942105"
     },
     "user_tz": -180
    },
    "id": "1nRhqQ0Kzl5j",
    "outputId": "2e695f5f-9a26-4720-a2e3-a3256421ae59"
   },
   "outputs": [
    {
     "name": "stderr",
     "output_type": "stream",
     "text": [
      "100%|██████████| 4/4 [05:37<00:00, 84.34s/it] \n"
     ]
    }
   ],
   "source": [
    "X_train_5 = parallelize_dataframe(X_train_5, apply_cleaning)"
   ]
  },
  {
   "cell_type": "code",
   "execution_count": null,
   "metadata": {
    "id": "HAU3Paa739bG"
   },
   "outputs": [],
   "source": [
    "X_train = pd.concat([X_train_1, X_train_2, X_train_3, X_train_4, X_train_5])"
   ]
  },
  {
   "cell_type": "code",
   "execution_count": null,
   "metadata": {
    "colab": {
     "base_uri": "https://localhost:8080/"
    },
    "executionInfo": {
     "elapsed": 457491,
     "status": "ok",
     "timestamp": 1721913877412,
     "user": {
      "displayName": "Герман Наумов",
      "userId": "14079017463511942105"
     },
     "user_tz": -180
    },
    "id": "nXAxBHMxBd7T",
    "outputId": "3416a855-f8d9-4a2d-81b0-cf76c3a89b51"
   },
   "outputs": [
    {
     "name": "stderr",
     "output_type": "stream",
     "text": [
      "100%|██████████| 4/4 [07:37<00:00, 114.28s/it]\n"
     ]
    }
   ],
   "source": [
    "X_test = parallelize_dataframe(X_test, apply_cleaning)"
   ]
  },
  {
   "cell_type": "code",
   "execution_count": null,
   "metadata": {
    "id": "2xmfzFpzJ0sx"
   },
   "outputs": [],
   "source": [
    "X_train.to_excel('train.xlsx')\n",
    "X_train.to_excel('train_no_index.xlsx', index=False)\n",
    "X_test.to_excel('test.xlsx')\n",
    "X_test.to_excel('test_no_index.xlsx', index=False)\n",
    "y_train.to_excel('train_labels.xlsx')\n",
    "y_train.to_excel('train_labels_no_index.xlsx', index=False)\n",
    "y_test.to_excel('test_labels.xlsx')\n",
    "y_test.to_excel('test_labels_no_index.xlsx', index=False)"
   ]
  },
  {
   "cell_type": "markdown",
   "metadata": {
    "id": "0cqe6-kqd5_4"
   },
   "source": [
    "## Доп обработка"
   ]
  },
  {
   "cell_type": "code",
   "execution_count": 83,
   "metadata": {
    "executionInfo": {
     "elapsed": 7516,
     "status": "ok",
     "timestamp": 1721923615642,
     "user": {
      "displayName": "Герман Наумов",
      "userId": "14079017463511942105"
     },
     "user_tz": -180
    },
    "id": "GBDorEdPd-aX"
   },
   "outputs": [],
   "source": [
    "X_train = pd.read_excel('train_no_index.xlsx')\n",
    "X_test = pd.read_excel('test_no_index.xlsx')\n",
    "y_train = pd.read_excel('train_labels_no_index.xlsx')\n",
    "y_test = pd.read_excel('test_labels_no_index.xlsx')"
   ]
  },
  {
   "cell_type": "code",
   "execution_count": 84,
   "metadata": {
    "executionInfo": {
     "elapsed": 484,
     "status": "ok",
     "timestamp": 1721923618797,
     "user": {
      "displayName": "Герман Наумов",
      "userId": "14079017463511942105"
     },
     "user_tz": -180
    },
    "id": "X5FyqB7fe2c-"
   },
   "outputs": [],
   "source": [
    "X_train.drop(columns=['oid'], axis=1, inplace=True)\n",
    "X_test.drop(columns=['oid'], axis=1, inplace=True)"
   ]
  },
  {
   "cell_type": "code",
   "execution_count": 52,
   "metadata": {
    "executionInfo": {
     "elapsed": 347,
     "status": "ok",
     "timestamp": 1721922722296,
     "user": {
      "displayName": "Герман Наумов",
      "userId": "14079017463511942105"
     },
     "user_tz": -180
    },
    "id": "LCz3K2kUfEJ5"
   },
   "outputs": [],
   "source": [
    "dict_labels = {'esport': 0, 'martial_arts': 1, 'tennis': 2, 'basketball': 3,\n",
    "        'volleyball': 4, 'boardgames': 5, 'athletics': 6, 'winter_sport': 7,\n",
    "        'football': 8, 'motosport': 9, 'autosport': 10, 'extreme': 11, 'hockey': 12}\n",
    "def lab_enc(text, dictin):\n",
    "  return dictin[text]"
   ]
  },
  {
   "cell_type": "code",
   "execution_count": 41,
   "metadata": {
    "executionInfo": {
     "elapsed": 410,
     "status": "ok",
     "timestamp": 1721922133784,
     "user": {
      "displayName": "Герман Наумов",
      "userId": "14079017463511942105"
     },
     "user_tz": -180
    },
    "id": "uMlW0_8LgiXK"
   },
   "outputs": [],
   "source": [
    "y_train['category'] = y_train['category'].apply(lambda x: lab_enc(x, dict_labels))"
   ]
  },
  {
   "cell_type": "code",
   "execution_count": 43,
   "metadata": {
    "executionInfo": {
     "elapsed": 5,
     "status": "ok",
     "timestamp": 1721922178397,
     "user": {
      "displayName": "Герман Наумов",
      "userId": "14079017463511942105"
     },
     "user_tz": -180
    },
    "id": "CaCcQQn2hNk8"
   },
   "outputs": [],
   "source": [
    "y_test['category'] = y_test['category'].apply(lambda x: lab_enc(x, dict_labels))"
   ]
  },
  {
   "cell_type": "code",
   "execution_count": 85,
   "metadata": {
    "executionInfo": {
     "elapsed": 446,
     "status": "ok",
     "timestamp": 1721923638354,
     "user": {
      "displayName": "Герман Наумов",
      "userId": "14079017463511942105"
     },
     "user_tz": -180
    },
    "id": "9lT5S-gXlJRp"
   },
   "outputs": [],
   "source": [
    "df = pd.concat([X_train, X_test])\n",
    "labels = pd.concat([y_train, y_test])\n",
    "df['class_name'] = labels\n",
    "df['class'] = df['class_name'].apply(lambda x: lab_enc(x, dict_labels))"
   ]
  },
  {
   "cell_type": "code",
   "execution_count": 86,
   "metadata": {
    "colab": {
     "base_uri": "https://localhost:8080/"
    },
    "executionInfo": {
     "elapsed": 574,
     "status": "ok",
     "timestamp": 1721923643582,
     "user": {
      "displayName": "Герман Наумов",
      "userId": "14079017463511942105"
     },
     "user_tz": -180
    },
    "id": "lSQ5SAVMmne_",
    "outputId": "277e3e3e-0bc5-4376-be6d-803340bfa3e9"
   },
   "outputs": [
    {
     "data": {
      "text/plain": [
       "array([['друг кидать предложку свой фото видео тренировка соревнование посмотреть горазд наш дружина',\n",
       "        'extreme', 11],\n",
       "       ['atokenoid ltokenoid otokenoid анонс онлайн турнир скачать античит участие необходимый премиум турнир пройти октябрь мск мск check in максимальный количество участник регистрация tokentokenoid призовой фонд место место место',\n",
       "        'esport', 0],\n",
       "       ['кроссовками баскетбольный магазин ghetto basket shop консультация tokenoidtokenoid стрельский',\n",
       "        'basketball', 3],\n",
       "       ...,\n",
       "       ['открыть предзаказ хребты безумие книга игра лавкрафтианским миф которой предстоять возглавить антарктический экспедиция которая столкнуться древний тайнам среди бескрайний холодный пустынь южный континент предстоять делать нелёгкий выбор выбирать безопасность любопытство внимательно следить происходить исход сюжет зависеть опасный событие древний артефакт загадочные смерть говорить антарктида бывать безумно интересный оформлять заказ ссылка предзаказ hotokenoid книгаигра',\n",
       "        'boardgames', 5],\n",
       "       ['мочь хороший делать нравиться спорт сделать самыми счастливый',\n",
       "        'athletics', 6],\n",
       "       ['завтра мск стартовать этап бриллиантовый лига стокгольм это последний крупный турнир чемпионат мир традиционно сильный состав вряд мочь удивить перечислю главный интрига этап марсель джейкобс м олимпийский чемпион оправиться травма болезнь готовый стартануть предел италия суббота выиграть чемпионат страна показать лишь против джейкобса рис прескод акани симбине бежавшие сезон мондо дюплантис шест весь четыре старт сезон шведу везти погода сильный дождь осло дюплантис взять м свой болельщиках хороший погода результат должный сильно вырасти соперник дать расслабиться весь прыгать выше м сезон бенджамин роберт м француз сенсационно выиграть прошлый этап париж сбросить личника секунда обогнать мощный состав затем третий подряд стать чемпион страна шанс обогнать топ ои стать претендент победа чм женский прыжок высота наполовину состоять украинка это заслуженно весь четверо преодолевали сезон планка м высоко ярослав магучих недавно третий обновить мировой лидерство взять м чехия длина выиграть римский этап марина бех романчук попытаться снова обыграть лидер сезон малайка михамбо недавно обновить личный рекорд шведку хадди санья особый интрига смочь блистать зима элианор паттерсон иван вулета шпанович впервые лето показать серьёзный результат мужской метание диск казаться стандартный непредсказуемый противостояние даниэль шталь кристиан чех которое вмешиваться андрюс гудзюс однако самого гудзюса чемпионат литва метр перебросить летний миколас алекна сын виргилиуса алекны второй метатель история сегодня дебютировать бриллиантовый лига сразу добавлять интрига метание копьё собраться роскошный снова весь олимпийский пьедестал глава ниражем чопра чемпион мир явный лидер сезон андерсон питерс обыграть весь пара неделя назад оливер хеландер расписание стартлисты результат ждать стриме',\n",
       "        'athletics', 6]], dtype=object)"
      ]
     },
     "execution_count": 86,
     "metadata": {},
     "output_type": "execute_result"
    }
   ],
   "source": [
    "df[df.duplicated()].values"
   ]
  },
  {
   "cell_type": "code",
   "execution_count": 89,
   "metadata": {
    "executionInfo": {
     "elapsed": 4,
     "status": "ok",
     "timestamp": 1721923683717,
     "user": {
      "displayName": "Герман Наумов",
      "userId": "14079017463511942105"
     },
     "user_tz": -180
    },
    "id": "54PZRN-MlYdw"
   },
   "outputs": [],
   "source": [
    "df = df.reset_index().drop(columns=['index'], axis=1)"
   ]
  },
  {
   "cell_type": "code",
   "execution_count": 90,
   "metadata": {
    "colab": {
     "base_uri": "https://localhost:8080/",
     "height": 423
    },
    "executionInfo": {
     "elapsed": 831,
     "status": "ok",
     "timestamp": 1721923690520,
     "user": {
      "displayName": "Герман Наумов",
      "userId": "14079017463511942105"
     },
     "user_tz": -180
    },
    "id": "_4db7BAKplgy",
    "outputId": "36aa7db7-b365-4a12-d75c-a48b68764e2a"
   },
   "outputs": [
    {
     "data": {
      "application/vnd.google.colaboratory.intrinsic+json": {
       "summary": "{\n  \"name\": \"df\",\n  \"rows\": 52714,\n  \"fields\": [\n    {\n      \"column\": \"text\",\n      \"properties\": {\n        \"dtype\": \"string\",\n        \"num_unique_values\": 47674,\n        \"samples\": [\n          \"\\u0440\\u0430\\u0437\\u0440\\u0430\\u0431\\u043e\\u0442\\u0447\\u0438\\u043a \\u0447\\u0438\\u0442\\u043e\\u0432 \\u043f\\u0440\\u0435\\u043a\\u0440\\u0430\\u0442\\u0438\\u0442\\u044c \\u043f\\u043e\\u0434\\u0434\\u0435\\u0440\\u0436\\u043a\\u0430 \\u0441\\u043e\\u0444\\u0442 batttokenoid \\u043f\\u0440\\u043e\\u0431\\u043b\\u0435\\u043c\\u0430 \\u043f\\u0440\\u043e\\u0438\\u0437\\u0432\\u043e\\u0434\\u0438\\u0442\\u0435\\u043b\\u044c\\u043d\\u043e\\u0441\\u0442\\u044c \\u0438\\u0433\\u0440\\u0430 \\u043a\\u043e\\u0442\\u043e\\u0440\\u044b\\u0435 \\u0441\\u043a\\u0430\\u0437\\u044b\\u0432\\u0430\\u0442\\u044c\\u0441\\u044f \\u0447\\u0438\\u0442\\u0435 \\u043c\\u043e\\u0447\\u044c \\u0432\\u0430\\u043b\\u0432\\u044b \\u0441\\u0442\\u0440\\u0435\\u043c\\u0438\\u0442\\u044c\\u0441\\u044f \\u0442\\u043e\\u043c\\u0443\",\n          \"\\u043e\\u0431\\u0441\\u0443\\u0436\\u0434\\u0435\\u043d\\u0438\\u0435 \\u043c\\u0430\\u0442\\u0447 \\u043b\\u0435\\u0439\\u043a\\u0435\\u0440\\u0441 \\u0432\\u043a \\u0442\\u0435\\u043b\\u0435\\u0433\\u0440\\u0430\\u043c\\u043c \\u0441\\u0441\\u044b\\u043b\\u043a\\u0430 \\u0442\\u0440\\u0430\\u043d\\u0441\\u043b\\u044f\\u0446\\u0438\\u044f\",\n          \"\\u0431\\u0435\\u0442\\u0438\\u043d\\u0430 \\u043f\\u043e\\u043f\\u043e\\u0432 \\u043e\\u0446\\u0435\\u043d\\u0438\\u0442\\u044c \\u043d\\u043e\\u0432\\u044b\\u0439 \\u043f\\u0440\\u043e\\u0433\\u0440\\u0430\\u043c\\u043c\\u0430 \\u043a\\u0430\\u043c\\u0438\\u043b\\u0430 \\u0432\\u0430\\u043b\\u0438\\u0435\\u0432 \\u043f\\u043e\\u0447\\u0435\\u043c\\u0443 \\u0441\\u0440\\u0430\\u0437\\u0443 \\u0432\\u0441\\u043f\\u043e\\u043c\\u043d\\u0438\\u0442\\u044c\\u0441\\u044f \\u043f\\u0440\\u043e\\u0433\\u0440\\u0430\\u043c\\u043c\\u0430 \\u0436\\u0435\\u043d\\u044f \\u043c\\u0435\\u0434\\u0432\\u0435\\u0434\\u0435\\u0432 \\u043e\\u0431\\u0449\\u0430\\u0442\\u044c\\u0441\\u044f \\u044f\\u0437\\u044b\\u043a \\u043d\\u0435\\u043c\\u043e\\u0439 \\u0436\\u0435\\u0441\\u0442 \\u043f\\u043e\\u0447\\u0435\\u043c\\u0443 \\u043f\\u0440\\u0438\\u0439\\u0442\\u0438 \\u0433\\u043e\\u043b\\u043e\\u0432\\u0430 \\u0438\\u043c\\u0435\\u043d\\u043d\\u043e \\u043e\\u0442\\u0441\\u044b\\u043b\\u043a\\u0430 \\u043f\\u0440\\u043e\\u0433\\u0440\\u0430\\u043c\\u043c\\u0430 \\u043a\\u0430\\u0441\\u0430\\u0442\\u044c\\u0441\\u044f \\u043a\\u043e\\u0440\\u043e\\u0442\\u043a\\u0438\\u0439 \\u043f\\u0440\\u043e\\u0433\\u0440\\u0430\\u043c\\u043c\\u0430 \\u043a\\u0430\\u043c\\u0438\\u043b\\u0430 \\u0432\\u044b\\u0439\\u0442\\u0438 \\u0437\\u0430\\u043c\\u0435\\u0447\\u0430\\u0442\\u0435\\u043b\\u044c\\u043d\\u044b\\u0439 \\u043a\\u0430\\u043c\\u0438\\u043b\\u0430 \\u0438\\u0434\\u0442\\u0438 \\u043a\\u0440\\u0430\\u0441\\u0438\\u0432\\u044b\\u0439 \\u043c\\u0443\\u0437\\u044b\\u043a\\u0430 \\u043a\\u0440\\u0430\\u0441\\u0438\\u0432\\u044b\\u0439 \\u043b\\u0438\\u043d\\u0438\\u044f \\u043f\\u0440\\u043e\\u0438\\u0437\\u0432\\u043e\\u043b\\u044c\\u043d\\u044b\\u0439 \\u043f\\u0440\\u043e\\u0433\\u0440\\u0430\\u043c\\u043c\\u0430 \\u043f\\u0440\\u043e\\u0447\\u0438\\u0442\\u0430\\u0442\\u044c \\u043c\\u043d\\u043e\\u0436\\u0435\\u0441\\u0442\\u0432\\u043e \\u043e\\u0442\\u0437\\u044b\\u0432 \\u043d\\u0435\\u043f\\u043e\\u043d\\u044f\\u0442\\u043d\\u044b\\u0439 \\u044d\\u0442\\u043e \\u043e\\u0446\\u0435\\u043d\\u0438\\u0432\\u0430\\u0442\\u044c \\u043d\\u0435\\u043f\\u043e\\u043d\\u044f\\u0442\\u043d\\u044b\\u0439 \\u044d\\u0442\\u043e \\u0432\\u043e\\u0441\\u043f\\u0440\\u0438\\u043d\\u0438\\u043c\\u0430\\u0442\\u044c \\u043e\\u0434\\u043d\\u043e\\u0439 \\u0441\\u0442\\u043e\\u0440\\u043e\\u043d\\u0430 \\u043a\\u0430\\u043c\\u0438\\u043b\\u0430 \\u0437\\u0430\\u043d\\u043e\\u0432\\u043e \\u043f\\u0435\\u0440\\u0435\\u0436\\u0438\\u0442\\u044c \\u0441\\u043a\\u0430\\u0437\\u0430\\u0442\\u044c \\u0442\\u0440\\u0430\\u0433\\u0435\\u0434\\u0438\\u044f \\u0445\\u043e\\u0442\\u044f \\u044d\\u0442\\u043e \\u043e\\u0447\\u0435\\u043d\\u044c \\u0441\\u0442\\u0440\\u0430\\u0448\\u043d\\u044b\\u0439 \\u0441\\u043b\\u043e\\u0432\\u043e \\u044d\\u043c\\u043e\\u0446\\u0438\\u043e\\u043d\\u0430\\u043b\\u044c\\u043d\\u044b\\u0439 \\u043f\\u043b\\u0430\\u043d \\u043a\\u0430\\u0437\\u0430\\u0442\\u044c\\u0441\\u044f \\u0442\\u044f\\u0436\\u0451\\u043b\\u044b\\u0439 \\u043a\\u0430\\u0442\\u0430\\u0442\\u044c \\u044d\\u0442\\u043e \\u0446\\u0435\\u043b\\u044b\\u0439 \\u0441\\u0435\\u0437\\u043e\\u043d \\u044d\\u0442\\u043e \\u0431\\u043e\\u043b\\u0435\\u0437\\u043d\\u0435\\u043d\\u043d\\u044b\\u0439 \\u043a\\u0430\\u0436\\u0434\\u044b\\u0439 \\u0441\\u0442\\u043e\\u0438\\u0442\\u044c \\u043e\\u043d\\u043e \\u0432\\u043e\\u043e\\u0431\\u0449\\u0435 \\u043e\\u0431\\u044a\\u044f\\u0441\\u043d\\u0438\\u0442\\u044c \\u0431\\u0435\\u0442\\u0438\\u043d\\u0430\"\n        ],\n        \"semantic_type\": \"\",\n        \"description\": \"\"\n      }\n    },\n    {\n      \"column\": \"class_name\",\n      \"properties\": {\n        \"dtype\": \"category\",\n        \"num_unique_values\": 13,\n        \"samples\": [\n          \"extreme\",\n          \"esport\",\n          \"martial_arts\"\n        ],\n        \"semantic_type\": \"\",\n        \"description\": \"\"\n      }\n    },\n    {\n      \"column\": \"class\",\n      \"properties\": {\n        \"dtype\": \"number\",\n        \"std\": 3,\n        \"min\": 0,\n        \"max\": 12,\n        \"num_unique_values\": 13,\n        \"samples\": [\n          11,\n          0,\n          1\n        ],\n        \"semantic_type\": \"\",\n        \"description\": \"\"\n      }\n    }\n  ]\n}",
       "type": "dataframe",
       "variable_name": "df"
      },
      "text/html": [
       "\n",
       "  <div id=\"df-4b24087b-3955-404a-babe-c8d5c9da0736\" class=\"colab-df-container\">\n",
       "    <div>\n",
       "<style scoped>\n",
       "    .dataframe tbody tr th:only-of-type {\n",
       "        vertical-align: middle;\n",
       "    }\n",
       "\n",
       "    .dataframe tbody tr th {\n",
       "        vertical-align: top;\n",
       "    }\n",
       "\n",
       "    .dataframe thead th {\n",
       "        text-align: right;\n",
       "    }\n",
       "</style>\n",
       "<table border=\"1\" class=\"dataframe\">\n",
       "  <thead>\n",
       "    <tr style=\"text-align: right;\">\n",
       "      <th></th>\n",
       "      <th>text</th>\n",
       "      <th>class_name</th>\n",
       "      <th>class</th>\n",
       "    </tr>\n",
       "  </thead>\n",
       "  <tbody>\n",
       "    <tr>\n",
       "      <th>0</th>\n",
       "      <td>уход ислам мамедов плотный удушающего реакция ...</td>\n",
       "      <td>martial_arts</td>\n",
       "      <td>1</td>\n",
       "    </tr>\n",
       "    <tr>\n",
       "      <th>1</th>\n",
       "      <td>ждать диллона прошлый неделя обещать конец нед...</td>\n",
       "      <td>basketball</td>\n",
       "      <td>3</td>\n",
       "    </tr>\n",
       "    <tr>\n",
       "      <th>2</th>\n",
       "      <td>энтони джошуа продолжать подготовка реванш уси...</td>\n",
       "      <td>martial_arts</td>\n",
       "      <td>1</td>\n",
       "    </tr>\n",
       "    <tr>\n",
       "      <th>3</th>\n",
       "      <td>мотогонка лёд speetokenoid tokenoid личный чем...</td>\n",
       "      <td>motosport</td>\n",
       "      <td>9</td>\n",
       "    </tr>\n",
       "    <tr>\n",
       "      <th>4</th>\n",
       "      <td>присылать ваш беговой фото публикация коммента...</td>\n",
       "      <td>athletics</td>\n",
       "      <td>6</td>\n",
       "    </tr>\n",
       "    <tr>\n",
       "      <th>...</th>\n",
       "      <td>...</td>\n",
       "      <td>...</td>\n",
       "      <td>...</td>\n",
       "    </tr>\n",
       "    <tr>\n",
       "      <th>52709</th>\n",
       "      <td>рафаэль надаль рассказать взаимоотношение фина...</td>\n",
       "      <td>tennis</td>\n",
       "      <td>2</td>\n",
       "    </tr>\n",
       "    <tr>\n",
       "      <th>52710</th>\n",
       "      <td>открыть предзаказ хребты безумие книга игра ла...</td>\n",
       "      <td>boardgames</td>\n",
       "      <td>5</td>\n",
       "    </tr>\n",
       "    <tr>\n",
       "      <th>52711</th>\n",
       "      <td>огромный успех эдди хирн цифра ppv канело биво...</td>\n",
       "      <td>martial_arts</td>\n",
       "      <td>1</td>\n",
       "    </tr>\n",
       "    <tr>\n",
       "      <th>52712</th>\n",
       "      <td>мочь хороший делать нравиться спорт сделать са...</td>\n",
       "      <td>athletics</td>\n",
       "      <td>6</td>\n",
       "    </tr>\n",
       "    <tr>\n",
       "      <th>52713</th>\n",
       "      <td>завтра мск стартовать этап бриллиантовый лига ...</td>\n",
       "      <td>athletics</td>\n",
       "      <td>6</td>\n",
       "    </tr>\n",
       "  </tbody>\n",
       "</table>\n",
       "<p>52714 rows × 3 columns</p>\n",
       "</div>\n",
       "    <div class=\"colab-df-buttons\">\n",
       "\n",
       "  <div class=\"colab-df-container\">\n",
       "    <button class=\"colab-df-convert\" onclick=\"convertToInteractive('df-4b24087b-3955-404a-babe-c8d5c9da0736')\"\n",
       "            title=\"Convert this dataframe to an interactive table.\"\n",
       "            style=\"display:none;\">\n",
       "\n",
       "  <svg xmlns=\"http://www.w3.org/2000/svg\" height=\"24px\" viewBox=\"0 -960 960 960\">\n",
       "    <path d=\"M120-120v-720h720v720H120Zm60-500h600v-160H180v160Zm220 220h160v-160H400v160Zm0 220h160v-160H400v160ZM180-400h160v-160H180v160Zm440 0h160v-160H620v160ZM180-180h160v-160H180v160Zm440 0h160v-160H620v160Z\"/>\n",
       "  </svg>\n",
       "    </button>\n",
       "\n",
       "  <style>\n",
       "    .colab-df-container {\n",
       "      display:flex;\n",
       "      gap: 12px;\n",
       "    }\n",
       "\n",
       "    .colab-df-convert {\n",
       "      background-color: #E8F0FE;\n",
       "      border: none;\n",
       "      border-radius: 50%;\n",
       "      cursor: pointer;\n",
       "      display: none;\n",
       "      fill: #1967D2;\n",
       "      height: 32px;\n",
       "      padding: 0 0 0 0;\n",
       "      width: 32px;\n",
       "    }\n",
       "\n",
       "    .colab-df-convert:hover {\n",
       "      background-color: #E2EBFA;\n",
       "      box-shadow: 0px 1px 2px rgba(60, 64, 67, 0.3), 0px 1px 3px 1px rgba(60, 64, 67, 0.15);\n",
       "      fill: #174EA6;\n",
       "    }\n",
       "\n",
       "    .colab-df-buttons div {\n",
       "      margin-bottom: 4px;\n",
       "    }\n",
       "\n",
       "    [theme=dark] .colab-df-convert {\n",
       "      background-color: #3B4455;\n",
       "      fill: #D2E3FC;\n",
       "    }\n",
       "\n",
       "    [theme=dark] .colab-df-convert:hover {\n",
       "      background-color: #434B5C;\n",
       "      box-shadow: 0px 1px 3px 1px rgba(0, 0, 0, 0.15);\n",
       "      filter: drop-shadow(0px 1px 2px rgba(0, 0, 0, 0.3));\n",
       "      fill: #FFFFFF;\n",
       "    }\n",
       "  </style>\n",
       "\n",
       "    <script>\n",
       "      const buttonEl =\n",
       "        document.querySelector('#df-4b24087b-3955-404a-babe-c8d5c9da0736 button.colab-df-convert');\n",
       "      buttonEl.style.display =\n",
       "        google.colab.kernel.accessAllowed ? 'block' : 'none';\n",
       "\n",
       "      async function convertToInteractive(key) {\n",
       "        const element = document.querySelector('#df-4b24087b-3955-404a-babe-c8d5c9da0736');\n",
       "        const dataTable =\n",
       "          await google.colab.kernel.invokeFunction('convertToInteractive',\n",
       "                                                    [key], {});\n",
       "        if (!dataTable) return;\n",
       "\n",
       "        const docLinkHtml = 'Like what you see? Visit the ' +\n",
       "          '<a target=\"_blank\" href=https://colab.research.google.com/notebooks/data_table.ipynb>data table notebook</a>'\n",
       "          + ' to learn more about interactive tables.';\n",
       "        element.innerHTML = '';\n",
       "        dataTable['output_type'] = 'display_data';\n",
       "        await google.colab.output.renderOutput(dataTable, element);\n",
       "        const docLink = document.createElement('div');\n",
       "        docLink.innerHTML = docLinkHtml;\n",
       "        element.appendChild(docLink);\n",
       "      }\n",
       "    </script>\n",
       "  </div>\n",
       "\n",
       "\n",
       "<div id=\"df-85a54d5a-be6b-4e27-b5e5-a059420f9eb5\">\n",
       "  <button class=\"colab-df-quickchart\" onclick=\"quickchart('df-85a54d5a-be6b-4e27-b5e5-a059420f9eb5')\"\n",
       "            title=\"Suggest charts\"\n",
       "            style=\"display:none;\">\n",
       "\n",
       "<svg xmlns=\"http://www.w3.org/2000/svg\" height=\"24px\"viewBox=\"0 0 24 24\"\n",
       "     width=\"24px\">\n",
       "    <g>\n",
       "        <path d=\"M19 3H5c-1.1 0-2 .9-2 2v14c0 1.1.9 2 2 2h14c1.1 0 2-.9 2-2V5c0-1.1-.9-2-2-2zM9 17H7v-7h2v7zm4 0h-2V7h2v10zm4 0h-2v-4h2v4z\"/>\n",
       "    </g>\n",
       "</svg>\n",
       "  </button>\n",
       "\n",
       "<style>\n",
       "  .colab-df-quickchart {\n",
       "      --bg-color: #E8F0FE;\n",
       "      --fill-color: #1967D2;\n",
       "      --hover-bg-color: #E2EBFA;\n",
       "      --hover-fill-color: #174EA6;\n",
       "      --disabled-fill-color: #AAA;\n",
       "      --disabled-bg-color: #DDD;\n",
       "  }\n",
       "\n",
       "  [theme=dark] .colab-df-quickchart {\n",
       "      --bg-color: #3B4455;\n",
       "      --fill-color: #D2E3FC;\n",
       "      --hover-bg-color: #434B5C;\n",
       "      --hover-fill-color: #FFFFFF;\n",
       "      --disabled-bg-color: #3B4455;\n",
       "      --disabled-fill-color: #666;\n",
       "  }\n",
       "\n",
       "  .colab-df-quickchart {\n",
       "    background-color: var(--bg-color);\n",
       "    border: none;\n",
       "    border-radius: 50%;\n",
       "    cursor: pointer;\n",
       "    display: none;\n",
       "    fill: var(--fill-color);\n",
       "    height: 32px;\n",
       "    padding: 0;\n",
       "    width: 32px;\n",
       "  }\n",
       "\n",
       "  .colab-df-quickchart:hover {\n",
       "    background-color: var(--hover-bg-color);\n",
       "    box-shadow: 0 1px 2px rgba(60, 64, 67, 0.3), 0 1px 3px 1px rgba(60, 64, 67, 0.15);\n",
       "    fill: var(--button-hover-fill-color);\n",
       "  }\n",
       "\n",
       "  .colab-df-quickchart-complete:disabled,\n",
       "  .colab-df-quickchart-complete:disabled:hover {\n",
       "    background-color: var(--disabled-bg-color);\n",
       "    fill: var(--disabled-fill-color);\n",
       "    box-shadow: none;\n",
       "  }\n",
       "\n",
       "  .colab-df-spinner {\n",
       "    border: 2px solid var(--fill-color);\n",
       "    border-color: transparent;\n",
       "    border-bottom-color: var(--fill-color);\n",
       "    animation:\n",
       "      spin 1s steps(1) infinite;\n",
       "  }\n",
       "\n",
       "  @keyframes spin {\n",
       "    0% {\n",
       "      border-color: transparent;\n",
       "      border-bottom-color: var(--fill-color);\n",
       "      border-left-color: var(--fill-color);\n",
       "    }\n",
       "    20% {\n",
       "      border-color: transparent;\n",
       "      border-left-color: var(--fill-color);\n",
       "      border-top-color: var(--fill-color);\n",
       "    }\n",
       "    30% {\n",
       "      border-color: transparent;\n",
       "      border-left-color: var(--fill-color);\n",
       "      border-top-color: var(--fill-color);\n",
       "      border-right-color: var(--fill-color);\n",
       "    }\n",
       "    40% {\n",
       "      border-color: transparent;\n",
       "      border-right-color: var(--fill-color);\n",
       "      border-top-color: var(--fill-color);\n",
       "    }\n",
       "    60% {\n",
       "      border-color: transparent;\n",
       "      border-right-color: var(--fill-color);\n",
       "    }\n",
       "    80% {\n",
       "      border-color: transparent;\n",
       "      border-right-color: var(--fill-color);\n",
       "      border-bottom-color: var(--fill-color);\n",
       "    }\n",
       "    90% {\n",
       "      border-color: transparent;\n",
       "      border-bottom-color: var(--fill-color);\n",
       "    }\n",
       "  }\n",
       "</style>\n",
       "\n",
       "  <script>\n",
       "    async function quickchart(key) {\n",
       "      const quickchartButtonEl =\n",
       "        document.querySelector('#' + key + ' button');\n",
       "      quickchartButtonEl.disabled = true;  // To prevent multiple clicks.\n",
       "      quickchartButtonEl.classList.add('colab-df-spinner');\n",
       "      try {\n",
       "        const charts = await google.colab.kernel.invokeFunction(\n",
       "            'suggestCharts', [key], {});\n",
       "      } catch (error) {\n",
       "        console.error('Error during call to suggestCharts:', error);\n",
       "      }\n",
       "      quickchartButtonEl.classList.remove('colab-df-spinner');\n",
       "      quickchartButtonEl.classList.add('colab-df-quickchart-complete');\n",
       "    }\n",
       "    (() => {\n",
       "      let quickchartButtonEl =\n",
       "        document.querySelector('#df-85a54d5a-be6b-4e27-b5e5-a059420f9eb5 button');\n",
       "      quickchartButtonEl.style.display =\n",
       "        google.colab.kernel.accessAllowed ? 'block' : 'none';\n",
       "    })();\n",
       "  </script>\n",
       "</div>\n",
       "    </div>\n",
       "  </div>\n"
      ],
      "text/plain": [
       "                                                    text    class_name  class\n",
       "0      уход ислам мамедов плотный удушающего реакция ...  martial_arts      1\n",
       "1      ждать диллона прошлый неделя обещать конец нед...    basketball      3\n",
       "2      энтони джошуа продолжать подготовка реванш уси...  martial_arts      1\n",
       "3      мотогонка лёд speetokenoid tokenoid личный чем...     motosport      9\n",
       "4      присылать ваш беговой фото публикация коммента...     athletics      6\n",
       "...                                                  ...           ...    ...\n",
       "52709  рафаэль надаль рассказать взаимоотношение фина...        tennis      2\n",
       "52710  открыть предзаказ хребты безумие книга игра ла...    boardgames      5\n",
       "52711  огромный успех эдди хирн цифра ppv канело биво...  martial_arts      1\n",
       "52712  мочь хороший делать нравиться спорт сделать са...     athletics      6\n",
       "52713  завтра мск стартовать этап бриллиантовый лига ...     athletics      6\n",
       "\n",
       "[52714 rows x 3 columns]"
      ]
     },
     "execution_count": 90,
     "metadata": {},
     "output_type": "execute_result"
    }
   ],
   "source": [
    "df"
   ]
  },
  {
   "cell_type": "code",
   "execution_count": 93,
   "metadata": {
    "executionInfo": {
     "elapsed": 363,
     "status": "ok",
     "timestamp": 1721923728268,
     "user": {
      "displayName": "Герман Наумов",
      "userId": "14079017463511942105"
     },
     "user_tz": -180
    },
    "id": "BW1JTX4Olorr"
   },
   "outputs": [],
   "source": [
    "df = df.drop_duplicates()\n",
    "df = df.reset_index().drop(columns=['index'], axis=1)"
   ]
  },
  {
   "cell_type": "code",
   "execution_count": 94,
   "metadata": {
    "colab": {
     "base_uri": "https://localhost:8080/",
     "height": 423
    },
    "executionInfo": {
     "elapsed": 924,
     "status": "ok",
     "timestamp": 1721923732832,
     "user": {
      "displayName": "Герман Наумов",
      "userId": "14079017463511942105"
     },
     "user_tz": -180
    },
    "id": "nH15LFVfoQQd",
    "outputId": "bbc4aea0-0ba8-40d7-9e7c-0804db190817"
   },
   "outputs": [
    {
     "data": {
      "application/vnd.google.colaboratory.intrinsic+json": {
       "summary": "{\n  \"name\": \"df\",\n  \"rows\": 47955,\n  \"fields\": [\n    {\n      \"column\": \"text\",\n      \"properties\": {\n        \"dtype\": \"string\",\n        \"num_unique_values\": 47674,\n        \"samples\": [\n          \"\\u0440\\u0430\\u0437\\u0440\\u0430\\u0431\\u043e\\u0442\\u0447\\u0438\\u043a \\u0447\\u0438\\u0442\\u043e\\u0432 \\u043f\\u0440\\u0435\\u043a\\u0440\\u0430\\u0442\\u0438\\u0442\\u044c \\u043f\\u043e\\u0434\\u0434\\u0435\\u0440\\u0436\\u043a\\u0430 \\u0441\\u043e\\u0444\\u0442 batttokenoid \\u043f\\u0440\\u043e\\u0431\\u043b\\u0435\\u043c\\u0430 \\u043f\\u0440\\u043e\\u0438\\u0437\\u0432\\u043e\\u0434\\u0438\\u0442\\u0435\\u043b\\u044c\\u043d\\u043e\\u0441\\u0442\\u044c \\u0438\\u0433\\u0440\\u0430 \\u043a\\u043e\\u0442\\u043e\\u0440\\u044b\\u0435 \\u0441\\u043a\\u0430\\u0437\\u044b\\u0432\\u0430\\u0442\\u044c\\u0441\\u044f \\u0447\\u0438\\u0442\\u0435 \\u043c\\u043e\\u0447\\u044c \\u0432\\u0430\\u043b\\u0432\\u044b \\u0441\\u0442\\u0440\\u0435\\u043c\\u0438\\u0442\\u044c\\u0441\\u044f \\u0442\\u043e\\u043c\\u0443\",\n          \"\\u043e\\u0431\\u0441\\u0443\\u0436\\u0434\\u0435\\u043d\\u0438\\u0435 \\u043c\\u0430\\u0442\\u0447 \\u043b\\u0435\\u0439\\u043a\\u0435\\u0440\\u0441 \\u0432\\u043a \\u0442\\u0435\\u043b\\u0435\\u0433\\u0440\\u0430\\u043c\\u043c \\u0441\\u0441\\u044b\\u043b\\u043a\\u0430 \\u0442\\u0440\\u0430\\u043d\\u0441\\u043b\\u044f\\u0446\\u0438\\u044f\",\n          \"\\u0431\\u0435\\u0442\\u0438\\u043d\\u0430 \\u043f\\u043e\\u043f\\u043e\\u0432 \\u043e\\u0446\\u0435\\u043d\\u0438\\u0442\\u044c \\u043d\\u043e\\u0432\\u044b\\u0439 \\u043f\\u0440\\u043e\\u0433\\u0440\\u0430\\u043c\\u043c\\u0430 \\u043a\\u0430\\u043c\\u0438\\u043b\\u0430 \\u0432\\u0430\\u043b\\u0438\\u0435\\u0432 \\u043f\\u043e\\u0447\\u0435\\u043c\\u0443 \\u0441\\u0440\\u0430\\u0437\\u0443 \\u0432\\u0441\\u043f\\u043e\\u043c\\u043d\\u0438\\u0442\\u044c\\u0441\\u044f \\u043f\\u0440\\u043e\\u0433\\u0440\\u0430\\u043c\\u043c\\u0430 \\u0436\\u0435\\u043d\\u044f \\u043c\\u0435\\u0434\\u0432\\u0435\\u0434\\u0435\\u0432 \\u043e\\u0431\\u0449\\u0430\\u0442\\u044c\\u0441\\u044f \\u044f\\u0437\\u044b\\u043a \\u043d\\u0435\\u043c\\u043e\\u0439 \\u0436\\u0435\\u0441\\u0442 \\u043f\\u043e\\u0447\\u0435\\u043c\\u0443 \\u043f\\u0440\\u0438\\u0439\\u0442\\u0438 \\u0433\\u043e\\u043b\\u043e\\u0432\\u0430 \\u0438\\u043c\\u0435\\u043d\\u043d\\u043e \\u043e\\u0442\\u0441\\u044b\\u043b\\u043a\\u0430 \\u043f\\u0440\\u043e\\u0433\\u0440\\u0430\\u043c\\u043c\\u0430 \\u043a\\u0430\\u0441\\u0430\\u0442\\u044c\\u0441\\u044f \\u043a\\u043e\\u0440\\u043e\\u0442\\u043a\\u0438\\u0439 \\u043f\\u0440\\u043e\\u0433\\u0440\\u0430\\u043c\\u043c\\u0430 \\u043a\\u0430\\u043c\\u0438\\u043b\\u0430 \\u0432\\u044b\\u0439\\u0442\\u0438 \\u0437\\u0430\\u043c\\u0435\\u0447\\u0430\\u0442\\u0435\\u043b\\u044c\\u043d\\u044b\\u0439 \\u043a\\u0430\\u043c\\u0438\\u043b\\u0430 \\u0438\\u0434\\u0442\\u0438 \\u043a\\u0440\\u0430\\u0441\\u0438\\u0432\\u044b\\u0439 \\u043c\\u0443\\u0437\\u044b\\u043a\\u0430 \\u043a\\u0440\\u0430\\u0441\\u0438\\u0432\\u044b\\u0439 \\u043b\\u0438\\u043d\\u0438\\u044f \\u043f\\u0440\\u043e\\u0438\\u0437\\u0432\\u043e\\u043b\\u044c\\u043d\\u044b\\u0439 \\u043f\\u0440\\u043e\\u0433\\u0440\\u0430\\u043c\\u043c\\u0430 \\u043f\\u0440\\u043e\\u0447\\u0438\\u0442\\u0430\\u0442\\u044c \\u043c\\u043d\\u043e\\u0436\\u0435\\u0441\\u0442\\u0432\\u043e \\u043e\\u0442\\u0437\\u044b\\u0432 \\u043d\\u0435\\u043f\\u043e\\u043d\\u044f\\u0442\\u043d\\u044b\\u0439 \\u044d\\u0442\\u043e \\u043e\\u0446\\u0435\\u043d\\u0438\\u0432\\u0430\\u0442\\u044c \\u043d\\u0435\\u043f\\u043e\\u043d\\u044f\\u0442\\u043d\\u044b\\u0439 \\u044d\\u0442\\u043e \\u0432\\u043e\\u0441\\u043f\\u0440\\u0438\\u043d\\u0438\\u043c\\u0430\\u0442\\u044c \\u043e\\u0434\\u043d\\u043e\\u0439 \\u0441\\u0442\\u043e\\u0440\\u043e\\u043d\\u0430 \\u043a\\u0430\\u043c\\u0438\\u043b\\u0430 \\u0437\\u0430\\u043d\\u043e\\u0432\\u043e \\u043f\\u0435\\u0440\\u0435\\u0436\\u0438\\u0442\\u044c \\u0441\\u043a\\u0430\\u0437\\u0430\\u0442\\u044c \\u0442\\u0440\\u0430\\u0433\\u0435\\u0434\\u0438\\u044f \\u0445\\u043e\\u0442\\u044f \\u044d\\u0442\\u043e \\u043e\\u0447\\u0435\\u043d\\u044c \\u0441\\u0442\\u0440\\u0430\\u0448\\u043d\\u044b\\u0439 \\u0441\\u043b\\u043e\\u0432\\u043e \\u044d\\u043c\\u043e\\u0446\\u0438\\u043e\\u043d\\u0430\\u043b\\u044c\\u043d\\u044b\\u0439 \\u043f\\u043b\\u0430\\u043d \\u043a\\u0430\\u0437\\u0430\\u0442\\u044c\\u0441\\u044f \\u0442\\u044f\\u0436\\u0451\\u043b\\u044b\\u0439 \\u043a\\u0430\\u0442\\u0430\\u0442\\u044c \\u044d\\u0442\\u043e \\u0446\\u0435\\u043b\\u044b\\u0439 \\u0441\\u0435\\u0437\\u043e\\u043d \\u044d\\u0442\\u043e \\u0431\\u043e\\u043b\\u0435\\u0437\\u043d\\u0435\\u043d\\u043d\\u044b\\u0439 \\u043a\\u0430\\u0436\\u0434\\u044b\\u0439 \\u0441\\u0442\\u043e\\u0438\\u0442\\u044c \\u043e\\u043d\\u043e \\u0432\\u043e\\u043e\\u0431\\u0449\\u0435 \\u043e\\u0431\\u044a\\u044f\\u0441\\u043d\\u0438\\u0442\\u044c \\u0431\\u0435\\u0442\\u0438\\u043d\\u0430\"\n        ],\n        \"semantic_type\": \"\",\n        \"description\": \"\"\n      }\n    },\n    {\n      \"column\": \"class_name\",\n      \"properties\": {\n        \"dtype\": \"category\",\n        \"num_unique_values\": 13,\n        \"samples\": [\n          \"extreme\",\n          \"esport\",\n          \"martial_arts\"\n        ],\n        \"semantic_type\": \"\",\n        \"description\": \"\"\n      }\n    },\n    {\n      \"column\": \"class\",\n      \"properties\": {\n        \"dtype\": \"number\",\n        \"std\": 3,\n        \"min\": 0,\n        \"max\": 12,\n        \"num_unique_values\": 13,\n        \"samples\": [\n          11,\n          0,\n          1\n        ],\n        \"semantic_type\": \"\",\n        \"description\": \"\"\n      }\n    }\n  ]\n}",
       "type": "dataframe",
       "variable_name": "df"
      },
      "text/html": [
       "\n",
       "  <div id=\"df-da7749e4-5347-427f-a0e5-54772e2894f8\" class=\"colab-df-container\">\n",
       "    <div>\n",
       "<style scoped>\n",
       "    .dataframe tbody tr th:only-of-type {\n",
       "        vertical-align: middle;\n",
       "    }\n",
       "\n",
       "    .dataframe tbody tr th {\n",
       "        vertical-align: top;\n",
       "    }\n",
       "\n",
       "    .dataframe thead th {\n",
       "        text-align: right;\n",
       "    }\n",
       "</style>\n",
       "<table border=\"1\" class=\"dataframe\">\n",
       "  <thead>\n",
       "    <tr style=\"text-align: right;\">\n",
       "      <th></th>\n",
       "      <th>text</th>\n",
       "      <th>class_name</th>\n",
       "      <th>class</th>\n",
       "    </tr>\n",
       "  </thead>\n",
       "  <tbody>\n",
       "    <tr>\n",
       "      <th>0</th>\n",
       "      <td>уход ислам мамедов плотный удушающего реакция ...</td>\n",
       "      <td>martial_arts</td>\n",
       "      <td>1</td>\n",
       "    </tr>\n",
       "    <tr>\n",
       "      <th>1</th>\n",
       "      <td>ждать диллона прошлый неделя обещать конец нед...</td>\n",
       "      <td>basketball</td>\n",
       "      <td>3</td>\n",
       "    </tr>\n",
       "    <tr>\n",
       "      <th>2</th>\n",
       "      <td>энтони джошуа продолжать подготовка реванш уси...</td>\n",
       "      <td>martial_arts</td>\n",
       "      <td>1</td>\n",
       "    </tr>\n",
       "    <tr>\n",
       "      <th>3</th>\n",
       "      <td>мотогонка лёд speetokenoid tokenoid личный чем...</td>\n",
       "      <td>motosport</td>\n",
       "      <td>9</td>\n",
       "    </tr>\n",
       "    <tr>\n",
       "      <th>4</th>\n",
       "      <td>присылать ваш беговой фото публикация коммента...</td>\n",
       "      <td>athletics</td>\n",
       "      <td>6</td>\n",
       "    </tr>\n",
       "    <tr>\n",
       "      <th>...</th>\n",
       "      <td>...</td>\n",
       "      <td>...</td>\n",
       "      <td>...</td>\n",
       "    </tr>\n",
       "    <tr>\n",
       "      <th>47950</th>\n",
       "      <td>карлос алькараз прокомментировать победа четве...</td>\n",
       "      <td>tennis</td>\n",
       "      <td>2</td>\n",
       "    </tr>\n",
       "    <tr>\n",
       "      <th>47951</th>\n",
       "      <td>мотоспорт wsbk porttokenoid гонка ltokenoid на...</td>\n",
       "      <td>motosport</td>\n",
       "      <td>9</td>\n",
       "    </tr>\n",
       "    <tr>\n",
       "      <th>47952</th>\n",
       "      <td>кокорин пропустит матч специей иза негодования...</td>\n",
       "      <td>esport</td>\n",
       "      <td>0</td>\n",
       "    </tr>\n",
       "    <tr>\n",
       "      <th>47953</th>\n",
       "      <td>рафаэль надаль рассказать взаимоотношение фина...</td>\n",
       "      <td>tennis</td>\n",
       "      <td>2</td>\n",
       "    </tr>\n",
       "    <tr>\n",
       "      <th>47954</th>\n",
       "      <td>огромный успех эдди хирн цифра ppv канело биво...</td>\n",
       "      <td>martial_arts</td>\n",
       "      <td>1</td>\n",
       "    </tr>\n",
       "  </tbody>\n",
       "</table>\n",
       "<p>47955 rows × 3 columns</p>\n",
       "</div>\n",
       "    <div class=\"colab-df-buttons\">\n",
       "\n",
       "  <div class=\"colab-df-container\">\n",
       "    <button class=\"colab-df-convert\" onclick=\"convertToInteractive('df-da7749e4-5347-427f-a0e5-54772e2894f8')\"\n",
       "            title=\"Convert this dataframe to an interactive table.\"\n",
       "            style=\"display:none;\">\n",
       "\n",
       "  <svg xmlns=\"http://www.w3.org/2000/svg\" height=\"24px\" viewBox=\"0 -960 960 960\">\n",
       "    <path d=\"M120-120v-720h720v720H120Zm60-500h600v-160H180v160Zm220 220h160v-160H400v160Zm0 220h160v-160H400v160ZM180-400h160v-160H180v160Zm440 0h160v-160H620v160ZM180-180h160v-160H180v160Zm440 0h160v-160H620v160Z\"/>\n",
       "  </svg>\n",
       "    </button>\n",
       "\n",
       "  <style>\n",
       "    .colab-df-container {\n",
       "      display:flex;\n",
       "      gap: 12px;\n",
       "    }\n",
       "\n",
       "    .colab-df-convert {\n",
       "      background-color: #E8F0FE;\n",
       "      border: none;\n",
       "      border-radius: 50%;\n",
       "      cursor: pointer;\n",
       "      display: none;\n",
       "      fill: #1967D2;\n",
       "      height: 32px;\n",
       "      padding: 0 0 0 0;\n",
       "      width: 32px;\n",
       "    }\n",
       "\n",
       "    .colab-df-convert:hover {\n",
       "      background-color: #E2EBFA;\n",
       "      box-shadow: 0px 1px 2px rgba(60, 64, 67, 0.3), 0px 1px 3px 1px rgba(60, 64, 67, 0.15);\n",
       "      fill: #174EA6;\n",
       "    }\n",
       "\n",
       "    .colab-df-buttons div {\n",
       "      margin-bottom: 4px;\n",
       "    }\n",
       "\n",
       "    [theme=dark] .colab-df-convert {\n",
       "      background-color: #3B4455;\n",
       "      fill: #D2E3FC;\n",
       "    }\n",
       "\n",
       "    [theme=dark] .colab-df-convert:hover {\n",
       "      background-color: #434B5C;\n",
       "      box-shadow: 0px 1px 3px 1px rgba(0, 0, 0, 0.15);\n",
       "      filter: drop-shadow(0px 1px 2px rgba(0, 0, 0, 0.3));\n",
       "      fill: #FFFFFF;\n",
       "    }\n",
       "  </style>\n",
       "\n",
       "    <script>\n",
       "      const buttonEl =\n",
       "        document.querySelector('#df-da7749e4-5347-427f-a0e5-54772e2894f8 button.colab-df-convert');\n",
       "      buttonEl.style.display =\n",
       "        google.colab.kernel.accessAllowed ? 'block' : 'none';\n",
       "\n",
       "      async function convertToInteractive(key) {\n",
       "        const element = document.querySelector('#df-da7749e4-5347-427f-a0e5-54772e2894f8');\n",
       "        const dataTable =\n",
       "          await google.colab.kernel.invokeFunction('convertToInteractive',\n",
       "                                                    [key], {});\n",
       "        if (!dataTable) return;\n",
       "\n",
       "        const docLinkHtml = 'Like what you see? Visit the ' +\n",
       "          '<a target=\"_blank\" href=https://colab.research.google.com/notebooks/data_table.ipynb>data table notebook</a>'\n",
       "          + ' to learn more about interactive tables.';\n",
       "        element.innerHTML = '';\n",
       "        dataTable['output_type'] = 'display_data';\n",
       "        await google.colab.output.renderOutput(dataTable, element);\n",
       "        const docLink = document.createElement('div');\n",
       "        docLink.innerHTML = docLinkHtml;\n",
       "        element.appendChild(docLink);\n",
       "      }\n",
       "    </script>\n",
       "  </div>\n",
       "\n",
       "\n",
       "<div id=\"df-6710a812-1fde-4f17-9d6b-5e4eb7c1bfb3\">\n",
       "  <button class=\"colab-df-quickchart\" onclick=\"quickchart('df-6710a812-1fde-4f17-9d6b-5e4eb7c1bfb3')\"\n",
       "            title=\"Suggest charts\"\n",
       "            style=\"display:none;\">\n",
       "\n",
       "<svg xmlns=\"http://www.w3.org/2000/svg\" height=\"24px\"viewBox=\"0 0 24 24\"\n",
       "     width=\"24px\">\n",
       "    <g>\n",
       "        <path d=\"M19 3H5c-1.1 0-2 .9-2 2v14c0 1.1.9 2 2 2h14c1.1 0 2-.9 2-2V5c0-1.1-.9-2-2-2zM9 17H7v-7h2v7zm4 0h-2V7h2v10zm4 0h-2v-4h2v4z\"/>\n",
       "    </g>\n",
       "</svg>\n",
       "  </button>\n",
       "\n",
       "<style>\n",
       "  .colab-df-quickchart {\n",
       "      --bg-color: #E8F0FE;\n",
       "      --fill-color: #1967D2;\n",
       "      --hover-bg-color: #E2EBFA;\n",
       "      --hover-fill-color: #174EA6;\n",
       "      --disabled-fill-color: #AAA;\n",
       "      --disabled-bg-color: #DDD;\n",
       "  }\n",
       "\n",
       "  [theme=dark] .colab-df-quickchart {\n",
       "      --bg-color: #3B4455;\n",
       "      --fill-color: #D2E3FC;\n",
       "      --hover-bg-color: #434B5C;\n",
       "      --hover-fill-color: #FFFFFF;\n",
       "      --disabled-bg-color: #3B4455;\n",
       "      --disabled-fill-color: #666;\n",
       "  }\n",
       "\n",
       "  .colab-df-quickchart {\n",
       "    background-color: var(--bg-color);\n",
       "    border: none;\n",
       "    border-radius: 50%;\n",
       "    cursor: pointer;\n",
       "    display: none;\n",
       "    fill: var(--fill-color);\n",
       "    height: 32px;\n",
       "    padding: 0;\n",
       "    width: 32px;\n",
       "  }\n",
       "\n",
       "  .colab-df-quickchart:hover {\n",
       "    background-color: var(--hover-bg-color);\n",
       "    box-shadow: 0 1px 2px rgba(60, 64, 67, 0.3), 0 1px 3px 1px rgba(60, 64, 67, 0.15);\n",
       "    fill: var(--button-hover-fill-color);\n",
       "  }\n",
       "\n",
       "  .colab-df-quickchart-complete:disabled,\n",
       "  .colab-df-quickchart-complete:disabled:hover {\n",
       "    background-color: var(--disabled-bg-color);\n",
       "    fill: var(--disabled-fill-color);\n",
       "    box-shadow: none;\n",
       "  }\n",
       "\n",
       "  .colab-df-spinner {\n",
       "    border: 2px solid var(--fill-color);\n",
       "    border-color: transparent;\n",
       "    border-bottom-color: var(--fill-color);\n",
       "    animation:\n",
       "      spin 1s steps(1) infinite;\n",
       "  }\n",
       "\n",
       "  @keyframes spin {\n",
       "    0% {\n",
       "      border-color: transparent;\n",
       "      border-bottom-color: var(--fill-color);\n",
       "      border-left-color: var(--fill-color);\n",
       "    }\n",
       "    20% {\n",
       "      border-color: transparent;\n",
       "      border-left-color: var(--fill-color);\n",
       "      border-top-color: var(--fill-color);\n",
       "    }\n",
       "    30% {\n",
       "      border-color: transparent;\n",
       "      border-left-color: var(--fill-color);\n",
       "      border-top-color: var(--fill-color);\n",
       "      border-right-color: var(--fill-color);\n",
       "    }\n",
       "    40% {\n",
       "      border-color: transparent;\n",
       "      border-right-color: var(--fill-color);\n",
       "      border-top-color: var(--fill-color);\n",
       "    }\n",
       "    60% {\n",
       "      border-color: transparent;\n",
       "      border-right-color: var(--fill-color);\n",
       "    }\n",
       "    80% {\n",
       "      border-color: transparent;\n",
       "      border-right-color: var(--fill-color);\n",
       "      border-bottom-color: var(--fill-color);\n",
       "    }\n",
       "    90% {\n",
       "      border-color: transparent;\n",
       "      border-bottom-color: var(--fill-color);\n",
       "    }\n",
       "  }\n",
       "</style>\n",
       "\n",
       "  <script>\n",
       "    async function quickchart(key) {\n",
       "      const quickchartButtonEl =\n",
       "        document.querySelector('#' + key + ' button');\n",
       "      quickchartButtonEl.disabled = true;  // To prevent multiple clicks.\n",
       "      quickchartButtonEl.classList.add('colab-df-spinner');\n",
       "      try {\n",
       "        const charts = await google.colab.kernel.invokeFunction(\n",
       "            'suggestCharts', [key], {});\n",
       "      } catch (error) {\n",
       "        console.error('Error during call to suggestCharts:', error);\n",
       "      }\n",
       "      quickchartButtonEl.classList.remove('colab-df-spinner');\n",
       "      quickchartButtonEl.classList.add('colab-df-quickchart-complete');\n",
       "    }\n",
       "    (() => {\n",
       "      let quickchartButtonEl =\n",
       "        document.querySelector('#df-6710a812-1fde-4f17-9d6b-5e4eb7c1bfb3 button');\n",
       "      quickchartButtonEl.style.display =\n",
       "        google.colab.kernel.accessAllowed ? 'block' : 'none';\n",
       "    })();\n",
       "  </script>\n",
       "</div>\n",
       "    </div>\n",
       "  </div>\n"
      ],
      "text/plain": [
       "                                                    text    class_name  class\n",
       "0      уход ислам мамедов плотный удушающего реакция ...  martial_arts      1\n",
       "1      ждать диллона прошлый неделя обещать конец нед...    basketball      3\n",
       "2      энтони джошуа продолжать подготовка реванш уси...  martial_arts      1\n",
       "3      мотогонка лёд speetokenoid tokenoid личный чем...     motosport      9\n",
       "4      присылать ваш беговой фото публикация коммента...     athletics      6\n",
       "...                                                  ...           ...    ...\n",
       "47950  карлос алькараз прокомментировать победа четве...        tennis      2\n",
       "47951  мотоспорт wsbk porttokenoid гонка ltokenoid на...     motosport      9\n",
       "47952  кокорин пропустит матч специей иза негодования...        esport      0\n",
       "47953  рафаэль надаль рассказать взаимоотношение фина...        tennis      2\n",
       "47954  огромный успех эдди хирн цифра ppv канело биво...  martial_arts      1\n",
       "\n",
       "[47955 rows x 3 columns]"
      ]
     },
     "execution_count": 94,
     "metadata": {},
     "output_type": "execute_result"
    }
   ],
   "source": [
    "df"
   ]
  },
  {
   "cell_type": "code",
   "execution_count": 96,
   "metadata": {
    "executionInfo": {
     "elapsed": 14462,
     "status": "ok",
     "timestamp": 1721923808575,
     "user": {
      "displayName": "Герман Наумов",
      "userId": "14079017463511942105"
     },
     "user_tz": -180
    },
    "id": "n_AC5ty2ppCn"
   },
   "outputs": [],
   "source": [
    "df.to_excel('data.xlsx', index=False)"
   ]
  },
  {
   "cell_type": "code",
   "execution_count": 97,
   "metadata": {
    "colab": {
     "base_uri": "https://localhost:8080/",
     "height": 17
    },
    "executionInfo": {
     "elapsed": 307,
     "status": "ok",
     "timestamp": 1721923850056,
     "user": {
      "displayName": "Герман Наумов",
      "userId": "14079017463511942105"
     },
     "user_tz": -180
    },
    "id": "1trbHiIspyLj",
    "outputId": "78be8a1c-27b6-4c94-8814-aa72e22843cb"
   },
   "outputs": [
    {
     "data": {
      "application/javascript": [
       "\n",
       "    async function download(id, filename, size) {\n",
       "      if (!google.colab.kernel.accessAllowed) {\n",
       "        return;\n",
       "      }\n",
       "      const div = document.createElement('div');\n",
       "      const label = document.createElement('label');\n",
       "      label.textContent = `Downloading \"${filename}\": `;\n",
       "      div.appendChild(label);\n",
       "      const progress = document.createElement('progress');\n",
       "      progress.max = size;\n",
       "      div.appendChild(progress);\n",
       "      document.body.appendChild(div);\n",
       "\n",
       "      const buffers = [];\n",
       "      let downloaded = 0;\n",
       "\n",
       "      const channel = await google.colab.kernel.comms.open(id);\n",
       "      // Send a message to notify the kernel that we're ready.\n",
       "      channel.send({})\n",
       "\n",
       "      for await (const message of channel.messages) {\n",
       "        // Send a message to notify the kernel that we're ready.\n",
       "        channel.send({})\n",
       "        if (message.buffers) {\n",
       "          for (const buffer of message.buffers) {\n",
       "            buffers.push(buffer);\n",
       "            downloaded += buffer.byteLength;\n",
       "            progress.value = downloaded;\n",
       "          }\n",
       "        }\n",
       "      }\n",
       "      const blob = new Blob(buffers, {type: 'application/binary'});\n",
       "      const a = document.createElement('a');\n",
       "      a.href = window.URL.createObjectURL(blob);\n",
       "      a.download = filename;\n",
       "      div.appendChild(a);\n",
       "      a.click();\n",
       "      div.remove();\n",
       "    }\n",
       "  "
      ],
      "text/plain": [
       "<IPython.core.display.Javascript object>"
      ]
     },
     "metadata": {},
     "output_type": "display_data"
    },
    {
     "data": {
      "application/javascript": [
       "download(\"download_e11f1b24-0b5b-4fef-912b-7f224cd8823d\", \"data.xlsx\", 11345871)"
      ],
      "text/plain": [
       "<IPython.core.display.Javascript object>"
      ]
     },
     "metadata": {},
     "output_type": "display_data"
    }
   ],
   "source": [
    "from google.colab import files\n",
    "files.download('data.xlsx')"
   ]
  },
  {
   "cell_type": "code",
   "execution_count": null,
   "metadata": {
    "id": "GoQ4gkYXqMyR"
   },
   "outputs": [],
   "source": []
  }
 ],
 "metadata": {
  "colab": {
   "authorship_tag": "ABX9TyO4xP/csVzYIrnKfvlyXv6Q",
   "provenance": []
  },
  "kernelspec": {
   "display_name": "Python 3 (ipykernel)",
   "language": "python",
   "name": "python3"
  },
  "language_info": {
   "codemirror_mode": {
    "name": "ipython",
    "version": 3
   },
   "file_extension": ".py",
   "mimetype": "text/x-python",
   "name": "python",
   "nbconvert_exporter": "python",
   "pygments_lexer": "ipython3",
   "version": "3.12.1"
  }
 },
 "nbformat": 4,
 "nbformat_minor": 4
}
