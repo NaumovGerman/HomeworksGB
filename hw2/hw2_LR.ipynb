{
 "cells": [
  {
   "cell_type": "code",
   "execution_count": 2,
   "metadata": {
    "executionInfo": {
     "elapsed": 331,
     "status": "ok",
     "timestamp": 1722018892694,
     "user": {
      "displayName": "Герман Наумов",
      "userId": "14079017463511942105"
     },
     "user_tz": -180
    },
    "id": "hMhIsYXxrzRC"
   },
   "outputs": [],
   "source": [
    "import pandas as pd\n",
    "import numpy as np\n",
    "from collections import Counter\n",
    "from sklearn.model_selection import train_test_split, RandomizedSearchCV, cross_val_score\n",
    "from sklearn.linear_model import LogisticRegression\n",
    "from sklearn.feature_extraction.text import TfidfVectorizer\n",
    "from sklearn.preprocessing import label_binarize\n",
    "from sklearn.decomposition import PCA\n",
    "from sklearn.manifold import TSNE\n",
    "from sklearn.metrics import accuracy_score, precision_score, recall_score, f1_score, confusion_matrix, roc_auc_score, log_loss, auc, roc_curve\n",
    "import re\n",
    "import seaborn as sns\n",
    "import matplotlib.pyplot as plt\n",
    "from gensim.models import Word2Vec\n",
    "from gensim.models.keyedvectors import KeyedVectors\n",
    "from tqdm import tqdm\n",
    "import optuna\n",
    "RAND = 10"
   ]
  },
  {
   "cell_type": "code",
   "execution_count": 3,
   "metadata": {
    "executionInfo": {
     "elapsed": 5835,
     "status": "ok",
     "timestamp": 1722017696617,
     "user": {
      "displayName": "Герман Наумов",
      "userId": "14079017463511942105"
     },
     "user_tz": -180
    },
    "id": "kG30GQzLr5UR"
   },
   "outputs": [],
   "source": [
    "df = pd.read_excel('data.xlsx')"
   ]
  },
  {
   "cell_type": "code",
   "execution_count": 4,
   "metadata": {
    "colab": {
     "base_uri": "https://localhost:8080/",
     "height": 424
    },
    "executionInfo": {
     "elapsed": 473,
     "status": "ok",
     "timestamp": 1722017697080,
     "user": {
      "displayName": "Герман Наумов",
      "userId": "14079017463511942105"
     },
     "user_tz": -180
    },
    "id": "3-xMmev5sTCR",
    "outputId": "331bb6c0-c84e-4e5b-9ff4-4936649b991c"
   },
   "outputs": [
    {
     "data": {
      "text/html": [
       "<div>\n",
       "<style scoped>\n",
       "    .dataframe tbody tr th:only-of-type {\n",
       "        vertical-align: middle;\n",
       "    }\n",
       "\n",
       "    .dataframe tbody tr th {\n",
       "        vertical-align: top;\n",
       "    }\n",
       "\n",
       "    .dataframe thead th {\n",
       "        text-align: right;\n",
       "    }\n",
       "</style>\n",
       "<table border=\"1\" class=\"dataframe\">\n",
       "  <thead>\n",
       "    <tr style=\"text-align: right;\">\n",
       "      <th></th>\n",
       "      <th>text</th>\n",
       "      <th>class_name</th>\n",
       "      <th>class</th>\n",
       "    </tr>\n",
       "  </thead>\n",
       "  <tbody>\n",
       "    <tr>\n",
       "      <th>0</th>\n",
       "      <td>уход ислам мамедов плотный удушающего реакция ...</td>\n",
       "      <td>martial_arts</td>\n",
       "      <td>1</td>\n",
       "    </tr>\n",
       "    <tr>\n",
       "      <th>1</th>\n",
       "      <td>ждать диллона прошлый неделя обещать конец нед...</td>\n",
       "      <td>basketball</td>\n",
       "      <td>3</td>\n",
       "    </tr>\n",
       "    <tr>\n",
       "      <th>2</th>\n",
       "      <td>энтони джошуа продолжать подготовка реванш уси...</td>\n",
       "      <td>martial_arts</td>\n",
       "      <td>1</td>\n",
       "    </tr>\n",
       "    <tr>\n",
       "      <th>3</th>\n",
       "      <td>мотогонка лёд speetokenoid tokenoid личный чем...</td>\n",
       "      <td>motosport</td>\n",
       "      <td>9</td>\n",
       "    </tr>\n",
       "    <tr>\n",
       "      <th>4</th>\n",
       "      <td>присылать ваш беговой фото публикация коммента...</td>\n",
       "      <td>athletics</td>\n",
       "      <td>6</td>\n",
       "    </tr>\n",
       "    <tr>\n",
       "      <th>...</th>\n",
       "      <td>...</td>\n",
       "      <td>...</td>\n",
       "      <td>...</td>\n",
       "    </tr>\n",
       "    <tr>\n",
       "      <th>47950</th>\n",
       "      <td>карлос алькараз прокомментировать победа четве...</td>\n",
       "      <td>tennis</td>\n",
       "      <td>2</td>\n",
       "    </tr>\n",
       "    <tr>\n",
       "      <th>47951</th>\n",
       "      <td>мотоспорт wsbk porttokenoid гонка ltokenoid на...</td>\n",
       "      <td>motosport</td>\n",
       "      <td>9</td>\n",
       "    </tr>\n",
       "    <tr>\n",
       "      <th>47952</th>\n",
       "      <td>кокорин пропустит матч специей иза негодования...</td>\n",
       "      <td>esport</td>\n",
       "      <td>0</td>\n",
       "    </tr>\n",
       "    <tr>\n",
       "      <th>47953</th>\n",
       "      <td>рафаэль надаль рассказать взаимоотношение фина...</td>\n",
       "      <td>tennis</td>\n",
       "      <td>2</td>\n",
       "    </tr>\n",
       "    <tr>\n",
       "      <th>47954</th>\n",
       "      <td>огромный успех эдди хирн цифра ppv канело биво...</td>\n",
       "      <td>martial_arts</td>\n",
       "      <td>1</td>\n",
       "    </tr>\n",
       "  </tbody>\n",
       "</table>\n",
       "<p>47955 rows × 3 columns</p>\n",
       "</div>"
      ],
      "text/plain": [
       "                                                    text    class_name  class\n",
       "0      уход ислам мамедов плотный удушающего реакция ...  martial_arts      1\n",
       "1      ждать диллона прошлый неделя обещать конец нед...    basketball      3\n",
       "2      энтони джошуа продолжать подготовка реванш уси...  martial_arts      1\n",
       "3      мотогонка лёд speetokenoid tokenoid личный чем...     motosport      9\n",
       "4      присылать ваш беговой фото публикация коммента...     athletics      6\n",
       "...                                                  ...           ...    ...\n",
       "47950  карлос алькараз прокомментировать победа четве...        tennis      2\n",
       "47951  мотоспорт wsbk porttokenoid гонка ltokenoid на...     motosport      9\n",
       "47952  кокорин пропустит матч специей иза негодования...        esport      0\n",
       "47953  рафаэль надаль рассказать взаимоотношение фина...        tennis      2\n",
       "47954  огромный успех эдди хирн цифра ppv канело биво...  martial_arts      1\n",
       "\n",
       "[47955 rows x 3 columns]"
      ]
     },
     "execution_count": 4,
     "metadata": {},
     "output_type": "execute_result"
    }
   ],
   "source": [
    "df"
   ]
  },
  {
   "cell_type": "markdown",
   "metadata": {
    "id": "JxQDeuTCnzSj"
   },
   "source": [
    "# Анализ + доп. обработка данных"
   ]
  },
  {
   "cell_type": "code",
   "execution_count": 5,
   "metadata": {
    "executionInfo": {
     "elapsed": 6,
     "status": "ok",
     "timestamp": 1722017697080,
     "user": {
      "displayName": "Герман Наумов",
      "userId": "14079017463511942105"
     },
     "user_tz": -180
    },
    "id": "wPQmU9bSsWFN"
   },
   "outputs": [],
   "source": [
    "token_counter = Counter()"
   ]
  },
  {
   "cell_type": "code",
   "execution_count": 6,
   "metadata": {
    "executionInfo": {
     "elapsed": 328,
     "status": "ok",
     "timestamp": 1722017698060,
     "user": {
      "displayName": "Герман Наумов",
      "userId": "14079017463511942105"
     },
     "user_tz": -180
    },
    "id": "RUTPgbhU5umB"
   },
   "outputs": [],
   "source": [
    "def remove_words_with_substring(text, substring):\n",
    "    pattern = rf'\\b\\w*{re.escape(substring)}\\w*\\b'\n",
    "    result = re.sub(pattern, '', text)\n",
    "    return ' '.join(result.split())"
   ]
  },
  {
   "cell_type": "code",
   "execution_count": 7,
   "metadata": {
    "executionInfo": {
     "elapsed": 733,
     "status": "ok",
     "timestamp": 1722017698791,
     "user": {
      "displayName": "Герман Наумов",
      "userId": "14079017463511942105"
     },
     "user_tz": -180
    },
    "id": "TYDYMveQ6YyI"
   },
   "outputs": [],
   "source": [
    "df['text'] = df['text'].apply(lambda x: remove_words_with_substring(x, 'token'))"
   ]
  },
  {
   "cell_type": "code",
   "execution_count": 8,
   "metadata": {
    "colab": {
     "base_uri": "https://localhost:8080/"
    },
    "executionInfo": {
     "elapsed": 759,
     "status": "ok",
     "timestamp": 1722017699548,
     "user": {
      "displayName": "Герман Наумов",
      "userId": "14079017463511942105"
     },
     "user_tz": -180
    },
    "id": "oEnXcU4C61cQ",
    "outputId": "4a412d74-c238-49e6-a756-a19580b4f6d4"
   },
   "outputs": [],
   "source": [
    "token_counter = Counter()\n",
    "for one_string in df['text'].values:\n",
    "    for token in one_string.split():\n",
    "        token_counter[token] += 1"
   ]
  },
  {
   "cell_type": "code",
   "execution_count": 9,
   "metadata": {
    "colab": {
     "base_uri": "https://localhost:8080/",
     "height": 449
    },
    "executionInfo": {
     "elapsed": 1224,
     "status": "ok",
     "timestamp": 1722017700770,
     "user": {
      "displayName": "Герман Наумов",
      "userId": "14079017463511942105"
     },
     "user_tz": -180
    },
    "id": "PJA_KOmT9ZbP",
    "outputId": "65ba84f2-71f0-4b4c-a0ba-a355de169828"
   },
   "outputs": [
    {
     "data": {
      "image/png": "[encoded data removed]",
      "text/plain": [
       "<Figure size 640x480 with 1 Axes>"
      ]
     },
     "metadata": {},
     "output_type": "display_data"
    }
   ],
   "source": [
    "# Let's see how many words are there for each count\n",
    "plt.hist(list(token_counter.values()), range=[0, 10**4], bins=100, log=True)\n",
    "plt.xlabel(\"Word counts\");"
   ]
  },
  {
   "cell_type": "code",
   "execution_count": 10,
   "metadata": {
    "colab": {
     "base_uri": "https://localhost:8080/"
    },
    "executionInfo": {
     "elapsed": 8,
     "status": "ok",
     "timestamp": 1722017700770,
     "user": {
      "displayName": "Герман Наумов",
      "userId": "14079017463511942105"
     },
     "user_tz": -180
    },
    "id": "erT6OhkLFPNd",
    "outputId": "732e16bd-65f2-4915-af2b-6660bf536c37"
   },
   "outputs": [
    {
     "data": {
      "text/plain": [
       "103484"
      ]
     },
     "execution_count": 10,
     "metadata": {},
     "output_type": "execute_result"
    }
   ],
   "source": [
    "len(token_counter)"
   ]
  },
  {
   "cell_type": "code",
   "execution_count": 11,
   "metadata": {
    "executionInfo": {
     "elapsed": 5,
     "status": "ok",
     "timestamp": 1722017700770,
     "user": {
      "displayName": "Герман Наумов",
      "userId": "14079017463511942105"
     },
     "user_tz": -180
    },
    "id": "-GXOk2yBFBwG"
   },
   "outputs": [],
   "source": [
    "# low_appearance = set([token for token,count in token_counter.items() if count < 3])\n",
    "low_appearance = set()\n",
    "to_del = set()\n",
    "for i,v in token_counter.items():\n",
    "    if len(i) == 1:\n",
    "      to_del.add(i)"
   ]
  },
  {
   "cell_type": "code",
   "execution_count": 12,
   "metadata": {
    "executionInfo": {
     "elapsed": 5,
     "status": "ok",
     "timestamp": 1722017700770,
     "user": {
      "displayName": "Герман Наумов",
      "userId": "14079017463511942105"
     },
     "user_tz": -180
    },
    "id": "eT-hQAjBDsD-"
   },
   "outputs": [],
   "source": [
    "garbage = to_del.union(low_appearance)"
   ]
  },
  {
   "cell_type": "code",
   "execution_count": 13,
   "metadata": {
    "executionInfo": {
     "elapsed": 442,
     "status": "ok",
     "timestamp": 1722017701208,
     "user": {
      "displayName": "Герман Наумов",
      "userId": "14079017463511942105"
     },
     "user_tz": -180
    },
    "id": "tIPvTW6uAoFu"
   },
   "outputs": [],
   "source": [
    "def delete_garbage(text, garbage):\n",
    "    return ' '.join([i for i in text.split() if i not in garbage])\n",
    "\n",
    "df['text'] = df['text'].apply(lambda x: delete_garbage(x, garbage))"
   ]
  },
  {
   "cell_type": "code",
   "execution_count": 14,
   "metadata": {
    "colab": {
     "base_uri": "https://localhost:8080/"
    },
    "executionInfo": {
     "elapsed": 699,
     "status": "ok",
     "timestamp": 1722017701905,
     "user": {
      "displayName": "Герман Наумов",
      "userId": "14079017463511942105"
     },
     "user_tz": -180
    },
    "id": "1MbBIqO9EbE1",
    "outputId": "c4b804b6-231c-4637-a324-e6e3efd5812a"
   },
   "outputs": [
    {
     "name": "stdout",
     "output_type": "stream",
     "text": [
      "Слов после удаления единичных токенов: 1855889\n"
     ]
    }
   ],
   "source": [
    "token_counter = Counter()\n",
    "for one_string in df['text'].values:\n",
    "    for token in one_string.split():\n",
    "        token_counter[token] += 1\n",
    "\n",
    "total_words = 0\n",
    "for i in token_counter.values():\n",
    "    total_words += i\n",
    "print(f'Слов после удаления единичных токенов: {total_words}')"
   ]
  },
  {
   "cell_type": "code",
   "execution_count": 15,
   "metadata": {},
   "outputs": [],
   "source": [
    "dict_labels = {0:'esport', 1:'martial_arts', 2:'tennis', 3:'basketball',\n",
    "        4:'volleyball', 5:'boardgames', 6:'athletics', 7:'winter_sport',\n",
    "        8:'football', 9:'motosport', 10:'autosport', 11:'extreme', 12:'hockey'}"
   ]
  },
  {
   "cell_type": "markdown",
   "metadata": {},
   "source": [
    "Зависимость метки класса от количество токенов в тексте"
   ]
  },
  {
   "cell_type": "code",
   "execution_count": 16,
   "metadata": {},
   "outputs": [],
   "source": [
    "df_ = df.copy()"
   ]
  },
  {
   "cell_type": "code",
   "execution_count": 17,
   "metadata": {},
   "outputs": [],
   "source": [
    "def add_len(text):\n",
    "    return len(text.split())\n",
    "df_['length'] = df_['text'].apply(add_len)"
   ]
  },
  {
   "cell_type": "code",
   "execution_count": 64,
   "metadata": {},
   "outputs": [
    {
     "name": "stderr",
     "output_type": "stream",
     "text": [
      "C:\\Users\\albin\\AppData\\Local\\Temp\\ipykernel_18412\\4077276993.py:4: UserWarning: set_ticklabels() should only be used with a fixed number of ticks, i.e. after set_ticks() or using a FixedLocator.\n",
      "  barplot.set_xticklabels(barplot.get_xticklabels(), rotation=45, ha='right')\n"
     ]
    },
    {
     "data": {
      "image/png": "[encoded data removed]",
      "text/plain": [
       "<Figure size 1200x600 with 1 Axes>"
      ]
     },
     "metadata": {},
     "output_type": "display_data"
    }
   ],
   "source": [
    "# Создание ящиковой диаграммы\n",
    "plt.figure(figsize=(12, 6))\n",
    "barplot = sns.boxplot(x='class_name', y='length', data=df_)\n",
    "barplot.set_xticklabels(barplot.get_xticklabels(), rotation=45, ha='right')\n",
    "\n",
    "# Настройка заголовка и меток осей\n",
    "plt.title('Распределение длин текстов по классам')\n",
    "plt.xlabel('Класс')\n",
    "plt.ylabel('Длина текста')\n",
    "\n",
    "# Показать график\n",
    "plt.show()"
   ]
  },
  {
   "cell_type": "code",
   "execution_count": 19,
   "metadata": {},
   "outputs": [],
   "source": [
    "most_comm = dict()\n",
    "all_labels_encoded = sorted(df_['class'].unique())"
   ]
  },
  {
   "cell_type": "code",
   "execution_count": 21,
   "metadata": {},
   "outputs": [],
   "source": [
    "for i in all_labels_encoded:\n",
    "    tok_con = Counter()\n",
    "    for one_string in df[df['class'] == i]['text'].values:\n",
    "        for token in one_string.split():\n",
    "            tok_con[token] += 1\n",
    "    most_comm[dict_labels[i]] = tok_con.most_common(5)"
   ]
  },
  {
   "cell_type": "code",
   "execution_count": 22,
   "metadata": {},
   "outputs": [
    {
     "name": "stdout",
     "output_type": "stream",
     "text": [
      "Класс: esport\n",
      "Самые популярные слова: [('команда', 892), ('это', 789), ('свой', 709), ('турнир', 675), ('игра', 620)]\n",
      "\n",
      "Класс: martial_arts\n",
      "Самые популярные слова: [('бой', 2504), ('это', 2364), ('свой', 1204), ('ufc', 1189), ('чемпион', 1038)]\n",
      "\n",
      "Класс: tennis\n",
      "Самые популярные слова: [('турнир', 2281), ('это', 1802), ('матч', 1440), ('первый', 1051), ('медведев', 936)]\n",
      "\n",
      "Класс: basketball\n",
      "Самые популярные слова: [('матч', 1254), ('это', 1251), ('команда', 1093), ('игра', 988), ('сезон', 977)]\n",
      "\n",
      "Класс: volleyball\n",
      "Самые популярные слова: [('матч', 1886), ('волейбол', 1834), ('команда', 1737), ('динамо', 1134), ('россия', 1055)]\n",
      "\n",
      "Класс: boardgames\n",
      "Самые популярные слова: [('игра', 2993), ('это', 1457), ('новый', 1175), ('свой', 903), ('весь', 750)]\n",
      "\n",
      "Класс: athletics\n",
      "Самые популярные слова: [('бег', 4062), ('это', 2212), ('забег', 1949), ('спорт', 1820), ('весь', 1469)]\n",
      "\n",
      "Класс: winter_sport\n",
      "Самые популярные слова: [('это', 2337), ('россия', 1666), ('год', 1326), ('мир', 1119), ('весь', 1067)]\n",
      "\n",
      "Класс: football\n",
      "Самые популярные слова: [('матч', 1709), ('это', 1353), ('клуб', 1027), ('команда', 980), ('год', 947)]\n",
      "\n",
      "Класс: motosport\n",
      "Самые популярные слова: [('motogp', 2142), ('год', 1827), ('гонка', 1813), ('это', 1633), ('весь', 1071)]\n",
      "\n",
      "Класс: autosport\n",
      "Самые популярные слова: [('это', 1751), ('гонка', 1449), ('год', 1379), ('команда', 1279), ('машина', 1088)]\n",
      "\n",
      "Класс: extreme\n",
      "Самые популярные слова: [('это', 1247), ('весь', 1053), ('наш', 768), ('свой', 764), ('игра', 597)]\n",
      "\n",
      "Класс: hockey\n",
      "Самые популярные слова: [('матч', 1218), ('сезон', 615), ('игра', 588), ('команда', 562), ('это', 541)]\n",
      "\n"
     ]
    }
   ],
   "source": [
    "for i,v in most_comm.items():\n",
    "    print('Класс:', i)\n",
    "    print('Самые популярные слова:', v)\n",
    "    print()"
   ]
  },
  {
   "cell_type": "code",
   "execution_count": 65,
   "metadata": {},
   "outputs": [
    {
     "data": {
      "text/plain": [
       "class_name\n",
       "athletics       8.247315\n",
       "autosport       6.307997\n",
       "basketball      7.661349\n",
       "boardgames      7.344385\n",
       "esport          8.241059\n",
       "extreme         5.863831\n",
       "football        8.737358\n",
       "hockey          3.830675\n",
       "martial_arts    8.468356\n",
       "motosport       7.949119\n",
       "tennis          9.241998\n",
       "volleyball      8.939631\n",
       "winter_sport    9.166927\n",
       "Name: count, dtype: float64"
      ]
     },
     "execution_count": 65,
     "metadata": {},
     "output_type": "execute_result"
    }
   ],
   "source": [
    "proportions = df['class_name'].value_counts().sort_index().mul(100) / df.shape[0]\n",
    "proportions"
   ]
  },
  {
   "cell_type": "code",
   "execution_count": 68,
   "metadata": {},
   "outputs": [
    {
     "data": {
      "image/png": "[encoded data removed]",
      "text/plain": [
       "<Figure size 1200x600 with 1 Axes>"
      ]
     },
     "metadata": {},
     "output_type": "display_data"
    }
   ],
   "source": [
    "plt.figure(figsize=(12, 6))\n",
    "colors = sns.color_palette('deep')[1:12]\n",
    "plt.pie(proportions, labels = proportions.index, colors = colors, autopct='%.3f%%')\n",
    "plt.show()\n",
    "plt.show()"
   ]
  },
  {
   "cell_type": "markdown",
   "metadata": {
    "id": "_Jf4pNlln2XY"
   },
   "source": [
    "# Лог рекгрессия + тюннинг"
   ]
  },
  {
   "cell_type": "code",
   "execution_count": 21,
   "metadata": {
    "executionInfo": {
     "elapsed": 308,
     "status": "ok",
     "timestamp": 1722017702211,
     "user": {
      "displayName": "Герман Наумов",
      "userId": "14079017463511942105"
     },
     "user_tz": -180
    },
    "id": "jJTFOJKJ3KyD"
   },
   "outputs": [],
   "source": [
    "X = df.drop(columns=['class_name', 'class'], axis=1)\n",
    "y = df['class']\n",
    "X_train, X_test, y_train, y_test = train_test_split(X, y, test_size=0.2, stratify=y, random_state=RAND)"
   ]
  },
  {
   "cell_type": "code",
   "execution_count": 20,
   "metadata": {
    "executionInfo": {
     "elapsed": 1993,
     "status": "ok",
     "timestamp": 1722017704202,
     "user": {
      "displayName": "Герман Наумов",
      "userId": "14079017463511942105"
     },
     "user_tz": -180
    },
    "id": "XKO71oVbuBXt"
   },
   "outputs": [],
   "source": [
    "vectorizer = TfidfVectorizer(max_features=10000)\n",
    "X_train_tfidf = vectorizer.fit_transform(X_train['text'])\n",
    "X_test_tfidf = vectorizer.transform(X_test['text'])"
   ]
  },
  {
   "cell_type": "code",
   "execution_count": 21,
   "metadata": {
    "colab": {
     "base_uri": "https://localhost:8080/",
     "height": 164
    },
    "executionInfo": {
     "elapsed": 8452,
     "status": "ok",
     "timestamp": 1722018494609,
     "user": {
      "displayName": "Герман Наумов",
      "userId": "14079017463511942105"
     },
     "user_tz": -180
    },
    "id": "ZxaDje64uBSt",
    "outputId": "a3966dba-655a-48a2-91b3-8a12d3db4b66"
   },
   "outputs": [
    {
     "data": {
      "text/html": [
       "<style>#sk-container-id-1 {color: black;}#sk-container-id-1 pre{padding: 0;}#sk-container-id-1 div.sk-toggleable {background-color: white;}#sk-container-id-1 label.sk-toggleable__label {cursor: pointer;display: block;width: 100%;margin-bottom: 0;padding: 0.3em;box-sizing: border-box;text-align: center;}#sk-container-id-1 label.sk-toggleable__label-arrow:before {content: \"▸\";float: left;margin-right: 0.25em;color: #696969;}#sk-container-id-1 label.sk-toggleable__label-arrow:hover:before {color: black;}#sk-container-id-1 div.sk-estimator:hover label.sk-toggleable__label-arrow:before {color: black;}#sk-container-id-1 div.sk-toggleable__content {max-height: 0;max-width: 0;overflow: hidden;text-align: left;background-color: #f0f8ff;}#sk-container-id-1 div.sk-toggleable__content pre {margin: 0.2em;color: black;border-radius: 0.25em;background-color: #f0f8ff;}#sk-container-id-1 input.sk-toggleable__control:checked~div.sk-toggleable__content {max-height: 200px;max-width: 100%;overflow: auto;}#sk-container-id-1 input.sk-toggleable__control:checked~label.sk-toggleable__label-arrow:before {content: \"▾\";}#sk-container-id-1 div.sk-estimator input.sk-toggleable__control:checked~label.sk-toggleable__label {background-color: #d4ebff;}#sk-container-id-1 div.sk-label input.sk-toggleable__control:checked~label.sk-toggleable__label {background-color: #d4ebff;}#sk-container-id-1 input.sk-hidden--visually {border: 0;clip: rect(1px 1px 1px 1px);clip: rect(1px, 1px, 1px, 1px);height: 1px;margin: -1px;overflow: hidden;padding: 0;position: absolute;width: 1px;}#sk-container-id-1 div.sk-estimator {font-family: monospace;background-color: #f0f8ff;border: 1px dotted black;border-radius: 0.25em;box-sizing: border-box;margin-bottom: 0.5em;}#sk-container-id-1 div.sk-estimator:hover {background-color: #d4ebff;}#sk-container-id-1 div.sk-parallel-item::after {content: \"\";width: 100%;border-bottom: 1px solid gray;flex-grow: 1;}#sk-container-id-1 div.sk-label:hover label.sk-toggleable__label {background-color: #d4ebff;}#sk-container-id-1 div.sk-serial::before {content: \"\";position: absolute;border-left: 1px solid gray;box-sizing: border-box;top: 0;bottom: 0;left: 50%;z-index: 0;}#sk-container-id-1 div.sk-serial {display: flex;flex-direction: column;align-items: center;background-color: white;padding-right: 0.2em;padding-left: 0.2em;position: relative;}#sk-container-id-1 div.sk-item {position: relative;z-index: 1;}#sk-container-id-1 div.sk-parallel {display: flex;align-items: stretch;justify-content: center;background-color: white;position: relative;}#sk-container-id-1 div.sk-item::before, #sk-container-id-1 div.sk-parallel-item::before {content: \"\";position: absolute;border-left: 1px solid gray;box-sizing: border-box;top: 0;bottom: 0;left: 50%;z-index: -1;}#sk-container-id-1 div.sk-parallel-item {display: flex;flex-direction: column;z-index: 1;position: relative;background-color: white;}#sk-container-id-1 div.sk-parallel-item:first-child::after {align-self: flex-end;width: 50%;}#sk-container-id-1 div.sk-parallel-item:last-child::after {align-self: flex-start;width: 50%;}#sk-container-id-1 div.sk-parallel-item:only-child::after {width: 0;}#sk-container-id-1 div.sk-dashed-wrapped {border: 1px dashed gray;margin: 0 0.4em 0.5em 0.4em;box-sizing: border-box;padding-bottom: 0.4em;background-color: white;}#sk-container-id-1 div.sk-label label {font-family: monospace;font-weight: bold;display: inline-block;line-height: 1.2em;}#sk-container-id-1 div.sk-label-container {text-align: center;}#sk-container-id-1 div.sk-container {/* jupyter's `normalize.less` sets `[hidden] { display: none; }` but bootstrap.min.css set `[hidden] { display: none !important; }` so we also need the `!important` here to be able to override the default hidden behavior on the sphinx rendered scikit-learn.org. See: https://github.com/scikit-learn/scikit-learn/issues/21755 */display: inline-block !important;position: relative;}#sk-container-id-1 div.sk-text-repr-fallback {display: none;}</style><div id=\"sk-container-id-1\" class=\"sk-top-container\"><div class=\"sk-text-repr-fallback\"><pre>LogisticRegression(class_weight=&#x27;balanced&#x27;, multi_class=&#x27;multinomial&#x27;,\n",
       "                   random_state=10, solver=&#x27;saga&#x27;)</pre><b>In a Jupyter environment, please rerun this cell to show the HTML representation or trust the notebook. <br />On GitHub, the HTML representation is unable to render, please try loading this page with nbviewer.org.</b></div><div class=\"sk-container\" hidden><div class=\"sk-item\"><div class=\"sk-estimator sk-toggleable\"><input class=\"sk-toggleable__control sk-hidden--visually\" id=\"sk-estimator-id-1\" type=\"checkbox\" checked><label for=\"sk-estimator-id-1\" class=\"sk-toggleable__label sk-toggleable__label-arrow\">LogisticRegression</label><div class=\"sk-toggleable__content\"><pre>LogisticRegression(class_weight=&#x27;balanced&#x27;, multi_class=&#x27;multinomial&#x27;,\n",
       "                   random_state=10, solver=&#x27;saga&#x27;)</pre></div></div></div></div></div>"
      ],
      "text/plain": [
       "LogisticRegression(class_weight='balanced', multi_class='multinomial',\n",
       "                   random_state=10, solver='saga')"
      ]
     },
     "execution_count": 21,
     "metadata": {},
     "output_type": "execute_result"
    }
   ],
   "source": [
    "LogReg = LogisticRegression(multi_class='multinomial', class_weight='balanced', random_state=RAND, solver='saga')\n",
    "LogReg.fit(X_train_tfidf, y_train)"
   ]
  },
  {
   "cell_type": "code",
   "execution_count": 22,
   "metadata": {
    "executionInfo": {
     "elapsed": 5,
     "status": "ok",
     "timestamp": 1722017706913,
     "user": {
      "displayName": "Герман Наумов",
      "userId": "14079017463511942105"
     },
     "user_tz": -180
    },
    "id": "oazWJAy0uBP2"
   },
   "outputs": [],
   "source": [
    "def get_metrics_multiclass(y_test, y_pred, y_prob, name):\n",
    "    \"\"\"\n",
    "    y_test - метки класса без бинаризации\n",
    "    y_prob - предсказанные вероятности классов\n",
    "    name - название модели/подхода\n",
    "    \"\"\"\n",
    "    df_metrics = pd.DataFrame()\n",
    "\n",
    "    df_metrics['model'] = [name]\n",
    "\n",
    "    df_metrics['Precision_micro'] = precision_score(y_test,\n",
    "                                                    y_pred,\n",
    "                                                    average='micro')\n",
    "    df_metrics['Precision_macro'] = precision_score(y_test,\n",
    "                                                    y_pred,\n",
    "                                                    average='macro')\n",
    "    df_metrics['Recall_micro'] = recall_score(y_test, y_pred, average='micro')\n",
    "    df_metrics['Recall_macro'] = recall_score(y_test, y_pred, average='macro')\n",
    "    df_metrics['F1_micro'] = f1_score(y_test, y_pred, average='micro')\n",
    "    df_metrics['F1_macro'] = f1_score(y_test, y_pred, average='macro')\n",
    "    df_metrics['Logloss'] = log_loss(y_test, y_prob)\n",
    "\n",
    "    return df_metrics"
   ]
  },
  {
   "cell_type": "code",
   "execution_count": 23,
   "metadata": {
    "colab": {
     "base_uri": "https://localhost:8080/",
     "height": 143
    },
    "executionInfo": {
     "elapsed": 339,
     "status": "ok",
     "timestamp": 1722018507514,
     "user": {
      "displayName": "Герман Наумов",
      "userId": "14079017463511942105"
     },
     "user_tz": -180
    },
    "id": "Mv1B_LkNxn6l",
    "outputId": "0b5f5ffb-6b3c-4d2b-bc51-d4f932c3fa0a"
   },
   "outputs": [
    {
     "data": {
      "text/html": [
       "<div>\n",
       "<style scoped>\n",
       "    .dataframe tbody tr th:only-of-type {\n",
       "        vertical-align: middle;\n",
       "    }\n",
       "\n",
       "    .dataframe tbody tr th {\n",
       "        vertical-align: top;\n",
       "    }\n",
       "\n",
       "    .dataframe thead th {\n",
       "        text-align: right;\n",
       "    }\n",
       "</style>\n",
       "<table border=\"1\" class=\"dataframe\">\n",
       "  <thead>\n",
       "    <tr style=\"text-align: right;\">\n",
       "      <th></th>\n",
       "      <th>model</th>\n",
       "      <th>Precision_micro</th>\n",
       "      <th>Precision_macro</th>\n",
       "      <th>Recall_micro</th>\n",
       "      <th>Recall_macro</th>\n",
       "      <th>F1_micro</th>\n",
       "      <th>F1_macro</th>\n",
       "      <th>Logloss</th>\n",
       "    </tr>\n",
       "  </thead>\n",
       "  <tbody>\n",
       "    <tr>\n",
       "      <th>0</th>\n",
       "      <td>LR_Base</td>\n",
       "      <td>0.826713</td>\n",
       "      <td>0.828805</td>\n",
       "      <td>0.826713</td>\n",
       "      <td>0.822981</td>\n",
       "      <td>0.826713</td>\n",
       "      <td>0.823412</td>\n",
       "      <td>0.753425</td>\n",
       "    </tr>\n",
       "  </tbody>\n",
       "</table>\n",
       "</div>"
      ],
      "text/plain": [
       "     model  Precision_micro  Precision_macro  Recall_micro  Recall_macro  \\\n",
       "0  LR_Base         0.826713         0.828805      0.826713      0.822981   \n",
       "\n",
       "   F1_micro  F1_macro   Logloss  \n",
       "0  0.826713  0.823412  0.753425  "
      ]
     },
     "execution_count": 23,
     "metadata": {},
     "output_type": "execute_result"
    }
   ],
   "source": [
    "model = get_metrics_multiclass(y_test, LogReg.predict(X_test_tfidf), LogReg.predict_proba(X_test_tfidf), 'LR_Base')\n",
    "model"
   ]
  },
  {
   "cell_type": "code",
   "execution_count": 23,
   "metadata": {
    "executionInfo": {
     "elapsed": 313,
     "status": "ok",
     "timestamp": 1722018898191,
     "user": {
      "displayName": "Герман Наумов",
      "userId": "14079017463511942105"
     },
     "user_tz": -180
    },
    "id": "4-6k6xTnUbdT"
   },
   "outputs": [],
   "source": [
    "X_val = X_train_tfidf[:13000]\n",
    "y_val = y_train[:13000]"
   ]
  },
  {
   "cell_type": "code",
   "execution_count": 24,
   "metadata": {
    "executionInfo": {
     "elapsed": 331,
     "status": "ok",
     "timestamp": 1722018981034,
     "user": {
      "displayName": "Герман Наумов",
      "userId": "14079017463511942105"
     },
     "user_tz": -180
    },
    "id": "lx_DoECTTtR3"
   },
   "outputs": [],
   "source": [
    "def objective(trial, RANDOM):\n",
    "    penalty = trial.suggest_categorical('penalty', ['l1', 'l2', 'elasticnet', 'none'])\n",
    "    C = trial.suggest_float('C', 1e-5, 1e2, log=True)\n",
    "    l1_ratio = None\n",
    "    if penalty == 'elasticnet':\n",
    "        l1_ratio = trial.suggest_float('l1_ratio', 0.0, 1.0)\n",
    "\n",
    "    # Создание модели логистической регрессии\n",
    "    model = LogisticRegression(\n",
    "        solver='saga',\n",
    "        penalty=penalty,\n",
    "        C=C,\n",
    "        l1_ratio=l1_ratio,\n",
    "        random_state=RANDOM,\n",
    "        multi_class='multinomial',\n",
    "        class_weight='balanced'\n",
    "    )\n",
    "\n",
    "    # Кросс-валидация\n",
    "    score = cross_val_score(model, X_val, y_val, cv=3, scoring='accuracy').mean()\n",
    "\n",
    "    return score"
   ]
  },
  {
   "cell_type": "code",
   "execution_count": 25,
   "metadata": {
    "colab": {
     "base_uri": "https://localhost:8080/",
     "height": 1000,
     "referenced_widgets": [
      "b8f6b72211064a5bb703506e98d43a78",
      "701e9ba04a5b4be0bdab789fb45e4e31",
      "4e6e7ef4c1f84abe984349bbc8755c97",
      "7629ddeb85fd47319b6b4ac90626595c",
      "d743b0dca9654207a804fbca8588cfd5",
      "467e38d86cec45b2b4ef31d497eed30b",
      "38618940c531475ba78066d93fa737b9",
      "96996b18dd044aac8bea03fdaf978591",
      "42fbaf8fd9854f34ab97d86bdca78ab6",
      "b1aa297d371446918f4b88eee6969718",
      "e6a82568d6b2499c93260a640c2950cb"
     ]
    },
    "executionInfo": {
     "elapsed": 295025,
     "status": "error",
     "timestamp": 1722019276379,
     "user": {
      "displayName": "Герман Наумов",
      "userId": "14079017463511942105"
     },
     "user_tz": -180
    },
    "id": "nT1q4OXQ0hXC",
    "outputId": "b3e251d7-8dc7-48b0-8028-4f4cbe257e92",
    "scrolled": true
   },
   "outputs": [
    {
     "name": "stderr",
     "output_type": "stream",
     "text": [
      "[I 2024-07-26 21:44:50,300] A new study created in memory with name: LogisticRegression\n"
     ]
    },
    {
     "data": {
      "application/vnd.jupyter.widget-view+json": {
       "model_id": "7deae5af0ee74d0dad1b795bc71c67b7",
       "version_major": 2,
       "version_minor": 0
      },
      "text/plain": [
       "  0%|          | 0/20 [00:00<?, ?it/s]"
      ]
     },
     "metadata": {},
     "output_type": "display_data"
    },
    {
     "name": "stdout",
     "output_type": "stream",
     "text": [
      "[I 2024-07-26 21:44:50,808] Trial 0 finished with value: 0.06123260413379567 and parameters: {'penalty': 'elasticnet', 'C': 0.0017896644087879465, 'l1_ratio': 0.38426471800103834}. Best is trial 0 with value: 0.06123260413379567.\n",
      "[I 2024-07-26 21:46:31,493] Trial 1 finished with value: 0.7855384175837176 and parameters: {'penalty': 'elasticnet', 'C': 5.671295115370521, 'l1_ratio': 0.44318422848426575}. Best is trial 1 with value: 0.7855384175837176.\n"
     ]
    },
    {
     "name": "stderr",
     "output_type": "stream",
     "text": [
      "C:\\Users\\albin\\AppData\\Local\\Programs\\Python\\Python312\\Lib\\site-packages\\sklearn\\linear_model\\_logistic.py:1183: FutureWarning: `penalty='none'`has been deprecated in 1.2 and will be removed in 1.4. To keep the past behaviour, set `penalty=None`.\n",
      "  warnings.warn(\n",
      "C:\\Users\\albin\\AppData\\Local\\Programs\\Python\\Python312\\Lib\\site-packages\\sklearn\\linear_model\\_logistic.py:1193: UserWarning: Setting penalty=None will ignore the C and l1_ratio parameters\n",
      "  warnings.warn(\n",
      "C:\\Users\\albin\\AppData\\Local\\Programs\\Python\\Python312\\Lib\\site-packages\\sklearn\\linear_model\\_sag.py:350: ConvergenceWarning: The max_iter was reached which means the coef_ did not converge\n",
      "  warnings.warn(\n",
      "C:\\Users\\albin\\AppData\\Local\\Programs\\Python\\Python312\\Lib\\site-packages\\sklearn\\linear_model\\_logistic.py:1183: FutureWarning: `penalty='none'`has been deprecated in 1.2 and will be removed in 1.4. To keep the past behaviour, set `penalty=None`.\n",
      "  warnings.warn(\n",
      "C:\\Users\\albin\\AppData\\Local\\Programs\\Python\\Python312\\Lib\\site-packages\\sklearn\\linear_model\\_logistic.py:1193: UserWarning: Setting penalty=None will ignore the C and l1_ratio parameters\n",
      "  warnings.warn(\n",
      "C:\\Users\\albin\\AppData\\Local\\Programs\\Python\\Python312\\Lib\\site-packages\\sklearn\\linear_model\\_sag.py:350: ConvergenceWarning: The max_iter was reached which means the coef_ did not converge\n",
      "  warnings.warn(\n",
      "C:\\Users\\albin\\AppData\\Local\\Programs\\Python\\Python312\\Lib\\site-packages\\sklearn\\linear_model\\_logistic.py:1183: FutureWarning: `penalty='none'`has been deprecated in 1.2 and will be removed in 1.4. To keep the past behaviour, set `penalty=None`.\n",
      "  warnings.warn(\n",
      "C:\\Users\\albin\\AppData\\Local\\Programs\\Python\\Python312\\Lib\\site-packages\\sklearn\\linear_model\\_logistic.py:1193: UserWarning: Setting penalty=None will ignore the C and l1_ratio parameters\n",
      "  warnings.warn(\n",
      "C:\\Users\\albin\\AppData\\Local\\Programs\\Python\\Python312\\Lib\\site-packages\\sklearn\\linear_model\\_sag.py:350: ConvergenceWarning: The max_iter was reached which means the coef_ did not converge\n",
      "  warnings.warn(\n"
     ]
    },
    {
     "name": "stdout",
     "output_type": "stream",
     "text": [
      "[I 2024-07-26 21:46:36,508] Trial 2 finished with value: 0.7825388258008417 and parameters: {'penalty': 'none', 'C': 0.03516390588892601}. Best is trial 1 with value: 0.7855384175837176.\n",
      "[I 2024-07-26 21:46:40,600] Trial 3 finished with value: 0.7900002637666956 and parameters: {'penalty': 'l2', 'C': 14.211639755261055}. Best is trial 3 with value: 0.7900002637666956.\n",
      "[I 2024-07-26 21:46:40,711] Trial 4 finished with value: 0.07292158677642059 and parameters: {'penalty': 'l1', 'C': 2.1358603878913066e-05}. Best is trial 3 with value: 0.7900002637666956.\n"
     ]
    },
    {
     "name": "stderr",
     "output_type": "stream",
     "text": [
      "C:\\Users\\albin\\AppData\\Local\\Programs\\Python\\Python312\\Lib\\site-packages\\sklearn\\linear_model\\_logistic.py:1183: FutureWarning: `penalty='none'`has been deprecated in 1.2 and will be removed in 1.4. To keep the past behaviour, set `penalty=None`.\n",
      "  warnings.warn(\n",
      "C:\\Users\\albin\\AppData\\Local\\Programs\\Python\\Python312\\Lib\\site-packages\\sklearn\\linear_model\\_logistic.py:1193: UserWarning: Setting penalty=None will ignore the C and l1_ratio parameters\n",
      "  warnings.warn(\n",
      "C:\\Users\\albin\\AppData\\Local\\Programs\\Python\\Python312\\Lib\\site-packages\\sklearn\\linear_model\\_sag.py:350: ConvergenceWarning: The max_iter was reached which means the coef_ did not converge\n",
      "  warnings.warn(\n",
      "C:\\Users\\albin\\AppData\\Local\\Programs\\Python\\Python312\\Lib\\site-packages\\sklearn\\linear_model\\_logistic.py:1183: FutureWarning: `penalty='none'`has been deprecated in 1.2 and will be removed in 1.4. To keep the past behaviour, set `penalty=None`.\n",
      "  warnings.warn(\n",
      "C:\\Users\\albin\\AppData\\Local\\Programs\\Python\\Python312\\Lib\\site-packages\\sklearn\\linear_model\\_logistic.py:1193: UserWarning: Setting penalty=None will ignore the C and l1_ratio parameters\n",
      "  warnings.warn(\n",
      "C:\\Users\\albin\\AppData\\Local\\Programs\\Python\\Python312\\Lib\\site-packages\\sklearn\\linear_model\\_sag.py:350: ConvergenceWarning: The max_iter was reached which means the coef_ did not converge\n",
      "  warnings.warn(\n",
      "C:\\Users\\albin\\AppData\\Local\\Programs\\Python\\Python312\\Lib\\site-packages\\sklearn\\linear_model\\_logistic.py:1183: FutureWarning: `penalty='none'`has been deprecated in 1.2 and will be removed in 1.4. To keep the past behaviour, set `penalty=None`.\n",
      "  warnings.warn(\n",
      "C:\\Users\\albin\\AppData\\Local\\Programs\\Python\\Python312\\Lib\\site-packages\\sklearn\\linear_model\\_logistic.py:1193: UserWarning: Setting penalty=None will ignore the C and l1_ratio parameters\n",
      "  warnings.warn(\n",
      "C:\\Users\\albin\\AppData\\Local\\Programs\\Python\\Python312\\Lib\\site-packages\\sklearn\\linear_model\\_sag.py:350: ConvergenceWarning: The max_iter was reached which means the coef_ did not converge\n",
      "  warnings.warn(\n"
     ]
    },
    {
     "name": "stdout",
     "output_type": "stream",
     "text": [
      "[I 2024-07-26 21:46:45,700] Trial 5 finished with value: 0.7825388258008417 and parameters: {'penalty': 'none', 'C': 0.8378526538940618}. Best is trial 3 with value: 0.7900002637666956.\n"
     ]
    },
    {
     "name": "stderr",
     "output_type": "stream",
     "text": [
      "C:\\Users\\albin\\AppData\\Local\\Programs\\Python\\Python312\\Lib\\site-packages\\sklearn\\linear_model\\_sag.py:350: ConvergenceWarning: The max_iter was reached which means the coef_ did not converge\n",
      "  warnings.warn(\n",
      "C:\\Users\\albin\\AppData\\Local\\Programs\\Python\\Python312\\Lib\\site-packages\\sklearn\\linear_model\\_sag.py:350: ConvergenceWarning: The max_iter was reached which means the coef_ did not converge\n",
      "  warnings.warn(\n",
      "C:\\Users\\albin\\AppData\\Local\\Programs\\Python\\Python312\\Lib\\site-packages\\sklearn\\linear_model\\_sag.py:350: ConvergenceWarning: The max_iter was reached which means the coef_ did not converge\n",
      "  warnings.warn(\n"
     ]
    },
    {
     "name": "stdout",
     "output_type": "stream",
     "text": [
      "[I 2024-07-26 21:48:22,444] Trial 6 finished with value: 0.7743847251322057 and parameters: {'penalty': 'l1', 'C': 35.498588759596046}. Best is trial 3 with value: 0.7900002637666956.\n",
      "[I 2024-07-26 21:48:23,400] Trial 7 finished with value: 0.29023101525008155 and parameters: {'penalty': 'elasticnet', 'C': 0.030719433641148625, 'l1_ratio': 0.633167639753993}. Best is trial 3 with value: 0.7900002637666956.\n",
      "[I 2024-07-26 21:48:24,588] Trial 8 finished with value: 0.7191540380817338 and parameters: {'penalty': 'l2', 'C': 0.0017556638185833107}. Best is trial 3 with value: 0.7900002637666956.\n",
      "[I 2024-07-26 21:48:25,028] Trial 9 finished with value: 0.07138723141281714 and parameters: {'penalty': 'l1', 'C': 0.005569924240911751}. Best is trial 3 with value: 0.7900002637666956.\n",
      "[I 2024-07-26 21:48:26,272] Trial 10 finished with value: 0.7870766957225385 and parameters: {'penalty': 'l2', 'C': 1.182411520295275}. Best is trial 3 with value: 0.7900002637666956.\n",
      "[I 2024-07-26 21:48:27,416] Trial 11 finished with value: 0.7842306069264566 and parameters: {'penalty': 'l2', 'C': 0.9477724759912743}. Best is trial 3 with value: 0.7900002637666956.\n"
     ]
    },
    {
     "name": "stderr",
     "output_type": "stream",
     "text": [
      "C:\\Users\\albin\\AppData\\Local\\Programs\\Python\\Python312\\Lib\\site-packages\\sklearn\\linear_model\\_sag.py:350: ConvergenceWarning: The max_iter was reached which means the coef_ did not converge\n",
      "  warnings.warn(\n",
      "C:\\Users\\albin\\AppData\\Local\\Programs\\Python\\Python312\\Lib\\site-packages\\sklearn\\linear_model\\_sag.py:350: ConvergenceWarning: The max_iter was reached which means the coef_ did not converge\n",
      "  warnings.warn(\n",
      "C:\\Users\\albin\\AppData\\Local\\Programs\\Python\\Python312\\Lib\\site-packages\\sklearn\\linear_model\\_sag.py:350: ConvergenceWarning: The max_iter was reached which means the coef_ did not converge\n",
      "  warnings.warn(\n"
     ]
    },
    {
     "name": "stdout",
     "output_type": "stream",
     "text": [
      "[I 2024-07-26 21:48:32,337] Trial 12 finished with value: 0.7853848968468095 and parameters: {'penalty': 'l2', 'C': 63.35033576533648}. Best is trial 3 with value: 0.7900002637666956.\n",
      "[I 2024-07-26 21:48:33,597] Trial 13 finished with value: 0.7866151395054244 and parameters: {'penalty': 'l2', 'C': 1.1403091006918196}. Best is trial 3 with value: 0.7900002637666956.\n",
      "[I 2024-07-26 21:48:36,422] Trial 14 finished with value: 0.7918462578836688 and parameters: {'penalty': 'l2', 'C': 7.4310179483581456}. Best is trial 14 with value: 0.7918462578836688.\n"
     ]
    },
    {
     "name": "stderr",
     "output_type": "stream",
     "text": [
      "C:\\Users\\albin\\AppData\\Local\\Programs\\Python\\Python312\\Lib\\site-packages\\sklearn\\linear_model\\_sag.py:350: ConvergenceWarning: The max_iter was reached which means the coef_ did not converge\n",
      "  warnings.warn(\n",
      "C:\\Users\\albin\\AppData\\Local\\Programs\\Python\\Python312\\Lib\\site-packages\\sklearn\\linear_model\\_sag.py:350: ConvergenceWarning: The max_iter was reached which means the coef_ did not converge\n",
      "  warnings.warn(\n",
      "C:\\Users\\albin\\AppData\\Local\\Programs\\Python\\Python312\\Lib\\site-packages\\sklearn\\linear_model\\_sag.py:350: ConvergenceWarning: The max_iter was reached which means the coef_ did not converge\n",
      "  warnings.warn(\n"
     ]
    },
    {
     "name": "stdout",
     "output_type": "stream",
     "text": [
      "[I 2024-07-26 21:48:41,525] Trial 15 finished with value: 0.7843848554180429 and parameters: {'penalty': 'l2', 'C': 80.13329084375782}. Best is trial 14 with value: 0.7918462578836688.\n",
      "[I 2024-07-26 21:48:45,329] Trial 16 finished with value: 0.7909233052004675 and parameters: {'penalty': 'l2', 'C': 11.459592046415752}. Best is trial 14 with value: 0.7918462578836688.\n",
      "[I 2024-07-26 21:48:46,232] Trial 17 finished with value: 0.7403077543183986 and parameters: {'penalty': 'l2', 'C': 0.10420590639127571}. Best is trial 14 with value: 0.7918462578836688.\n"
     ]
    },
    {
     "name": "stderr",
     "output_type": "stream",
     "text": [
      "C:\\Users\\albin\\AppData\\Local\\Programs\\Python\\Python312\\Lib\\site-packages\\sklearn\\linear_model\\_logistic.py:1183: FutureWarning: `penalty='none'`has been deprecated in 1.2 and will be removed in 1.4. To keep the past behaviour, set `penalty=None`.\n",
      "  warnings.warn(\n",
      "C:\\Users\\albin\\AppData\\Local\\Programs\\Python\\Python312\\Lib\\site-packages\\sklearn\\linear_model\\_logistic.py:1193: UserWarning: Setting penalty=None will ignore the C and l1_ratio parameters\n",
      "  warnings.warn(\n",
      "C:\\Users\\albin\\AppData\\Local\\Programs\\Python\\Python312\\Lib\\site-packages\\sklearn\\linear_model\\_sag.py:350: ConvergenceWarning: The max_iter was reached which means the coef_ did not converge\n",
      "  warnings.warn(\n",
      "C:\\Users\\albin\\AppData\\Local\\Programs\\Python\\Python312\\Lib\\site-packages\\sklearn\\linear_model\\_logistic.py:1183: FutureWarning: `penalty='none'`has been deprecated in 1.2 and will be removed in 1.4. To keep the past behaviour, set `penalty=None`.\n",
      "  warnings.warn(\n",
      "C:\\Users\\albin\\AppData\\Local\\Programs\\Python\\Python312\\Lib\\site-packages\\sklearn\\linear_model\\_logistic.py:1193: UserWarning: Setting penalty=None will ignore the C and l1_ratio parameters\n",
      "  warnings.warn(\n",
      "C:\\Users\\albin\\AppData\\Local\\Programs\\Python\\Python312\\Lib\\site-packages\\sklearn\\linear_model\\_sag.py:350: ConvergenceWarning: The max_iter was reached which means the coef_ did not converge\n",
      "  warnings.warn(\n",
      "C:\\Users\\albin\\AppData\\Local\\Programs\\Python\\Python312\\Lib\\site-packages\\sklearn\\linear_model\\_logistic.py:1183: FutureWarning: `penalty='none'`has been deprecated in 1.2 and will be removed in 1.4. To keep the past behaviour, set `penalty=None`.\n",
      "  warnings.warn(\n",
      "C:\\Users\\albin\\AppData\\Local\\Programs\\Python\\Python312\\Lib\\site-packages\\sklearn\\linear_model\\_logistic.py:1193: UserWarning: Setting penalty=None will ignore the C and l1_ratio parameters\n",
      "  warnings.warn(\n",
      "C:\\Users\\albin\\AppData\\Local\\Programs\\Python\\Python312\\Lib\\site-packages\\sklearn\\linear_model\\_sag.py:350: ConvergenceWarning: The max_iter was reached which means the coef_ did not converge\n",
      "  warnings.warn(\n"
     ]
    },
    {
     "name": "stdout",
     "output_type": "stream",
     "text": [
      "[I 2024-07-26 21:48:51,204] Trial 18 finished with value: 0.7825388258008417 and parameters: {'penalty': 'none', 'C': 5.25318050770859}. Best is trial 14 with value: 0.7918462578836688.\n",
      "[I 2024-07-26 21:48:53,988] Trial 19 finished with value: 0.44892255564864897 and parameters: {'penalty': 'l2', 'C': 3.0157052019885286e-05}. Best is trial 14 with value: 0.7918462578836688.\n"
     ]
    }
   ],
   "source": [
    "study = optuna.create_study(study_name=\"LogisticRegression\", direction=\"maximize\")\n",
    "# study.optimize(objective, n_trials=15)\n",
    "pointer = lambda trial: objective(trial, RAND)\n",
    "study.optimize(pointer, n_trials=20, show_progress_bar=True)"
   ]
  },
  {
   "cell_type": "code",
   "execution_count": 26,
   "metadata": {
    "scrolled": true
   },
   "outputs": [
    {
     "data": {
      "application/vnd.jupyter.widget-view+json": {
       "model_id": "bb1b08c9023c4e0abcd4c554ee070ded",
       "version_major": 2,
       "version_minor": 0
      },
      "text/plain": [
       "  0%|          | 0/15 [00:00<?, ?it/s]"
      ]
     },
     "metadata": {},
     "output_type": "display_data"
    },
    {
     "name": "stdout",
     "output_type": "stream",
     "text": [
      "[I 2024-07-26 21:50:00,940] Trial 20 finished with value: 0.7478462632797035 and parameters: {'penalty': 'l2', 'C': 0.15341788278628432}. Best is trial 14 with value: 0.7918462578836688.\n",
      "[I 2024-07-26 21:50:02,781] Trial 21 finished with value: 0.7926922283219898 and parameters: {'penalty': 'l2', 'C': 4.1684331763768085}. Best is trial 21 with value: 0.7926922283219898.\n",
      "[I 2024-07-26 21:50:04,758] Trial 22 finished with value: 0.7923076365996419 and parameters: {'penalty': 'l2', 'C': 4.846123912011181}. Best is trial 21 with value: 0.7926922283219898.\n",
      "[I 2024-07-26 21:50:06,513] Trial 23 finished with value: 0.7920767963656855 and parameters: {'penalty': 'l2', 'C': 3.8607316781413217}. Best is trial 21 with value: 0.7926922283219898.\n",
      "[I 2024-07-26 21:50:07,484] Trial 24 finished with value: 0.7713076541012543 and parameters: {'penalty': 'l2', 'C': 0.43965095745498445}. Best is trial 21 with value: 0.7926922283219898.\n",
      "[I 2024-07-26 21:50:09,141] Trial 25 finished with value: 0.7920768141157996 and parameters: {'penalty': 'l2', 'C': 3.2963163443844232}. Best is trial 21 with value: 0.7926922283219898.\n"
     ]
    },
    {
     "name": "stderr",
     "output_type": "stream",
     "text": [
      "C:\\Users\\albin\\AppData\\Local\\Programs\\Python\\Python312\\Lib\\site-packages\\sklearn\\linear_model\\_logistic.py:1183: FutureWarning: `penalty='none'`has been deprecated in 1.2 and will be removed in 1.4. To keep the past behaviour, set `penalty=None`.\n",
      "  warnings.warn(\n",
      "C:\\Users\\albin\\AppData\\Local\\Programs\\Python\\Python312\\Lib\\site-packages\\sklearn\\linear_model\\_logistic.py:1193: UserWarning: Setting penalty=None will ignore the C and l1_ratio parameters\n",
      "  warnings.warn(\n",
      "C:\\Users\\albin\\AppData\\Local\\Programs\\Python\\Python312\\Lib\\site-packages\\sklearn\\linear_model\\_sag.py:350: ConvergenceWarning: The max_iter was reached which means the coef_ did not converge\n",
      "  warnings.warn(\n",
      "C:\\Users\\albin\\AppData\\Local\\Programs\\Python\\Python312\\Lib\\site-packages\\sklearn\\linear_model\\_logistic.py:1183: FutureWarning: `penalty='none'`has been deprecated in 1.2 and will be removed in 1.4. To keep the past behaviour, set `penalty=None`.\n",
      "  warnings.warn(\n",
      "C:\\Users\\albin\\AppData\\Local\\Programs\\Python\\Python312\\Lib\\site-packages\\sklearn\\linear_model\\_logistic.py:1193: UserWarning: Setting penalty=None will ignore the C and l1_ratio parameters\n",
      "  warnings.warn(\n",
      "C:\\Users\\albin\\AppData\\Local\\Programs\\Python\\Python312\\Lib\\site-packages\\sklearn\\linear_model\\_sag.py:350: ConvergenceWarning: The max_iter was reached which means the coef_ did not converge\n",
      "  warnings.warn(\n",
      "C:\\Users\\albin\\AppData\\Local\\Programs\\Python\\Python312\\Lib\\site-packages\\sklearn\\linear_model\\_logistic.py:1183: FutureWarning: `penalty='none'`has been deprecated in 1.2 and will be removed in 1.4. To keep the past behaviour, set `penalty=None`.\n",
      "  warnings.warn(\n",
      "C:\\Users\\albin\\AppData\\Local\\Programs\\Python\\Python312\\Lib\\site-packages\\sklearn\\linear_model\\_logistic.py:1193: UserWarning: Setting penalty=None will ignore the C and l1_ratio parameters\n",
      "  warnings.warn(\n",
      "C:\\Users\\albin\\AppData\\Local\\Programs\\Python\\Python312\\Lib\\site-packages\\sklearn\\linear_model\\_sag.py:350: ConvergenceWarning: The max_iter was reached which means the coef_ did not converge\n",
      "  warnings.warn(\n"
     ]
    },
    {
     "name": "stdout",
     "output_type": "stream",
     "text": [
      "[I 2024-07-26 21:50:13,939] Trial 26 finished with value: 0.7825388258008417 and parameters: {'penalty': 'none', 'C': 31.715323960337848}. Best is trial 21 with value: 0.7926922283219898.\n",
      "[I 2024-07-26 21:50:17,122] Trial 27 finished with value: 0.5535392076767965 and parameters: {'penalty': 'l1', 'C': 0.19336631548289304}. Best is trial 21 with value: 0.7926922283219898.\n"
     ]
    },
    {
     "name": "stderr",
     "output_type": "stream",
     "text": [
      "C:\\Users\\albin\\AppData\\Local\\Programs\\Python\\Python312\\Lib\\site-packages\\sklearn\\linear_model\\_sag.py:350: ConvergenceWarning: The max_iter was reached which means the coef_ did not converge\n",
      "  warnings.warn(\n",
      "C:\\Users\\albin\\AppData\\Local\\Programs\\Python\\Python312\\Lib\\site-packages\\sklearn\\linear_model\\_sag.py:350: ConvergenceWarning: The max_iter was reached which means the coef_ did not converge\n",
      "  warnings.warn(\n",
      "C:\\Users\\albin\\AppData\\Local\\Programs\\Python\\Python312\\Lib\\site-packages\\sklearn\\linear_model\\_sag.py:350: ConvergenceWarning: The max_iter was reached which means the coef_ did not converge\n",
      "  warnings.warn(\n"
     ]
    },
    {
     "name": "stdout",
     "output_type": "stream",
     "text": [
      "[I 2024-07-26 21:50:44,682] Trial 28 finished with value: 0.7590004882346385 and parameters: {'penalty': 'elasticnet', 'C': 2.4376356211667574, 'l1_ratio': 0.9932397323534041}. Best is trial 21 with value: 0.7926922283219898.\n",
      "[I 2024-07-26 21:50:46,542] Trial 29 finished with value: 0.08853595390337966 and parameters: {'penalty': 'elasticnet', 'C': 0.00039729225486009336, 'l1_ratio': 0.02131495659672744}. Best is trial 21 with value: 0.7926922283219898.\n"
     ]
    },
    {
     "name": "stderr",
     "output_type": "stream",
     "text": [
      "C:\\Users\\albin\\AppData\\Local\\Programs\\Python\\Python312\\Lib\\site-packages\\sklearn\\linear_model\\_sag.py:350: ConvergenceWarning: The max_iter was reached which means the coef_ did not converge\n",
      "  warnings.warn(\n",
      "C:\\Users\\albin\\AppData\\Local\\Programs\\Python\\Python312\\Lib\\site-packages\\sklearn\\linear_model\\_sag.py:350: ConvergenceWarning: The max_iter was reached which means the coef_ did not converge\n",
      "  warnings.warn(\n",
      "C:\\Users\\albin\\AppData\\Local\\Programs\\Python\\Python312\\Lib\\site-packages\\sklearn\\linear_model\\_sag.py:350: ConvergenceWarning: The max_iter was reached which means the coef_ did not converge\n",
      "  warnings.warn(\n"
     ]
    },
    {
     "name": "stdout",
     "output_type": "stream",
     "text": [
      "[I 2024-07-26 21:50:51,432] Trial 30 finished with value: 0.787923269664739 and parameters: {'penalty': 'l2', 'C': 22.33529596709705}. Best is trial 21 with value: 0.7926922283219898.\n",
      "[I 2024-07-26 21:50:52,956] Trial 31 finished with value: 0.791461524160408 and parameters: {'penalty': 'l2', 'C': 2.7774206050338397}. Best is trial 21 with value: 0.7926922283219898.\n",
      "[I 2024-07-26 21:50:54,653] Trial 32 finished with value: 0.7923844590934953 and parameters: {'penalty': 'l2', 'C': 3.477467396323428}. Best is trial 21 with value: 0.7926922283219898.\n",
      "[I 2024-07-26 21:50:55,593] Trial 33 finished with value: 0.7700769321895585 and parameters: {'penalty': 'l2', 'C': 0.4173825106763882}. Best is trial 21 with value: 0.7926922283219898.\n",
      "[I 2024-07-26 21:50:56,479] Trial 34 finished with value: 0.7326154938687024 and parameters: {'penalty': 'l2', 'C': 0.04181792073609134}. Best is trial 21 with value: 0.7926922283219898.\n"
     ]
    }
   ],
   "source": [
    "study.optimize(pointer, n_trials=15, show_progress_bar=True)"
   ]
  },
  {
   "cell_type": "code",
   "execution_count": 27,
   "metadata": {},
   "outputs": [
    {
     "data": {
      "text/plain": [
       "{'penalty': 'l2', 'C': 4.1684331763768085}"
      ]
     },
     "execution_count": 27,
     "metadata": {},
     "output_type": "execute_result"
    }
   ],
   "source": [
    "study.best_params"
   ]
  },
  {
   "cell_type": "code",
   "execution_count": 29,
   "metadata": {},
   "outputs": [
    {
     "data": {
      "text/html": [
       "<style>#sk-container-id-2 {color: black;}#sk-container-id-2 pre{padding: 0;}#sk-container-id-2 div.sk-toggleable {background-color: white;}#sk-container-id-2 label.sk-toggleable__label {cursor: pointer;display: block;width: 100%;margin-bottom: 0;padding: 0.3em;box-sizing: border-box;text-align: center;}#sk-container-id-2 label.sk-toggleable__label-arrow:before {content: \"▸\";float: left;margin-right: 0.25em;color: #696969;}#sk-container-id-2 label.sk-toggleable__label-arrow:hover:before {color: black;}#sk-container-id-2 div.sk-estimator:hover label.sk-toggleable__label-arrow:before {color: black;}#sk-container-id-2 div.sk-toggleable__content {max-height: 0;max-width: 0;overflow: hidden;text-align: left;background-color: #f0f8ff;}#sk-container-id-2 div.sk-toggleable__content pre {margin: 0.2em;color: black;border-radius: 0.25em;background-color: #f0f8ff;}#sk-container-id-2 input.sk-toggleable__control:checked~div.sk-toggleable__content {max-height: 200px;max-width: 100%;overflow: auto;}#sk-container-id-2 input.sk-toggleable__control:checked~label.sk-toggleable__label-arrow:before {content: \"▾\";}#sk-container-id-2 div.sk-estimator input.sk-toggleable__control:checked~label.sk-toggleable__label {background-color: #d4ebff;}#sk-container-id-2 div.sk-label input.sk-toggleable__control:checked~label.sk-toggleable__label {background-color: #d4ebff;}#sk-container-id-2 input.sk-hidden--visually {border: 0;clip: rect(1px 1px 1px 1px);clip: rect(1px, 1px, 1px, 1px);height: 1px;margin: -1px;overflow: hidden;padding: 0;position: absolute;width: 1px;}#sk-container-id-2 div.sk-estimator {font-family: monospace;background-color: #f0f8ff;border: 1px dotted black;border-radius: 0.25em;box-sizing: border-box;margin-bottom: 0.5em;}#sk-container-id-2 div.sk-estimator:hover {background-color: #d4ebff;}#sk-container-id-2 div.sk-parallel-item::after {content: \"\";width: 100%;border-bottom: 1px solid gray;flex-grow: 1;}#sk-container-id-2 div.sk-label:hover label.sk-toggleable__label {background-color: #d4ebff;}#sk-container-id-2 div.sk-serial::before {content: \"\";position: absolute;border-left: 1px solid gray;box-sizing: border-box;top: 0;bottom: 0;left: 50%;z-index: 0;}#sk-container-id-2 div.sk-serial {display: flex;flex-direction: column;align-items: center;background-color: white;padding-right: 0.2em;padding-left: 0.2em;position: relative;}#sk-container-id-2 div.sk-item {position: relative;z-index: 1;}#sk-container-id-2 div.sk-parallel {display: flex;align-items: stretch;justify-content: center;background-color: white;position: relative;}#sk-container-id-2 div.sk-item::before, #sk-container-id-2 div.sk-parallel-item::before {content: \"\";position: absolute;border-left: 1px solid gray;box-sizing: border-box;top: 0;bottom: 0;left: 50%;z-index: -1;}#sk-container-id-2 div.sk-parallel-item {display: flex;flex-direction: column;z-index: 1;position: relative;background-color: white;}#sk-container-id-2 div.sk-parallel-item:first-child::after {align-self: flex-end;width: 50%;}#sk-container-id-2 div.sk-parallel-item:last-child::after {align-self: flex-start;width: 50%;}#sk-container-id-2 div.sk-parallel-item:only-child::after {width: 0;}#sk-container-id-2 div.sk-dashed-wrapped {border: 1px dashed gray;margin: 0 0.4em 0.5em 0.4em;box-sizing: border-box;padding-bottom: 0.4em;background-color: white;}#sk-container-id-2 div.sk-label label {font-family: monospace;font-weight: bold;display: inline-block;line-height: 1.2em;}#sk-container-id-2 div.sk-label-container {text-align: center;}#sk-container-id-2 div.sk-container {/* jupyter's `normalize.less` sets `[hidden] { display: none; }` but bootstrap.min.css set `[hidden] { display: none !important; }` so we also need the `!important` here to be able to override the default hidden behavior on the sphinx rendered scikit-learn.org. See: https://github.com/scikit-learn/scikit-learn/issues/21755 */display: inline-block !important;position: relative;}#sk-container-id-2 div.sk-text-repr-fallback {display: none;}</style><div id=\"sk-container-id-2\" class=\"sk-top-container\"><div class=\"sk-text-repr-fallback\"><pre>LogisticRegression(C=4.1684331763768085, class_weight=&#x27;balanced&#x27;,\n",
       "                   multi_class=&#x27;multinomial&#x27;, random_state=10, solver=&#x27;saga&#x27;)</pre><b>In a Jupyter environment, please rerun this cell to show the HTML representation or trust the notebook. <br />On GitHub, the HTML representation is unable to render, please try loading this page with nbviewer.org.</b></div><div class=\"sk-container\" hidden><div class=\"sk-item\"><div class=\"sk-estimator sk-toggleable\"><input class=\"sk-toggleable__control sk-hidden--visually\" id=\"sk-estimator-id-2\" type=\"checkbox\" checked><label for=\"sk-estimator-id-2\" class=\"sk-toggleable__label sk-toggleable__label-arrow\">LogisticRegression</label><div class=\"sk-toggleable__content\"><pre>LogisticRegression(C=4.1684331763768085, class_weight=&#x27;balanced&#x27;,\n",
       "                   multi_class=&#x27;multinomial&#x27;, random_state=10, solver=&#x27;saga&#x27;)</pre></div></div></div></div></div>"
      ],
      "text/plain": [
       "LogisticRegression(C=4.1684331763768085, class_weight='balanced',\n",
       "                   multi_class='multinomial', random_state=10, solver='saga')"
      ]
     },
     "execution_count": 29,
     "metadata": {},
     "output_type": "execute_result"
    }
   ],
   "source": [
    "LogReg_tuned = LogisticRegression(multi_class='multinomial', class_weight='balanced', random_state=RAND, solver='saga', **study.best_params)\n",
    "LogReg_tuned.fit(X_train_tfidf, y_train)"
   ]
  },
  {
   "cell_type": "code",
   "execution_count": 50,
   "metadata": {},
   "outputs": [
    {
     "data": {
      "text/html": [
       "<div>\n",
       "<style scoped>\n",
       "    .dataframe tbody tr th:only-of-type {\n",
       "        vertical-align: middle;\n",
       "    }\n",
       "\n",
       "    .dataframe tbody tr th {\n",
       "        vertical-align: top;\n",
       "    }\n",
       "\n",
       "    .dataframe thead th {\n",
       "        text-align: right;\n",
       "    }\n",
       "</style>\n",
       "<table border=\"1\" class=\"dataframe\">\n",
       "  <thead>\n",
       "    <tr style=\"text-align: right;\">\n",
       "      <th></th>\n",
       "      <th>model</th>\n",
       "      <th>Precision_micro</th>\n",
       "      <th>Precision_macro</th>\n",
       "      <th>Recall_micro</th>\n",
       "      <th>Recall_macro</th>\n",
       "      <th>F1_micro</th>\n",
       "      <th>F1_macro</th>\n",
       "      <th>Logloss</th>\n",
       "    </tr>\n",
       "  </thead>\n",
       "  <tbody>\n",
       "    <tr>\n",
       "      <th>0</th>\n",
       "      <td>LR_Base</td>\n",
       "      <td>0.826713</td>\n",
       "      <td>0.828805</td>\n",
       "      <td>0.826713</td>\n",
       "      <td>0.822981</td>\n",
       "      <td>0.826713</td>\n",
       "      <td>0.823412</td>\n",
       "      <td>0.753425</td>\n",
       "    </tr>\n",
       "    <tr>\n",
       "      <th>0</th>\n",
       "      <td>LR_tuned_optuna</td>\n",
       "      <td>0.831404</td>\n",
       "      <td>0.828572</td>\n",
       "      <td>0.831404</td>\n",
       "      <td>0.826992</td>\n",
       "      <td>0.831404</td>\n",
       "      <td>0.826684</td>\n",
       "      <td>0.623931</td>\n",
       "    </tr>\n",
       "  </tbody>\n",
       "</table>\n",
       "</div>"
      ],
      "text/plain": [
       "             model  Precision_micro  Precision_macro  Recall_micro  \\\n",
       "0          LR_Base         0.826713         0.828805      0.826713   \n",
       "0  LR_tuned_optuna         0.831404         0.828572      0.831404   \n",
       "\n",
       "   Recall_macro  F1_micro  F1_macro   Logloss  \n",
       "0      0.822981  0.826713  0.823412  0.753425  \n",
       "0      0.826992  0.831404  0.826684  0.623931  "
      ]
     },
     "execution_count": 50,
     "metadata": {},
     "output_type": "execute_result"
    }
   ],
   "source": [
    "# model = pd.concat([model, get_metrics_multiclass(y_train, LogReg_tuned.predict(X_train_tfidf), LogReg_tuned.predict_proba(X_train_tfidf), 'lr_tuned_Opt_train')])\n",
    "model = pd.concat([model, get_metrics_multiclass(y_test, LogReg_tuned.predict(X_test_tfidf), LogReg_tuned.predict_proba(X_test_tfidf), 'LR_tuned_optuna')])\n",
    "model"
   ]
  },
  {
   "cell_type": "code",
   "execution_count": 32,
   "metadata": {},
   "outputs": [],
   "source": [
    "param_distributions = {\n",
    "    'penalty': ['l1', 'l2', 'elasticnet', 'none'],\n",
    "    'C': np.logspace(-5, 2, 100),\n",
    "    'l1_ratio': np.linspace(0, 1, 100)\n",
    "}"
   ]
  },
  {
   "cell_type": "code",
   "execution_count": 33,
   "metadata": {
    "colab": {
     "base_uri": "https://localhost:8080/",
     "height": 207
    },
    "executionInfo": {
     "elapsed": 347311,
     "status": "ok",
     "timestamp": 1722018433370,
     "user": {
      "displayName": "Герман Наумов",
      "userId": "14079017463511942105"
     },
     "user_tz": -180
    },
    "id": "syOwAOjd5Zco",
    "outputId": "4b11b540-0a1c-4256-80d7-b805432d34dc"
   },
   "outputs": [
    {
     "name": "stderr",
     "output_type": "stream",
     "text": [
      "C:\\Users\\albin\\AppData\\Local\\Programs\\Python\\Python312\\Lib\\site-packages\\sklearn\\linear_model\\_logistic.py:1172: UserWarning: l1_ratio parameter is only used when penalty is 'elasticnet'. Got (penalty=l2)\n",
      "  warnings.warn(\n"
     ]
    },
    {
     "data": {
      "text/html": [
       "<style>#sk-container-id-3 {color: black;}#sk-container-id-3 pre{padding: 0;}#sk-container-id-3 div.sk-toggleable {background-color: white;}#sk-container-id-3 label.sk-toggleable__label {cursor: pointer;display: block;width: 100%;margin-bottom: 0;padding: 0.3em;box-sizing: border-box;text-align: center;}#sk-container-id-3 label.sk-toggleable__label-arrow:before {content: \"▸\";float: left;margin-right: 0.25em;color: #696969;}#sk-container-id-3 label.sk-toggleable__label-arrow:hover:before {color: black;}#sk-container-id-3 div.sk-estimator:hover label.sk-toggleable__label-arrow:before {color: black;}#sk-container-id-3 div.sk-toggleable__content {max-height: 0;max-width: 0;overflow: hidden;text-align: left;background-color: #f0f8ff;}#sk-container-id-3 div.sk-toggleable__content pre {margin: 0.2em;color: black;border-radius: 0.25em;background-color: #f0f8ff;}#sk-container-id-3 input.sk-toggleable__control:checked~div.sk-toggleable__content {max-height: 200px;max-width: 100%;overflow: auto;}#sk-container-id-3 input.sk-toggleable__control:checked~label.sk-toggleable__label-arrow:before {content: \"▾\";}#sk-container-id-3 div.sk-estimator input.sk-toggleable__control:checked~label.sk-toggleable__label {background-color: #d4ebff;}#sk-container-id-3 div.sk-label input.sk-toggleable__control:checked~label.sk-toggleable__label {background-color: #d4ebff;}#sk-container-id-3 input.sk-hidden--visually {border: 0;clip: rect(1px 1px 1px 1px);clip: rect(1px, 1px, 1px, 1px);height: 1px;margin: -1px;overflow: hidden;padding: 0;position: absolute;width: 1px;}#sk-container-id-3 div.sk-estimator {font-family: monospace;background-color: #f0f8ff;border: 1px dotted black;border-radius: 0.25em;box-sizing: border-box;margin-bottom: 0.5em;}#sk-container-id-3 div.sk-estimator:hover {background-color: #d4ebff;}#sk-container-id-3 div.sk-parallel-item::after {content: \"\";width: 100%;border-bottom: 1px solid gray;flex-grow: 1;}#sk-container-id-3 div.sk-label:hover label.sk-toggleable__label {background-color: #d4ebff;}#sk-container-id-3 div.sk-serial::before {content: \"\";position: absolute;border-left: 1px solid gray;box-sizing: border-box;top: 0;bottom: 0;left: 50%;z-index: 0;}#sk-container-id-3 div.sk-serial {display: flex;flex-direction: column;align-items: center;background-color: white;padding-right: 0.2em;padding-left: 0.2em;position: relative;}#sk-container-id-3 div.sk-item {position: relative;z-index: 1;}#sk-container-id-3 div.sk-parallel {display: flex;align-items: stretch;justify-content: center;background-color: white;position: relative;}#sk-container-id-3 div.sk-item::before, #sk-container-id-3 div.sk-parallel-item::before {content: \"\";position: absolute;border-left: 1px solid gray;box-sizing: border-box;top: 0;bottom: 0;left: 50%;z-index: -1;}#sk-container-id-3 div.sk-parallel-item {display: flex;flex-direction: column;z-index: 1;position: relative;background-color: white;}#sk-container-id-3 div.sk-parallel-item:first-child::after {align-self: flex-end;width: 50%;}#sk-container-id-3 div.sk-parallel-item:last-child::after {align-self: flex-start;width: 50%;}#sk-container-id-3 div.sk-parallel-item:only-child::after {width: 0;}#sk-container-id-3 div.sk-dashed-wrapped {border: 1px dashed gray;margin: 0 0.4em 0.5em 0.4em;box-sizing: border-box;padding-bottom: 0.4em;background-color: white;}#sk-container-id-3 div.sk-label label {font-family: monospace;font-weight: bold;display: inline-block;line-height: 1.2em;}#sk-container-id-3 div.sk-label-container {text-align: center;}#sk-container-id-3 div.sk-container {/* jupyter's `normalize.less` sets `[hidden] { display: none; }` but bootstrap.min.css set `[hidden] { display: none !important; }` so we also need the `!important` here to be able to override the default hidden behavior on the sphinx rendered scikit-learn.org. See: https://github.com/scikit-learn/scikit-learn/issues/21755 */display: inline-block !important;position: relative;}#sk-container-id-3 div.sk-text-repr-fallback {display: none;}</style><div id=\"sk-container-id-3\" class=\"sk-top-container\"><div class=\"sk-text-repr-fallback\"><pre>RandomizedSearchCV(cv=3,\n",
       "                   estimator=LogisticRegression(class_weight=&#x27;balanced&#x27;,\n",
       "                                                multi_class=&#x27;multinomial&#x27;,\n",
       "                                                random_state=10,\n",
       "                                                solver=&#x27;saga&#x27;),\n",
       "                   n_iter=100, n_jobs=-1,\n",
       "                   param_distributions={&#x27;C&#x27;: array([1.00000000e-05, 1.17681195e-05, 1.38488637e-05, 1.62975083e-05,\n",
       "       1.91791026e-05, 2.25701972e-05, 2.65608778e-05, 3.12571585e-05,\n",
       "       3.67837977e-05, 4.32876128e-05, 5.09413801e-0...\n",
       "       0.70707071, 0.71717172, 0.72727273, 0.73737374, 0.74747475,\n",
       "       0.75757576, 0.76767677, 0.77777778, 0.78787879, 0.7979798 ,\n",
       "       0.80808081, 0.81818182, 0.82828283, 0.83838384, 0.84848485,\n",
       "       0.85858586, 0.86868687, 0.87878788, 0.88888889, 0.8989899 ,\n",
       "       0.90909091, 0.91919192, 0.92929293, 0.93939394, 0.94949495,\n",
       "       0.95959596, 0.96969697, 0.97979798, 0.98989899, 1.        ]),\n",
       "                                        &#x27;penalty&#x27;: [&#x27;l1&#x27;, &#x27;l2&#x27;, &#x27;elasticnet&#x27;,\n",
       "                                                    &#x27;none&#x27;]},\n",
       "                   random_state=10, scoring=&#x27;accuracy&#x27;)</pre><b>In a Jupyter environment, please rerun this cell to show the HTML representation or trust the notebook. <br />On GitHub, the HTML representation is unable to render, please try loading this page with nbviewer.org.</b></div><div class=\"sk-container\" hidden><div class=\"sk-item sk-dashed-wrapped\"><div class=\"sk-label-container\"><div class=\"sk-label sk-toggleable\"><input class=\"sk-toggleable__control sk-hidden--visually\" id=\"sk-estimator-id-3\" type=\"checkbox\" ><label for=\"sk-estimator-id-3\" class=\"sk-toggleable__label sk-toggleable__label-arrow\">RandomizedSearchCV</label><div class=\"sk-toggleable__content\"><pre>RandomizedSearchCV(cv=3,\n",
       "                   estimator=LogisticRegression(class_weight=&#x27;balanced&#x27;,\n",
       "                                                multi_class=&#x27;multinomial&#x27;,\n",
       "                                                random_state=10,\n",
       "                                                solver=&#x27;saga&#x27;),\n",
       "                   n_iter=100, n_jobs=-1,\n",
       "                   param_distributions={&#x27;C&#x27;: array([1.00000000e-05, 1.17681195e-05, 1.38488637e-05, 1.62975083e-05,\n",
       "       1.91791026e-05, 2.25701972e-05, 2.65608778e-05, 3.12571585e-05,\n",
       "       3.67837977e-05, 4.32876128e-05, 5.09413801e-0...\n",
       "       0.70707071, 0.71717172, 0.72727273, 0.73737374, 0.74747475,\n",
       "       0.75757576, 0.76767677, 0.77777778, 0.78787879, 0.7979798 ,\n",
       "       0.80808081, 0.81818182, 0.82828283, 0.83838384, 0.84848485,\n",
       "       0.85858586, 0.86868687, 0.87878788, 0.88888889, 0.8989899 ,\n",
       "       0.90909091, 0.91919192, 0.92929293, 0.93939394, 0.94949495,\n",
       "       0.95959596, 0.96969697, 0.97979798, 0.98989899, 1.        ]),\n",
       "                                        &#x27;penalty&#x27;: [&#x27;l1&#x27;, &#x27;l2&#x27;, &#x27;elasticnet&#x27;,\n",
       "                                                    &#x27;none&#x27;]},\n",
       "                   random_state=10, scoring=&#x27;accuracy&#x27;)</pre></div></div></div><div class=\"sk-parallel\"><div class=\"sk-parallel-item\"><div class=\"sk-item\"><div class=\"sk-label-container\"><div class=\"sk-label sk-toggleable\"><input class=\"sk-toggleable__control sk-hidden--visually\" id=\"sk-estimator-id-4\" type=\"checkbox\" ><label for=\"sk-estimator-id-4\" class=\"sk-toggleable__label sk-toggleable__label-arrow\">estimator: LogisticRegression</label><div class=\"sk-toggleable__content\"><pre>LogisticRegression(class_weight=&#x27;balanced&#x27;, multi_class=&#x27;multinomial&#x27;,\n",
       "                   random_state=10, solver=&#x27;saga&#x27;)</pre></div></div></div><div class=\"sk-serial\"><div class=\"sk-item\"><div class=\"sk-estimator sk-toggleable\"><input class=\"sk-toggleable__control sk-hidden--visually\" id=\"sk-estimator-id-5\" type=\"checkbox\" ><label for=\"sk-estimator-id-5\" class=\"sk-toggleable__label sk-toggleable__label-arrow\">LogisticRegression</label><div class=\"sk-toggleable__content\"><pre>LogisticRegression(class_weight=&#x27;balanced&#x27;, multi_class=&#x27;multinomial&#x27;,\n",
       "                   random_state=10, solver=&#x27;saga&#x27;)</pre></div></div></div></div></div></div></div></div></div></div>"
      ],
      "text/plain": [
       "RandomizedSearchCV(cv=3,\n",
       "                   estimator=LogisticRegression(class_weight='balanced',\n",
       "                                                multi_class='multinomial',\n",
       "                                                random_state=10,\n",
       "                                                solver='saga'),\n",
       "                   n_iter=100, n_jobs=-1,\n",
       "                   param_distributions={'C': array([1.00000000e-05, 1.17681195e-05, 1.38488637e-05, 1.62975083e-05,\n",
       "       1.91791026e-05, 2.25701972e-05, 2.65608778e-05, 3.12571585e-05,\n",
       "       3.67837977e-05, 4.32876128e-05, 5.09413801e-0...\n",
       "       0.70707071, 0.71717172, 0.72727273, 0.73737374, 0.74747475,\n",
       "       0.75757576, 0.76767677, 0.77777778, 0.78787879, 0.7979798 ,\n",
       "       0.80808081, 0.81818182, 0.82828283, 0.83838384, 0.84848485,\n",
       "       0.85858586, 0.86868687, 0.87878788, 0.88888889, 0.8989899 ,\n",
       "       0.90909091, 0.91919192, 0.92929293, 0.93939394, 0.94949495,\n",
       "       0.95959596, 0.96969697, 0.97979798, 0.98989899, 1.        ]),\n",
       "                                        'penalty': ['l1', 'l2', 'elasticnet',\n",
       "                                                    'none']},\n",
       "                   random_state=10, scoring='accuracy')"
      ]
     },
     "execution_count": 33,
     "metadata": {},
     "output_type": "execute_result"
    }
   ],
   "source": [
    "lg = LogisticRegression(class_weight='balanced', multi_class='multinomial', solver='saga', random_state=RAND)\n",
    "\n",
    "# Создание RandomizedSearchCV\n",
    "random_search = RandomizedSearchCV(\n",
    "    lg,\n",
    "    param_distributions=param_distributions,\n",
    "    n_iter=100,\n",
    "    scoring='accuracy',\n",
    "    cv=3,\n",
    "    random_state=RAND,\n",
    "    n_jobs=-1\n",
    ")\n",
    "\n",
    "# Запуск поиска\n",
    "random_search.fit(X_val, y_val)"
   ]
  },
  {
   "cell_type": "code",
   "execution_count": 36,
   "metadata": {
    "colab": {
     "base_uri": "https://localhost:8080/"
    },
    "executionInfo": {
     "elapsed": 320,
     "status": "ok",
     "timestamp": 1722018453407,
     "user": {
      "displayName": "Герман Наумов",
      "userId": "14079017463511942105"
     },
     "user_tz": -180
    },
    "id": "DITXIByHTCr7",
    "outputId": "9772f85a-05b4-4c48-e618-ec5ebbe437e2"
   },
   "outputs": [
    {
     "data": {
      "text/html": [
       "<style>#sk-container-id-5 {color: black;}#sk-container-id-5 pre{padding: 0;}#sk-container-id-5 div.sk-toggleable {background-color: white;}#sk-container-id-5 label.sk-toggleable__label {cursor: pointer;display: block;width: 100%;margin-bottom: 0;padding: 0.3em;box-sizing: border-box;text-align: center;}#sk-container-id-5 label.sk-toggleable__label-arrow:before {content: \"▸\";float: left;margin-right: 0.25em;color: #696969;}#sk-container-id-5 label.sk-toggleable__label-arrow:hover:before {color: black;}#sk-container-id-5 div.sk-estimator:hover label.sk-toggleable__label-arrow:before {color: black;}#sk-container-id-5 div.sk-toggleable__content {max-height: 0;max-width: 0;overflow: hidden;text-align: left;background-color: #f0f8ff;}#sk-container-id-5 div.sk-toggleable__content pre {margin: 0.2em;color: black;border-radius: 0.25em;background-color: #f0f8ff;}#sk-container-id-5 input.sk-toggleable__control:checked~div.sk-toggleable__content {max-height: 200px;max-width: 100%;overflow: auto;}#sk-container-id-5 input.sk-toggleable__control:checked~label.sk-toggleable__label-arrow:before {content: \"▾\";}#sk-container-id-5 div.sk-estimator input.sk-toggleable__control:checked~label.sk-toggleable__label {background-color: #d4ebff;}#sk-container-id-5 div.sk-label input.sk-toggleable__control:checked~label.sk-toggleable__label {background-color: #d4ebff;}#sk-container-id-5 input.sk-hidden--visually {border: 0;clip: rect(1px 1px 1px 1px);clip: rect(1px, 1px, 1px, 1px);height: 1px;margin: -1px;overflow: hidden;padding: 0;position: absolute;width: 1px;}#sk-container-id-5 div.sk-estimator {font-family: monospace;background-color: #f0f8ff;border: 1px dotted black;border-radius: 0.25em;box-sizing: border-box;margin-bottom: 0.5em;}#sk-container-id-5 div.sk-estimator:hover {background-color: #d4ebff;}#sk-container-id-5 div.sk-parallel-item::after {content: \"\";width: 100%;border-bottom: 1px solid gray;flex-grow: 1;}#sk-container-id-5 div.sk-label:hover label.sk-toggleable__label {background-color: #d4ebff;}#sk-container-id-5 div.sk-serial::before {content: \"\";position: absolute;border-left: 1px solid gray;box-sizing: border-box;top: 0;bottom: 0;left: 50%;z-index: 0;}#sk-container-id-5 div.sk-serial {display: flex;flex-direction: column;align-items: center;background-color: white;padding-right: 0.2em;padding-left: 0.2em;position: relative;}#sk-container-id-5 div.sk-item {position: relative;z-index: 1;}#sk-container-id-5 div.sk-parallel {display: flex;align-items: stretch;justify-content: center;background-color: white;position: relative;}#sk-container-id-5 div.sk-item::before, #sk-container-id-5 div.sk-parallel-item::before {content: \"\";position: absolute;border-left: 1px solid gray;box-sizing: border-box;top: 0;bottom: 0;left: 50%;z-index: -1;}#sk-container-id-5 div.sk-parallel-item {display: flex;flex-direction: column;z-index: 1;position: relative;background-color: white;}#sk-container-id-5 div.sk-parallel-item:first-child::after {align-self: flex-end;width: 50%;}#sk-container-id-5 div.sk-parallel-item:last-child::after {align-self: flex-start;width: 50%;}#sk-container-id-5 div.sk-parallel-item:only-child::after {width: 0;}#sk-container-id-5 div.sk-dashed-wrapped {border: 1px dashed gray;margin: 0 0.4em 0.5em 0.4em;box-sizing: border-box;padding-bottom: 0.4em;background-color: white;}#sk-container-id-5 div.sk-label label {font-family: monospace;font-weight: bold;display: inline-block;line-height: 1.2em;}#sk-container-id-5 div.sk-label-container {text-align: center;}#sk-container-id-5 div.sk-container {/* jupyter's `normalize.less` sets `[hidden] { display: none; }` but bootstrap.min.css set `[hidden] { display: none !important; }` so we also need the `!important` here to be able to override the default hidden behavior on the sphinx rendered scikit-learn.org. See: https://github.com/scikit-learn/scikit-learn/issues/21755 */display: inline-block !important;position: relative;}#sk-container-id-5 div.sk-text-repr-fallback {display: none;}</style><div id=\"sk-container-id-5\" class=\"sk-top-container\"><div class=\"sk-text-repr-fallback\"><pre>LogisticRegression(C=4.534878508128582, class_weight=&#x27;balanced&#x27;,\n",
       "                   l1_ratio=0.7272727272727273, multi_class=&#x27;multinomial&#x27;,\n",
       "                   random_state=10, solver=&#x27;saga&#x27;)</pre><b>In a Jupyter environment, please rerun this cell to show the HTML representation or trust the notebook. <br />On GitHub, the HTML representation is unable to render, please try loading this page with nbviewer.org.</b></div><div class=\"sk-container\" hidden><div class=\"sk-item\"><div class=\"sk-estimator sk-toggleable\"><input class=\"sk-toggleable__control sk-hidden--visually\" id=\"sk-estimator-id-9\" type=\"checkbox\" checked><label for=\"sk-estimator-id-9\" class=\"sk-toggleable__label sk-toggleable__label-arrow\">LogisticRegression</label><div class=\"sk-toggleable__content\"><pre>LogisticRegression(C=4.534878508128582, class_weight=&#x27;balanced&#x27;,\n",
       "                   l1_ratio=0.7272727272727273, multi_class=&#x27;multinomial&#x27;,\n",
       "                   random_state=10, solver=&#x27;saga&#x27;)</pre></div></div></div></div></div>"
      ],
      "text/plain": [
       "LogisticRegression(C=4.534878508128582, class_weight='balanced',\n",
       "                   l1_ratio=0.7272727272727273, multi_class='multinomial',\n",
       "                   random_state=10, solver='saga')"
      ]
     },
     "execution_count": 36,
     "metadata": {},
     "output_type": "execute_result"
    }
   ],
   "source": [
    "random_search.best_estimator_"
   ]
  },
  {
   "cell_type": "code",
   "execution_count": 37,
   "metadata": {
    "id": "y_EeWacaTFMG"
   },
   "outputs": [
    {
     "data": {
      "text/plain": [
       "{'penalty': 'l2', 'l1_ratio': 0.7272727272727273, 'C': 4.534878508128582}"
      ]
     },
     "execution_count": 37,
     "metadata": {},
     "output_type": "execute_result"
    }
   ],
   "source": [
    "random_search.best_params_"
   ]
  },
  {
   "cell_type": "code",
   "execution_count": 24,
   "metadata": {},
   "outputs": [
    {
     "name": "stderr",
     "output_type": "stream",
     "text": [
      "C:\\Users\\albin\\AppData\\Local\\Programs\\Python\\Python312\\Lib\\site-packages\\sklearn\\linear_model\\_logistic.py:1172: UserWarning: l1_ratio parameter is only used when penalty is 'elasticnet'. Got (penalty=l2)\n",
      "  warnings.warn(\n"
     ]
    },
    {
     "data": {
      "text/html": [
       "<style>#sk-container-id-2 {color: black;}#sk-container-id-2 pre{padding: 0;}#sk-container-id-2 div.sk-toggleable {background-color: white;}#sk-container-id-2 label.sk-toggleable__label {cursor: pointer;display: block;width: 100%;margin-bottom: 0;padding: 0.3em;box-sizing: border-box;text-align: center;}#sk-container-id-2 label.sk-toggleable__label-arrow:before {content: \"▸\";float: left;margin-right: 0.25em;color: #696969;}#sk-container-id-2 label.sk-toggleable__label-arrow:hover:before {color: black;}#sk-container-id-2 div.sk-estimator:hover label.sk-toggleable__label-arrow:before {color: black;}#sk-container-id-2 div.sk-toggleable__content {max-height: 0;max-width: 0;overflow: hidden;text-align: left;background-color: #f0f8ff;}#sk-container-id-2 div.sk-toggleable__content pre {margin: 0.2em;color: black;border-radius: 0.25em;background-color: #f0f8ff;}#sk-container-id-2 input.sk-toggleable__control:checked~div.sk-toggleable__content {max-height: 200px;max-width: 100%;overflow: auto;}#sk-container-id-2 input.sk-toggleable__control:checked~label.sk-toggleable__label-arrow:before {content: \"▾\";}#sk-container-id-2 div.sk-estimator input.sk-toggleable__control:checked~label.sk-toggleable__label {background-color: #d4ebff;}#sk-container-id-2 div.sk-label input.sk-toggleable__control:checked~label.sk-toggleable__label {background-color: #d4ebff;}#sk-container-id-2 input.sk-hidden--visually {border: 0;clip: rect(1px 1px 1px 1px);clip: rect(1px, 1px, 1px, 1px);height: 1px;margin: -1px;overflow: hidden;padding: 0;position: absolute;width: 1px;}#sk-container-id-2 div.sk-estimator {font-family: monospace;background-color: #f0f8ff;border: 1px dotted black;border-radius: 0.25em;box-sizing: border-box;margin-bottom: 0.5em;}#sk-container-id-2 div.sk-estimator:hover {background-color: #d4ebff;}#sk-container-id-2 div.sk-parallel-item::after {content: \"\";width: 100%;border-bottom: 1px solid gray;flex-grow: 1;}#sk-container-id-2 div.sk-label:hover label.sk-toggleable__label {background-color: #d4ebff;}#sk-container-id-2 div.sk-serial::before {content: \"\";position: absolute;border-left: 1px solid gray;box-sizing: border-box;top: 0;bottom: 0;left: 50%;z-index: 0;}#sk-container-id-2 div.sk-serial {display: flex;flex-direction: column;align-items: center;background-color: white;padding-right: 0.2em;padding-left: 0.2em;position: relative;}#sk-container-id-2 div.sk-item {position: relative;z-index: 1;}#sk-container-id-2 div.sk-parallel {display: flex;align-items: stretch;justify-content: center;background-color: white;position: relative;}#sk-container-id-2 div.sk-item::before, #sk-container-id-2 div.sk-parallel-item::before {content: \"\";position: absolute;border-left: 1px solid gray;box-sizing: border-box;top: 0;bottom: 0;left: 50%;z-index: -1;}#sk-container-id-2 div.sk-parallel-item {display: flex;flex-direction: column;z-index: 1;position: relative;background-color: white;}#sk-container-id-2 div.sk-parallel-item:first-child::after {align-self: flex-end;width: 50%;}#sk-container-id-2 div.sk-parallel-item:last-child::after {align-self: flex-start;width: 50%;}#sk-container-id-2 div.sk-parallel-item:only-child::after {width: 0;}#sk-container-id-2 div.sk-dashed-wrapped {border: 1px dashed gray;margin: 0 0.4em 0.5em 0.4em;box-sizing: border-box;padding-bottom: 0.4em;background-color: white;}#sk-container-id-2 div.sk-label label {font-family: monospace;font-weight: bold;display: inline-block;line-height: 1.2em;}#sk-container-id-2 div.sk-label-container {text-align: center;}#sk-container-id-2 div.sk-container {/* jupyter's `normalize.less` sets `[hidden] { display: none; }` but bootstrap.min.css set `[hidden] { display: none !important; }` so we also need the `!important` here to be able to override the default hidden behavior on the sphinx rendered scikit-learn.org. See: https://github.com/scikit-learn/scikit-learn/issues/21755 */display: inline-block !important;position: relative;}#sk-container-id-2 div.sk-text-repr-fallback {display: none;}</style><div id=\"sk-container-id-2\" class=\"sk-top-container\"><div class=\"sk-text-repr-fallback\"><pre>LogisticRegression(C=4.534878508128582, class_weight=&#x27;balanced&#x27;,\n",
       "                   l1_ratio=0.7272727272727273, multi_class=&#x27;multinomial&#x27;,\n",
       "                   random_state=10, solver=&#x27;saga&#x27;)</pre><b>In a Jupyter environment, please rerun this cell to show the HTML representation or trust the notebook. <br />On GitHub, the HTML representation is unable to render, please try loading this page with nbviewer.org.</b></div><div class=\"sk-container\" hidden><div class=\"sk-item\"><div class=\"sk-estimator sk-toggleable\"><input class=\"sk-toggleable__control sk-hidden--visually\" id=\"sk-estimator-id-2\" type=\"checkbox\" checked><label for=\"sk-estimator-id-2\" class=\"sk-toggleable__label sk-toggleable__label-arrow\">LogisticRegression</label><div class=\"sk-toggleable__content\"><pre>LogisticRegression(C=4.534878508128582, class_weight=&#x27;balanced&#x27;,\n",
       "                   l1_ratio=0.7272727272727273, multi_class=&#x27;multinomial&#x27;,\n",
       "                   random_state=10, solver=&#x27;saga&#x27;)</pre></div></div></div></div></div>"
      ],
      "text/plain": [
       "LogisticRegression(C=4.534878508128582, class_weight='balanced',\n",
       "                   l1_ratio=0.7272727272727273, multi_class='multinomial',\n",
       "                   random_state=10, solver='saga')"
      ]
     },
     "execution_count": 24,
     "metadata": {},
     "output_type": "execute_result"
    }
   ],
   "source": [
    "LogReg_tuned_RS = LogisticRegression(multi_class='multinomial', class_weight='balanced', random_state=RAND, solver='saga', **random_search.best_params_)\n",
    "LogReg_tuned_RS.fit(X_train_tfidf, y_train)"
   ]
  },
  {
   "cell_type": "code",
   "execution_count": 53,
   "metadata": {},
   "outputs": [
    {
     "data": {
      "text/html": [
       "<div>\n",
       "<style scoped>\n",
       "    .dataframe tbody tr th:only-of-type {\n",
       "        vertical-align: middle;\n",
       "    }\n",
       "\n",
       "    .dataframe tbody tr th {\n",
       "        vertical-align: top;\n",
       "    }\n",
       "\n",
       "    .dataframe thead th {\n",
       "        text-align: right;\n",
       "    }\n",
       "</style>\n",
       "<table border=\"1\" class=\"dataframe\">\n",
       "  <thead>\n",
       "    <tr style=\"text-align: right;\">\n",
       "      <th></th>\n",
       "      <th>model</th>\n",
       "      <th>Precision_micro</th>\n",
       "      <th>Precision_macro</th>\n",
       "      <th>Recall_micro</th>\n",
       "      <th>Recall_macro</th>\n",
       "      <th>F1_micro</th>\n",
       "      <th>F1_macro</th>\n",
       "      <th>Logloss</th>\n",
       "    </tr>\n",
       "  </thead>\n",
       "  <tbody>\n",
       "    <tr>\n",
       "      <th>0</th>\n",
       "      <td>LR_Base</td>\n",
       "      <td>0.826713</td>\n",
       "      <td>0.828805</td>\n",
       "      <td>0.826713</td>\n",
       "      <td>0.822981</td>\n",
       "      <td>0.826713</td>\n",
       "      <td>0.823412</td>\n",
       "      <td>0.753425</td>\n",
       "    </tr>\n",
       "    <tr>\n",
       "      <th>0</th>\n",
       "      <td>LR_tuned_optuna</td>\n",
       "      <td>0.831404</td>\n",
       "      <td>0.828572</td>\n",
       "      <td>0.831404</td>\n",
       "      <td>0.826992</td>\n",
       "      <td>0.831404</td>\n",
       "      <td>0.826684</td>\n",
       "      <td>0.623931</td>\n",
       "    </tr>\n",
       "    <tr>\n",
       "      <th>0</th>\n",
       "      <td>LR_tuned_RandSear</td>\n",
       "      <td>0.830570</td>\n",
       "      <td>0.827685</td>\n",
       "      <td>0.830570</td>\n",
       "      <td>0.825900</td>\n",
       "      <td>0.830570</td>\n",
       "      <td>0.825739</td>\n",
       "      <td>0.620994</td>\n",
       "    </tr>\n",
       "  </tbody>\n",
       "</table>\n",
       "</div>"
      ],
      "text/plain": [
       "               model  Precision_micro  Precision_macro  Recall_micro  \\\n",
       "0            LR_Base         0.826713         0.828805      0.826713   \n",
       "0    LR_tuned_optuna         0.831404         0.828572      0.831404   \n",
       "0  LR_tuned_RandSear         0.830570         0.827685      0.830570   \n",
       "\n",
       "   Recall_macro  F1_micro  F1_macro   Logloss  \n",
       "0      0.822981  0.826713  0.823412  0.753425  \n",
       "0      0.826992  0.831404  0.826684  0.623931  \n",
       "0      0.825900  0.830570  0.825739  0.620994  "
      ]
     },
     "execution_count": 53,
     "metadata": {},
     "output_type": "execute_result"
    }
   ],
   "source": [
    "model = pd.concat([model, get_metrics_multiclass(y_test, LogReg_tuned_RS.predict(X_test_tfidf), LogReg_tuned_RS.predict_proba(X_test_tfidf), 'LR_tuned_RandSear')])\n",
    "model"
   ]
  },
  {
   "cell_type": "markdown",
   "metadata": {},
   "source": [
    "Лучшие параметры:\n",
    "LogisticRegression(C=4.1684331763768085, class_weight='balanced',  multi_class='multinomial', random_state=10, solver='saga')"
   ]
  },
  {
   "cell_type": "code",
   "execution_count": 25,
   "metadata": {},
   "outputs": [
    {
     "data": {
      "text/html": [
       "<div>\n",
       "<style scoped>\n",
       "    .dataframe tbody tr th:only-of-type {\n",
       "        vertical-align: middle;\n",
       "    }\n",
       "\n",
       "    .dataframe tbody tr th {\n",
       "        vertical-align: top;\n",
       "    }\n",
       "\n",
       "    .dataframe thead th {\n",
       "        text-align: right;\n",
       "    }\n",
       "</style>\n",
       "<table border=\"1\" class=\"dataframe\">\n",
       "  <thead>\n",
       "    <tr style=\"text-align: right;\">\n",
       "      <th></th>\n",
       "      <th>model</th>\n",
       "      <th>Precision_micro</th>\n",
       "      <th>Precision_macro</th>\n",
       "      <th>Recall_micro</th>\n",
       "      <th>Recall_macro</th>\n",
       "      <th>F1_micro</th>\n",
       "      <th>F1_macro</th>\n",
       "      <th>Logloss</th>\n",
       "    </tr>\n",
       "  </thead>\n",
       "  <tbody>\n",
       "    <tr>\n",
       "      <th>0</th>\n",
       "      <td>LR_tuned_RandSear</td>\n",
       "      <td>0.83057</td>\n",
       "      <td>0.827685</td>\n",
       "      <td>0.83057</td>\n",
       "      <td>0.8259</td>\n",
       "      <td>0.83057</td>\n",
       "      <td>0.825739</td>\n",
       "      <td>0.620994</td>\n",
       "    </tr>\n",
       "  </tbody>\n",
       "</table>\n",
       "</div>"
      ],
      "text/plain": [
       "               model  Precision_micro  Precision_macro  Recall_micro  \\\n",
       "0  LR_tuned_RandSear          0.83057         0.827685       0.83057   \n",
       "\n",
       "   Recall_macro  F1_micro  F1_macro   Logloss  \n",
       "0        0.8259   0.83057  0.825739  0.620994  "
      ]
     },
     "execution_count": 25,
     "metadata": {},
     "output_type": "execute_result"
    }
   ],
   "source": [
    "get_metrics_multiclass(y_test, LogReg_tuned_RS.predict(X_test_tfidf), LogReg_tuned_RS.predict_proba(X_test_tfidf), 'LR_tuned_RandSear')"
   ]
  },
  {
   "cell_type": "code",
   "execution_count": 46,
   "metadata": {},
   "outputs": [],
   "source": [
    "y_test_ = y_test\n",
    "y_pred_ = pd.Series(LogReg_tuned_RS.predict(X_test_tfidf))\n",
    "# y_test_ = y_test_.value_counts().sort_index()\n",
    "# y_pred_ = y_pred_.value_counts().sort_index()"
   ]
  },
  {
   "cell_type": "code",
   "execution_count": 47,
   "metadata": {},
   "outputs": [
    {
     "data": {
      "text/plain": [
       "26869     0\n",
       "11521     3\n",
       "22360     8\n",
       "43489    10\n",
       "4725      6\n",
       "         ..\n",
       "2375     10\n",
       "40377     4\n",
       "33276     8\n",
       "36534     3\n",
       "16865     7\n",
       "Name: class, Length: 9591, dtype: int64"
      ]
     },
     "execution_count": 47,
     "metadata": {},
     "output_type": "execute_result"
    }
   ],
   "source": [
    "y_test_"
   ]
  },
  {
   "cell_type": "code",
   "execution_count": 48,
   "metadata": {},
   "outputs": [
    {
     "data": {
      "text/plain": [
       "0        0\n",
       "1        3\n",
       "2        8\n",
       "3       10\n",
       "4        6\n",
       "        ..\n",
       "9586    10\n",
       "9587     4\n",
       "9588     0\n",
       "9589     3\n",
       "9590     7\n",
       "Length: 9591, dtype: int64"
      ]
     },
     "execution_count": 48,
     "metadata": {},
     "output_type": "execute_result"
    }
   ],
   "source": [
    "y_pred_"
   ]
  },
  {
   "cell_type": "code",
   "execution_count": 55,
   "metadata": {},
   "outputs": [],
   "source": [
    "accuracy_lr = dict()\n",
    "for i,v in enumerate(y_test_):\n",
    "    if v == y_pred_[i]:\n",
    "        accuracy_lr[v] = accuracy_lr.get(v, 0) + 1\n",
    "accuracy_lr = pd.Series(accuracy_lr).sort_index()/y_test_.value_counts().sort_index()"
   ]
  },
  {
   "cell_type": "code",
   "execution_count": 56,
   "metadata": {},
   "outputs": [
    {
     "data": {
      "text/plain": [
       "0     0.772440\n",
       "1     0.786946\n",
       "2     0.941375\n",
       "3     0.820408\n",
       "4     0.838973\n",
       "5     0.923295\n",
       "6     0.836915\n",
       "7     0.858931\n",
       "8     0.780430\n",
       "9     0.854331\n",
       "10    0.814876\n",
       "11    0.717584\n",
       "12    0.790191\n",
       "dtype: float64"
      ]
     },
     "execution_count": 56,
     "metadata": {},
     "output_type": "execute_result"
    }
   ],
   "source": [
    "accuracy_lr"
   ]
  },
  {
   "cell_type": "code",
   "execution_count": 57,
   "metadata": {},
   "outputs": [
    {
     "data": {
      "text/html": [
       "<div>\n",
       "<style scoped>\n",
       "    .dataframe tbody tr th:only-of-type {\n",
       "        vertical-align: middle;\n",
       "    }\n",
       "\n",
       "    .dataframe tbody tr th {\n",
       "        vertical-align: top;\n",
       "    }\n",
       "\n",
       "    .dataframe thead th {\n",
       "        text-align: right;\n",
       "    }\n",
       "</style>\n",
       "<table border=\"1\" class=\"dataframe\">\n",
       "  <thead>\n",
       "    <tr style=\"text-align: right;\">\n",
       "      <th></th>\n",
       "      <th>class</th>\n",
       "      <th>proportion</th>\n",
       "    </tr>\n",
       "  </thead>\n",
       "  <tbody>\n",
       "    <tr>\n",
       "      <th>0</th>\n",
       "      <td>esport</td>\n",
       "      <td>0.772440</td>\n",
       "    </tr>\n",
       "    <tr>\n",
       "      <th>1</th>\n",
       "      <td>martial_arts</td>\n",
       "      <td>0.786946</td>\n",
       "    </tr>\n",
       "    <tr>\n",
       "      <th>2</th>\n",
       "      <td>tennis</td>\n",
       "      <td>0.941375</td>\n",
       "    </tr>\n",
       "    <tr>\n",
       "      <th>3</th>\n",
       "      <td>basketball</td>\n",
       "      <td>0.820408</td>\n",
       "    </tr>\n",
       "    <tr>\n",
       "      <th>4</th>\n",
       "      <td>volleyball</td>\n",
       "      <td>0.838973</td>\n",
       "    </tr>\n",
       "    <tr>\n",
       "      <th>5</th>\n",
       "      <td>boardgames</td>\n",
       "      <td>0.923295</td>\n",
       "    </tr>\n",
       "    <tr>\n",
       "      <th>6</th>\n",
       "      <td>athletics</td>\n",
       "      <td>0.836915</td>\n",
       "    </tr>\n",
       "    <tr>\n",
       "      <th>7</th>\n",
       "      <td>winter_sport</td>\n",
       "      <td>0.858931</td>\n",
       "    </tr>\n",
       "    <tr>\n",
       "      <th>8</th>\n",
       "      <td>football</td>\n",
       "      <td>0.780430</td>\n",
       "    </tr>\n",
       "    <tr>\n",
       "      <th>9</th>\n",
       "      <td>motosport</td>\n",
       "      <td>0.854331</td>\n",
       "    </tr>\n",
       "    <tr>\n",
       "      <th>10</th>\n",
       "      <td>autosport</td>\n",
       "      <td>0.814876</td>\n",
       "    </tr>\n",
       "    <tr>\n",
       "      <th>11</th>\n",
       "      <td>extreme</td>\n",
       "      <td>0.717584</td>\n",
       "    </tr>\n",
       "    <tr>\n",
       "      <th>12</th>\n",
       "      <td>hockey</td>\n",
       "      <td>0.790191</td>\n",
       "    </tr>\n",
       "  </tbody>\n",
       "</table>\n",
       "</div>"
      ],
      "text/plain": [
       "           class  proportion\n",
       "0         esport    0.772440\n",
       "1   martial_arts    0.786946\n",
       "2         tennis    0.941375\n",
       "3     basketball    0.820408\n",
       "4     volleyball    0.838973\n",
       "5     boardgames    0.923295\n",
       "6      athletics    0.836915\n",
       "7   winter_sport    0.858931\n",
       "8       football    0.780430\n",
       "9      motosport    0.854331\n",
       "10     autosport    0.814876\n",
       "11       extreme    0.717584\n",
       "12        hockey    0.790191"
      ]
     },
     "execution_count": 57,
     "metadata": {},
     "output_type": "execute_result"
    }
   ],
   "source": [
    "dict_labels = {0:'esport', 1:'martial_arts', 2:'tennis', 3:'basketball',\n",
    "        4:'volleyball', 5:'boardgames', 6:'athletics', 7:'winter_sport',\n",
    "        8:'football', 9:'motosport', 10:'autosport', 11:'extreme', 12:'hockey'}\n",
    "my_res = pd.DataFrame(accuracy_lr).reset_index()\n",
    "my_res['index'] = my_res['index'].map(dict_labels)\n",
    "my_res.rename(columns={'index': 'class', 0: 'proportion'}, inplace=True)\n",
    "my_res"
   ]
  },
  {
   "cell_type": "code",
   "execution_count": 58,
   "metadata": {},
   "outputs": [
    {
     "name": "stderr",
     "output_type": "stream",
     "text": [
      "C:\\Users\\albin\\AppData\\Local\\Temp\\ipykernel_17908\\3291314698.py:3: UserWarning: set_ticklabels() should only be used with a fixed number of ticks, i.e. after set_ticks() or using a FixedLocator.\n",
      "  barplot.set_xticklabels(barplot.get_xticklabels(), rotation=45, ha='right')\n"
     ]
    },
    {
     "data": {
      "image/png": "[encoded data removed]",
      "text/plain": [
       "<Figure size 1000x600 with 1 Axes>"
      ]
     },
     "metadata": {},
     "output_type": "display_data"
    }
   ],
   "source": [
    "plt.figure(figsize=(10, 6))\n",
    "barplot = sns.barplot(x='class', y='proportion', data=my_res)\n",
    "barplot.set_xticklabels(barplot.get_xticklabels(), rotation=45, ha='right')\n",
    "plt.tight_layout()\n",
    "plt.show()"
   ]
  },
  {
   "cell_type": "code",
   "execution_count": null,
   "metadata": {},
   "outputs": [],
   "source": []
  }
 ],
 "metadata": {
  "colab": {
   "authorship_tag": "ABX9TyN9PqGPdP1dInwheGSMS+Tn",
   "provenance": []
  },
  "kernelspec": {
   "display_name": "Python 3 (ipykernel)",
   "language": "python",
   "name": "python3"
  },
  "language_info": {
   "codemirror_mode": {
    "name": "ipython",
    "version": 3
   },
   "file_extension": ".py",
   "mimetype": "text/x-python",
   "name": "python",
   "nbconvert_exporter": "python",
   "pygments_lexer": "ipython3",
   "version": "3.12.1"
  },
  "widgets": {
   "application/vnd.jupyter.widget-state+json": {
    "38618940c531475ba78066d93fa737b9": {
     "model_module": "@jupyter-widgets/controls",
     "model_module_version": "1.5.0",
     "model_name": "DescriptionStyleModel",
     "state": {
      "_model_module": "@jupyter-widgets/controls",
      "_model_module_version": "1.5.0",
      "_model_name": "DescriptionStyleModel",
      "_view_count": null,
      "_view_module": "@jupyter-widgets/base",
      "_view_module_version": "1.2.0",
      "_view_name": "StyleView",
      "description_width": ""
     }
    },
    "42fbaf8fd9854f34ab97d86bdca78ab6": {
     "model_module": "@jupyter-widgets/controls",
     "model_module_version": "1.5.0",
     "model_name": "ProgressStyleModel",
     "state": {
      "_model_module": "@jupyter-widgets/controls",
      "_model_module_version": "1.5.0",
      "_model_name": "ProgressStyleModel",
      "_view_count": null,
      "_view_module": "@jupyter-widgets/base",
      "_view_module_version": "1.2.0",
      "_view_name": "StyleView",
      "bar_color": null,
      "description_width": ""
     }
    },
    "467e38d86cec45b2b4ef31d497eed30b": {
     "model_module": "@jupyter-widgets/base",
     "model_module_version": "1.2.0",
     "model_name": "LayoutModel",
     "state": {
      "_model_module": "@jupyter-widgets/base",
      "_model_module_version": "1.2.0",
      "_model_name": "LayoutModel",
      "_view_count": null,
      "_view_module": "@jupyter-widgets/base",
      "_view_module_version": "1.2.0",
      "_view_name": "LayoutView",
      "align_content": null,
      "align_items": null,
      "align_self": null,
      "border": null,
      "bottom": null,
      "display": null,
      "flex": null,
      "flex_flow": null,
      "grid_area": null,
      "grid_auto_columns": null,
      "grid_auto_flow": null,
      "grid_auto_rows": null,
      "grid_column": null,
      "grid_gap": null,
      "grid_row": null,
      "grid_template_areas": null,
      "grid_template_columns": null,
      "grid_template_rows": null,
      "height": null,
      "justify_content": null,
      "justify_items": null,
      "left": null,
      "margin": null,
      "max_height": null,
      "max_width": null,
      "min_height": null,
      "min_width": null,
      "object_fit": null,
      "object_position": null,
      "order": null,
      "overflow": null,
      "overflow_x": null,
      "overflow_y": null,
      "padding": null,
      "right": null,
      "top": null,
      "visibility": null,
      "width": null
     }
    },
    "4e6e7ef4c1f84abe984349bbc8755c97": {
     "model_module": "@jupyter-widgets/controls",
     "model_module_version": "1.5.0",
     "model_name": "FloatProgressModel",
     "state": {
      "_dom_classes": [],
      "_model_module": "@jupyter-widgets/controls",
      "_model_module_version": "1.5.0",
      "_model_name": "FloatProgressModel",
      "_view_count": null,
      "_view_module": "@jupyter-widgets/controls",
      "_view_module_version": "1.5.0",
      "_view_name": "ProgressView",
      "bar_style": "danger",
      "description": "",
      "description_tooltip": null,
      "layout": "IPY_MODEL_96996b18dd044aac8bea03fdaf978591",
      "max": 20,
      "min": 0,
      "orientation": "horizontal",
      "style": "IPY_MODEL_42fbaf8fd9854f34ab97d86bdca78ab6",
      "value": 0
     }
    },
    "701e9ba04a5b4be0bdab789fb45e4e31": {
     "model_module": "@jupyter-widgets/controls",
     "model_module_version": "1.5.0",
     "model_name": "HTMLModel",
     "state": {
      "_dom_classes": [],
      "_model_module": "@jupyter-widgets/controls",
      "_model_module_version": "1.5.0",
      "_model_name": "HTMLModel",
      "_view_count": null,
      "_view_module": "@jupyter-widgets/controls",
      "_view_module_version": "1.5.0",
      "_view_name": "HTMLView",
      "description": "",
      "description_tooltip": null,
      "layout": "IPY_MODEL_467e38d86cec45b2b4ef31d497eed30b",
      "placeholder": "​",
      "style": "IPY_MODEL_38618940c531475ba78066d93fa737b9",
      "value": "  0%"
     }
    },
    "7629ddeb85fd47319b6b4ac90626595c": {
     "model_module": "@jupyter-widgets/controls",
     "model_module_version": "1.5.0",
     "model_name": "HTMLModel",
     "state": {
      "_dom_classes": [],
      "_model_module": "@jupyter-widgets/controls",
      "_model_module_version": "1.5.0",
      "_model_name": "HTMLModel",
      "_view_count": null,
      "_view_module": "@jupyter-widgets/controls",
      "_view_module_version": "1.5.0",
      "_view_name": "HTMLView",
      "description": "",
      "description_tooltip": null,
      "layout": "IPY_MODEL_b1aa297d371446918f4b88eee6969718",
      "placeholder": "​",
      "style": "IPY_MODEL_e6a82568d6b2499c93260a640c2950cb",
      "value": " 0/20 [04:54&lt;?, ?it/s]"
     }
    },
    "96996b18dd044aac8bea03fdaf978591": {
     "model_module": "@jupyter-widgets/base",
     "model_module_version": "1.2.0",
     "model_name": "LayoutModel",
     "state": {
      "_model_module": "@jupyter-widgets/base",
      "_model_module_version": "1.2.0",
      "_model_name": "LayoutModel",
      "_view_count": null,
      "_view_module": "@jupyter-widgets/base",
      "_view_module_version": "1.2.0",
      "_view_name": "LayoutView",
      "align_content": null,
      "align_items": null,
      "align_self": null,
      "border": null,
      "bottom": null,
      "display": null,
      "flex": null,
      "flex_flow": null,
      "grid_area": null,
      "grid_auto_columns": null,
      "grid_auto_flow": null,
      "grid_auto_rows": null,
      "grid_column": null,
      "grid_gap": null,
      "grid_row": null,
      "grid_template_areas": null,
      "grid_template_columns": null,
      "grid_template_rows": null,
      "height": null,
      "justify_content": null,
      "justify_items": null,
      "left": null,
      "margin": null,
      "max_height": null,
      "max_width": null,
      "min_height": null,
      "min_width": null,
      "object_fit": null,
      "object_position": null,
      "order": null,
      "overflow": null,
      "overflow_x": null,
      "overflow_y": null,
      "padding": null,
      "right": null,
      "top": null,
      "visibility": null,
      "width": null
     }
    },
    "b1aa297d371446918f4b88eee6969718": {
     "model_module": "@jupyter-widgets/base",
     "model_module_version": "1.2.0",
     "model_name": "LayoutModel",
     "state": {
      "_model_module": "@jupyter-widgets/base",
      "_model_module_version": "1.2.0",
      "_model_name": "LayoutModel",
      "_view_count": null,
      "_view_module": "@jupyter-widgets/base",
      "_view_module_version": "1.2.0",
      "_view_name": "LayoutView",
      "align_content": null,
      "align_items": null,
      "align_self": null,
      "border": null,
      "bottom": null,
      "display": null,
      "flex": null,
      "flex_flow": null,
      "grid_area": null,
      "grid_auto_columns": null,
      "grid_auto_flow": null,
      "grid_auto_rows": null,
      "grid_column": null,
      "grid_gap": null,
      "grid_row": null,
      "grid_template_areas": null,
      "grid_template_columns": null,
      "grid_template_rows": null,
      "height": null,
      "justify_content": null,
      "justify_items": null,
      "left": null,
      "margin": null,
      "max_height": null,
      "max_width": null,
      "min_height": null,
      "min_width": null,
      "object_fit": null,
      "object_position": null,
      "order": null,
      "overflow": null,
      "overflow_x": null,
      "overflow_y": null,
      "padding": null,
      "right": null,
      "top": null,
      "visibility": null,
      "width": null
     }
    },
    "b8f6b72211064a5bb703506e98d43a78": {
     "model_module": "@jupyter-widgets/controls",
     "model_module_version": "1.5.0",
     "model_name": "HBoxModel",
     "state": {
      "_dom_classes": [],
      "_model_module": "@jupyter-widgets/controls",
      "_model_module_version": "1.5.0",
      "_model_name": "HBoxModel",
      "_view_count": null,
      "_view_module": "@jupyter-widgets/controls",
      "_view_module_version": "1.5.0",
      "_view_name": "HBoxView",
      "box_style": "",
      "children": [
       "IPY_MODEL_701e9ba04a5b4be0bdab789fb45e4e31",
       "IPY_MODEL_4e6e7ef4c1f84abe984349bbc8755c97",
       "IPY_MODEL_7629ddeb85fd47319b6b4ac90626595c"
      ],
      "layout": "IPY_MODEL_d743b0dca9654207a804fbca8588cfd5"
     }
    },
    "d743b0dca9654207a804fbca8588cfd5": {
     "model_module": "@jupyter-widgets/base",
     "model_module_version": "1.2.0",
     "model_name": "LayoutModel",
     "state": {
      "_model_module": "@jupyter-widgets/base",
      "_model_module_version": "1.2.0",
      "_model_name": "LayoutModel",
      "_view_count": null,
      "_view_module": "@jupyter-widgets/base",
      "_view_module_version": "1.2.0",
      "_view_name": "LayoutView",
      "align_content": null,
      "align_items": null,
      "align_self": null,
      "border": null,
      "bottom": null,
      "display": null,
      "flex": null,
      "flex_flow": null,
      "grid_area": null,
      "grid_auto_columns": null,
      "grid_auto_flow": null,
      "grid_auto_rows": null,
      "grid_column": null,
      "grid_gap": null,
      "grid_row": null,
      "grid_template_areas": null,
      "grid_template_columns": null,
      "grid_template_rows": null,
      "height": null,
      "justify_content": null,
      "justify_items": null,
      "left": null,
      "margin": null,
      "max_height": null,
      "max_width": null,
      "min_height": null,
      "min_width": null,
      "object_fit": null,
      "object_position": null,
      "order": null,
      "overflow": null,
      "overflow_x": null,
      "overflow_y": null,
      "padding": null,
      "right": null,
      "top": null,
      "visibility": null,
      "width": null
     }
    },
    "e6a82568d6b2499c93260a640c2950cb": {
     "model_module": "@jupyter-widgets/controls",
     "model_module_version": "1.5.0",
     "model_name": "DescriptionStyleModel",
     "state": {
      "_model_module": "@jupyter-widgets/controls",
      "_model_module_version": "1.5.0",
      "_model_name": "DescriptionStyleModel",
      "_view_count": null,
      "_view_module": "@jupyter-widgets/base",
      "_view_module_version": "1.2.0",
      "_view_name": "StyleView",
      "description_width": ""
     }
    }
   }
  }
 },
 "nbformat": 4,
 "nbformat_minor": 4
}
